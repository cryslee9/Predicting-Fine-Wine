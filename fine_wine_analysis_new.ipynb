{
 "cells": [
  {
   "cell_type": "markdown",
   "metadata": {},
   "source": [
    "# Wine Analysis "
   ]
  },
  {
   "cell_type": "code",
<<<<<<< HEAD
   "execution_count": 2,
=======
   "execution_count": 59,
   "metadata": {},
   "outputs": [
    {
     "name": "stderr",
     "output_type": "stream",
     "text": [
      "Updating HTML index of packages in '.Library'\n",
      "Making 'packages.html' ... done\n"
     ]
    }
   ],
   "source": [
    "install.packages(\"e1071\")"
   ]
  },
  {
   "cell_type": "code",
   "execution_count": 60,
>>>>>>> 8cfcf845f30f8e1bf47ca3eba70e9d32e1eadaf7
   "metadata": {},
   "outputs": [
    {
     "name": "stderr",
     "output_type": "stream",
     "text": [
      "Installing package into ‘/home/jupyter/R/x86_64-pc-linux-gnu-library/3.5’\n",
      "(as ‘lib’ is unspecified)\n"
     ]
    }
   ],
   "source": [
    "install.packages(\"e1071\")"
   ]
  },
  {
   "cell_type": "code",
   "execution_count": 3,
   "metadata": {},
   "outputs": [
    {
     "name": "stderr",
     "output_type": "stream",
     "text": [
      "Installing package into ‘/home/jupyter/R/x86_64-pc-linux-gnu-library/3.5’\n",
      "(as ‘lib’ is unspecified)\n",
      "── Attaching packages ─────────────────────────────────────── tidyverse 1.2.1 ──\n",
      "✔ ggplot2 3.0.0     ✔ purrr   0.2.5\n",
      "✔ tibble  1.4.2     ✔ dplyr   0.7.6\n",
      "✔ tidyr   0.8.1     ✔ stringr 1.3.1\n",
      "✔ readr   1.1.1     ✔ forcats 0.3.0\n",
      "── Conflicts ────────────────────────────────────────── tidyverse_conflicts() ──\n",
      "✖ dplyr::filter() masks stats::filter()\n",
      "✖ dplyr::lag()    masks stats::lag()\n",
      "Loading required package: lattice\n",
      "\n",
      "Attaching package: ‘caret’\n",
      "\n",
      "The following object is masked from ‘package:purrr’:\n",
      "\n",
      "    lift\n",
      "\n",
      "\n",
      "Attaching package: ‘GGally’\n",
      "\n",
      "The following object is masked from ‘package:dplyr’:\n",
      "\n",
      "    nasa\n",
      "\n"
     ]
    }
   ],
   "source": [
    "install.packages(\"GGally\")\n",
    "library(tidyverse)\n",
    "library(digest)\n",
    "library(repr)\n",
    "library(caret)\n",
<<<<<<< HEAD
    "library(e1071)\n",
    "library(GGally)"
=======
    "library(e1071)"
>>>>>>> 8cfcf845f30f8e1bf47ca3eba70e9d32e1eadaf7
   ]
  },
  {
   "cell_type": "code",
<<<<<<< HEAD
   "execution_count": 4,
=======
   "execution_count": 61,
>>>>>>> 8cfcf845f30f8e1bf47ca3eba70e9d32e1eadaf7
   "metadata": {},
   "outputs": [
    {
     "name": "stderr",
     "output_type": "stream",
     "text": [
      "Parsed with column specification:\n",
      "cols(\n",
      "  `fixed acidity` = col_double(),\n",
      "  `volatile acidity` = col_double(),\n",
      "  `citric acid` = col_double(),\n",
      "  `residual sugar` = col_double(),\n",
      "  chlorides = col_double(),\n",
      "  `free sulfur dioxide` = col_double(),\n",
      "  `total sulfur dioxide` = col_double(),\n",
      "  density = col_double(),\n",
      "  pH = col_double(),\n",
      "  sulphates = col_double(),\n",
      "  alcohol = col_double(),\n",
      "  quality = col_integer()\n",
      ")\n"
     ]
    }
   ],
   "source": [
    "white_wine <- read_delim(file = \"data/wine_quality_white.csv\", delim = \";\", col_names = TRUE)"
   ]
  },
  {
   "cell_type": "code",
<<<<<<< HEAD
   "execution_count": 5,
=======
   "execution_count": 62,
>>>>>>> 8cfcf845f30f8e1bf47ca3eba70e9d32e1eadaf7
   "metadata": {},
   "outputs": [
    {
     "name": "stderr",
     "output_type": "stream",
     "text": [
      "Parsed with column specification:\n",
      "cols(\n",
      "  `fixed acidity` = col_double(),\n",
      "  `volatile acidity` = col_double(),\n",
      "  `citric acid` = col_double(),\n",
      "  `residual sugar` = col_double(),\n",
      "  chlorides = col_double(),\n",
      "  `free sulfur dioxide` = col_double(),\n",
      "  `total sulfur dioxide` = col_integer(),\n",
      "  density = col_double(),\n",
      "  pH = col_double(),\n",
      "  sulphates = col_double(),\n",
      "  alcohol = col_double(),\n",
      "  quality = col_integer()\n",
      ")\n",
      "Warning message:\n",
      "“2 parsing failures.\n",
      "row # A tibble: 2 x 5 col     row col                  expected               actual file                 expected   <int> <chr>                <chr>                  <chr>  <chr>                actual 1  1296 total sulfur dioxide no trailing characters .5     'data/wine_quality_… file 2  1297 total sulfur dioxide no trailing characters .5     'data/wine_quality_…\n",
      "”"
     ]
    }
   ],
   "source": [
    "red_wine <- read_delim(file = \"data/wine_quality_red.csv\", delim = \";\", col_names = TRUE)"
   ]
  },
  {
   "cell_type": "code",
<<<<<<< HEAD
   "execution_count": 6,
   "metadata": {},
   "outputs": [
    {
     "name": "stderr",
     "output_type": "stream",
     "text": [
      "Warning message in (function (data, mapping, alignPercent = 0.6, method = \"pearson\", :\n",
      "“Removed 2 rows containing missing values”Warning message in (function (data, mapping, alignPercent = 0.6, method = \"pearson\", :\n",
      "“Removed 2 rows containing missing values”Warning message in (function (data, mapping, alignPercent = 0.6, method = \"pearson\", :\n",
      "“Removed 2 rows containing missing values”Warning message in (function (data, mapping, alignPercent = 0.6, method = \"pearson\", :\n",
      "“Removed 2 rows containing missing values”Warning message in (function (data, mapping, alignPercent = 0.6, method = \"pearson\", :\n",
      "“Removed 2 rows containing missing values”Warning message in (function (data, mapping, alignPercent = 0.6, method = \"pearson\", :\n",
      "“Removed 2 rows containing missing values”Warning message:\n",
      "“Removed 2 rows containing missing values (geom_point).”Warning message:\n",
      "“Removed 2 rows containing missing values (geom_point).”Warning message:\n",
      "“Removed 2 rows containing missing values (geom_point).”Warning message:\n",
      "“Removed 2 rows containing missing values (geom_point).”Warning message:\n",
      "“Removed 2 rows containing missing values (geom_point).”Warning message:\n",
      "“Removed 2 rows containing missing values (geom_point).”Warning message:\n",
      "“Removed 2 rows containing non-finite values (stat_density).”Warning message in (function (data, mapping, alignPercent = 0.6, method = \"pearson\", :\n",
      "“Removed 2 rows containing missing values”Warning message in (function (data, mapping, alignPercent = 0.6, method = \"pearson\", :\n",
      "“Removed 2 rows containing missing values”Warning message in (function (data, mapping, alignPercent = 0.6, method = \"pearson\", :\n",
      "“Removed 2 rows containing missing values”Warning message in (function (data, mapping, alignPercent = 0.6, method = \"pearson\", :\n",
      "“Removed 2 rows containing missing values”Warning message in (function (data, mapping, alignPercent = 0.6, method = \"pearson\", :\n",
      "“Removed 2 rows containing missing values”Warning message:\n",
      "“Removed 2 rows containing missing values (geom_point).”Warning message:\n",
      "“Removed 2 rows containing missing values (geom_point).”Warning message:\n",
      "“Removed 2 rows containing missing values (geom_point).”Warning message:\n",
      "“Removed 2 rows containing missing values (geom_point).”Warning message:\n",
      "“Removed 2 rows containing missing values (geom_point).”"
     ]
    },
    {
     "data": {},
     "metadata": {},
     "output_type": "display_data"
    },
    {
     "data": {
      "image/png": "iVBORw0KGgoAAAANSUhEUgAAA0gAAANICAMAAADKOT/pAAADAFBMVEUAAAABAQECAgIDAwME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\nSUVORK5CYII=",
      "text/plain": [
       "plot without title"
=======
   "execution_count": 63,
   "metadata": {},
   "outputs": [
    {
     "data": {
      "text/html": [
       "<dl class=dl-horizontal>\n",
       "\t<dt>fixed acidity</dt>\n",
       "\t\t<dd>6.8547876684361</dd>\n",
       "\t<dt>volatile acidity</dt>\n",
       "\t\t<dd>0.27824111882401</dd>\n",
       "\t<dt>citric acid</dt>\n",
       "\t\t<dd>0.334191506737444</dd>\n",
       "\t<dt>residual sugar</dt>\n",
       "\t\t<dd>6.39141486320947</dd>\n",
       "\t<dt>chlorides</dt>\n",
       "\t\t<dd>0.0457723560636995</dd>\n",
       "\t<dt>free sulfur dioxide</dt>\n",
       "\t\t<dd>35.3080849326256</dd>\n",
       "\t<dt>total sulfur dioxide</dt>\n",
       "\t\t<dd>138.360657411188</dd>\n",
       "\t<dt>density</dt>\n",
       "\t\t<dd>0.994027376480196</dd>\n",
       "\t<dt>pH</dt>\n",
       "\t\t<dd>3.18826663944467</dd>\n",
       "\t<dt>sulphates</dt>\n",
       "\t\t<dd>0.489846876276031</dd>\n",
       "\t<dt>alcohol</dt>\n",
       "\t\t<dd>10.5142670477746</dd>\n",
       "</dl>\n"
      ],
      "text/latex": [
       "\\begin{description*}\n",
       "\\item[fixed acidity] 6.8547876684361\n",
       "\\item[volatile acidity] 0.27824111882401\n",
       "\\item[citric acid] 0.334191506737444\n",
       "\\item[residual sugar] 6.39141486320947\n",
       "\\item[chlorides] 0.0457723560636995\n",
       "\\item[free sulfur dioxide] 35.3080849326256\n",
       "\\item[total sulfur dioxide] 138.360657411188\n",
       "\\item[density] 0.994027376480196\n",
       "\\item[pH] 3.18826663944467\n",
       "\\item[sulphates] 0.489846876276031\n",
       "\\item[alcohol] 10.5142670477746\n",
       "\\end{description*}\n"
      ],
      "text/markdown": [
       "fixed acidity\n",
       ":   6.8547876684361volatile acidity\n",
       ":   0.27824111882401citric acid\n",
       ":   0.334191506737444residual sugar\n",
       ":   6.39141486320947chlorides\n",
       ":   0.0457723560636995free sulfur dioxide\n",
       ":   35.3080849326256total sulfur dioxide\n",
       ":   138.360657411188density\n",
       ":   0.994027376480196pH\n",
       ":   3.18826663944467sulphates\n",
       ":   0.489846876276031alcohol\n",
       ":   10.5142670477746\n",
       "\n"
      ],
      "text/plain": [
       "       fixed acidity     volatile acidity          citric acid \n",
       "          6.85478767           0.27824112           0.33419151 \n",
       "      residual sugar            chlorides  free sulfur dioxide \n",
       "          6.39141486           0.04577236          35.30808493 \n",
       "total sulfur dioxide              density                   pH \n",
       "        138.36065741           0.99402738           3.18826664 \n",
       "           sulphates              alcohol \n",
       "          0.48984688          10.51426705 "
      ]
     },
     "metadata": {},
     "output_type": "display_data"
    }
   ],
   "source": [
    "white_wine_mean  <- white_wine  %>% select(-quality) %>% colMeans()\n",
    "white_wine_mean"
   ]
  },
  {
   "cell_type": "code",
   "execution_count": 64,
   "metadata": {},
   "outputs": [
    {
     "data": {
      "text/html": [
       "<dl class=dl-horizontal>\n",
       "\t<dt>fixed acidity</dt>\n",
       "\t\t<dd>8.31963727329581</dd>\n",
       "\t<dt>volatile acidity</dt>\n",
       "\t\t<dd>0.527820512820513</dd>\n",
       "\t<dt>citric acid</dt>\n",
       "\t\t<dd>0.270975609756098</dd>\n",
       "\t<dt>residual sugar</dt>\n",
       "\t\t<dd>2.53880550343965</dd>\n",
       "\t<dt>chlorides</dt>\n",
       "\t\t<dd>0.0874665415884928</dd>\n",
       "\t<dt>free sulfur dioxide</dt>\n",
       "\t\t<dd>15.8749218261413</dd>\n",
       "\t<dt>total sulfur dioxide</dt>\n",
       "\t\t<dd>&lt;NA&gt;</dd>\n",
       "\t<dt>density</dt>\n",
       "\t\t<dd>0.996746679174484</dd>\n",
       "\t<dt>pH</dt>\n",
       "\t\t<dd>3.31111319574734</dd>\n",
       "\t<dt>sulphates</dt>\n",
       "\t\t<dd>0.658148843026892</dd>\n",
       "\t<dt>alcohol</dt>\n",
       "\t\t<dd>10.4229831144465</dd>\n",
       "</dl>\n"
      ],
      "text/latex": [
       "\\begin{description*}\n",
       "\\item[fixed acidity] 8.31963727329581\n",
       "\\item[volatile acidity] 0.527820512820513\n",
       "\\item[citric acid] 0.270975609756098\n",
       "\\item[residual sugar] 2.53880550343965\n",
       "\\item[chlorides] 0.0874665415884928\n",
       "\\item[free sulfur dioxide] 15.8749218261413\n",
       "\\item[total sulfur dioxide] <NA>\n",
       "\\item[density] 0.996746679174484\n",
       "\\item[pH] 3.31111319574734\n",
       "\\item[sulphates] 0.658148843026892\n",
       "\\item[alcohol] 10.4229831144465\n",
       "\\end{description*}\n"
      ],
      "text/markdown": [
       "fixed acidity\n",
       ":   8.31963727329581volatile acidity\n",
       ":   0.527820512820513citric acid\n",
       ":   0.270975609756098residual sugar\n",
       ":   2.53880550343965chlorides\n",
       ":   0.0874665415884928free sulfur dioxide\n",
       ":   15.8749218261413total sulfur dioxide\n",
       ":   &lt;NA&gt;density\n",
       ":   0.996746679174484pH\n",
       ":   3.31111319574734sulphates\n",
       ":   0.658148843026892alcohol\n",
       ":   10.4229831144465\n",
       "\n"
      ],
      "text/plain": [
       "       fixed acidity     volatile acidity          citric acid \n",
       "          8.31963727           0.52782051           0.27097561 \n",
       "      residual sugar            chlorides  free sulfur dioxide \n",
       "          2.53880550           0.08746654          15.87492183 \n",
       "total sulfur dioxide              density                   pH \n",
       "                  NA           0.99674668           3.31111320 \n",
       "           sulphates              alcohol \n",
       "          0.65814884          10.42298311 "
>>>>>>> 8cfcf845f30f8e1bf47ca3eba70e9d32e1eadaf7
      ]
     },
     "metadata": {},
     "output_type": "display_data"
    }
   ],
   "source": [
<<<<<<< HEAD
    "red_wine_pairs  <- red_wine  %>% ggpairs()\n",
    "red_wine_pairs"
=======
    "red_wine_mean  <- red_wine  %>% select(-quality) %>% colMeans()\n",
    "red_wine_mean"
>>>>>>> 8cfcf845f30f8e1bf47ca3eba70e9d32e1eadaf7
   ]
  },
  {
   "cell_type": "code",
<<<<<<< HEAD
   "execution_count": 7,
=======
   "execution_count": 65,
>>>>>>> 8cfcf845f30f8e1bf47ca3eba70e9d32e1eadaf7
   "metadata": {},
   "outputs": [
    {
     "data": {},
     "metadata": {},
     "output_type": "display_data"
    },
    {
     "data": {
      "image/png": "iVBORw0KGgoAAAANSUhEUgAAAeAAAAHgCAMAAABKCk6nAAACuFBMVEUAAAABAQECAgIDAwME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",
      "text/plain": [
       "plot without title"
      ]
     },
     "metadata": {},
     "output_type": "display_data"
    }
   ],
   "source": [
<<<<<<< HEAD
    "white_wine_mean  <- white_wine  %>% select(-quality) %>% colMeans()\n",
    "white_wine_mean"
=======
    "options(repr.plot.height = 4, repr.plot.width = 4)\n",
    "white_wine_bar_chart  <- white_wine  %>% ggplot(aes(x = quality))+\n",
    "                    geom_bar()\n",
    "white_wine_bar_chart"
>>>>>>> 8cfcf845f30f8e1bf47ca3eba70e9d32e1eadaf7
   ]
  },
  {
   "cell_type": "code",
<<<<<<< HEAD
   "execution_count": 8,
=======
   "execution_count": 66,
   "metadata": {},
   "outputs": [
    {
     "data": {},
     "metadata": {},
     "output_type": "display_data"
    },
    {
     "data": {
      "image/png": "iVBORw0KGgoAAAANSUhEUgAAAeAAAAHgCAMAAABKCk6nAAACslBMVEUAAAABAQECAgIDAwME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\ngB3v/+mhyi+72RdKAAAAAElFTkSuQmCC",
      "text/plain": [
       "plot without title"
      ]
     },
     "metadata": {},
     "output_type": "display_data"
    }
   ],
   "source": [
    "red_wine_bar_chart  <- red_wine  %>% ggplot(aes(x = quality))+\n",
    "                    geom_bar()\n",
    "red_wine_bar_chart"
   ]
  },
  {
   "cell_type": "code",
   "execution_count": 67,
   "metadata": {},
   "outputs": [
    {
     "data": {},
     "metadata": {},
     "output_type": "display_data"
    },
    {
     "data": {
      "image/png": "iVBORw0KGgoAAAANSUhEUgAAAeAAAAHgCAMAAABKCk6nAAADAFBMVEUAAAABAQECAgIDAwME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\nAElFTkSuQmCC",
      "text/plain": [
       "plot without title"
      ]
     },
     "metadata": {},
     "output_type": "display_data"
    }
   ],
   "source": [
    "white_fixed_acidity_plot  <- white_wine  %>% ggplot(aes(x = `fixed acidity`, y = quality))+ \n",
    "                    geom_point()+\n",
    "                    xlab(\"Fixed Acidity\")+\n",
    "                    ylab(\"Quality\")\n",
    "white_fixed_acidity_plot"
   ]
  },
  {
   "cell_type": "code",
   "execution_count": 68,
>>>>>>> 8cfcf845f30f8e1bf47ca3eba70e9d32e1eadaf7
   "metadata": {},
   "outputs": [
    {
     "data": {
<<<<<<< HEAD
      "text/html": [
       "<dl class=dl-horizontal>\n",
       "\t<dt>fixed acidity</dt>\n",
       "\t\t<dd>8.31963727329581</dd>\n",
       "\t<dt>volatile acidity</dt>\n",
       "\t\t<dd>0.527820512820513</dd>\n",
       "\t<dt>citric acid</dt>\n",
       "\t\t<dd>0.270975609756098</dd>\n",
       "\t<dt>residual sugar</dt>\n",
       "\t\t<dd>2.53880550343965</dd>\n",
       "\t<dt>chlorides</dt>\n",
       "\t\t<dd>0.0874665415884928</dd>\n",
       "\t<dt>free sulfur dioxide</dt>\n",
       "\t\t<dd>15.8749218261413</dd>\n",
       "\t<dt>total sulfur dioxide</dt>\n",
       "\t\t<dd>&lt;NA&gt;</dd>\n",
       "\t<dt>density</dt>\n",
       "\t\t<dd>0.996746679174484</dd>\n",
       "\t<dt>pH</dt>\n",
       "\t\t<dd>3.31111319574734</dd>\n",
       "\t<dt>sulphates</dt>\n",
       "\t\t<dd>0.658148843026892</dd>\n",
       "\t<dt>alcohol</dt>\n",
       "\t\t<dd>10.4229831144465</dd>\n",
       "</dl>\n"
      ],
      "text/latex": [
       "\\begin{description*}\n",
       "\\item[fixed acidity] 8.31963727329581\n",
       "\\item[volatile acidity] 0.527820512820513\n",
       "\\item[citric acid] 0.270975609756098\n",
       "\\item[residual sugar] 2.53880550343965\n",
       "\\item[chlorides] 0.0874665415884928\n",
       "\\item[free sulfur dioxide] 15.8749218261413\n",
       "\\item[total sulfur dioxide] <NA>\n",
       "\\item[density] 0.996746679174484\n",
       "\\item[pH] 3.31111319574734\n",
       "\\item[sulphates] 0.658148843026892\n",
       "\\item[alcohol] 10.4229831144465\n",
       "\\end{description*}\n"
      ],
      "text/markdown": [
       "fixed acidity\n",
       ":   8.31963727329581volatile acidity\n",
       ":   0.527820512820513citric acid\n",
       ":   0.270975609756098residual sugar\n",
       ":   2.53880550343965chlorides\n",
       ":   0.0874665415884928free sulfur dioxide\n",
       ":   15.8749218261413total sulfur dioxide\n",
       ":   &lt;NA&gt;density\n",
       ":   0.996746679174484pH\n",
       ":   3.31111319574734sulphates\n",
       ":   0.658148843026892alcohol\n",
       ":   10.4229831144465\n",
       "\n"
      ],
=======
      "image/png": "iVBORw0KGgoAAAANSUhEUgAAAeAAAAHgCAMAAABKCk6nAAADAFBMVEUAAAABAQECAgIDAwME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\nfMzIKS4AAAAASUVORK5CYII=",
>>>>>>> 8cfcf845f30f8e1bf47ca3eba70e9d32e1eadaf7
      "text/plain": [
       "       fixed acidity     volatile acidity          citric acid \n",
       "          8.31963727           0.52782051           0.27097561 \n",
       "      residual sugar            chlorides  free sulfur dioxide \n",
       "          2.53880550           0.08746654          15.87492183 \n",
       "total sulfur dioxide              density                   pH \n",
       "                  NA           0.99674668           3.31111320 \n",
       "           sulphates              alcohol \n",
       "          0.65814884          10.42298311 "
      ]
     },
     "metadata": {},
     "output_type": "display_data"
    }
   ],
   "source": [
<<<<<<< HEAD
    "red_wine_mean  <- red_wine  %>% select(-quality) %>% colMeans()\n",
    "red_wine_mean"
=======
    "red_fixed_acidity_plot  <- red_wine  %>% ggplot(aes(x = `fixed acidity`, y = quality))+ \n",
    "                    geom_point()+\n",
    "                    xlab(\"Fixed Acidity\")+\n",
    "                    ylab(\"Quality\")\n",
    "red_fixed_acidity_plot"
>>>>>>> 8cfcf845f30f8e1bf47ca3eba70e9d32e1eadaf7
   ]
  },
  {
   "cell_type": "code",
<<<<<<< HEAD
   "execution_count": 9,
=======
   "execution_count": 69,
>>>>>>> 8cfcf845f30f8e1bf47ca3eba70e9d32e1eadaf7
   "metadata": {},
   "outputs": [
    {
     "data": {},
     "metadata": {},
     "output_type": "display_data"
    },
    {
     "data": {
<<<<<<< HEAD
      "image/png": "iVBORw0KGgoAAAANSUhEUgAAAeAAAAHgCAMAAABKCk6nAAACuFBMVEUAAAABAQECAgIDAwME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",
=======
      "image/png": "iVBORw0KGgoAAAANSUhEUgAAAeAAAAHgCAMAAABKCk6nAAADAFBMVEUAAAABAQECAgIDAwME\nBAQFBQUGBgYHBwcICAgJCQkKCgoLCwsMDAwNDQ0ODg4PDw8QEBARERESEhITExMUFBQVFRUW\nFhYXFxcYGBgZGRkaGhobGxscHBwdHR0eHh4fHx8gICAhISEiIiIjIyMkJCQlJSUmJiYnJyco\nKCgpKSkqKiorKyssLCwtLS0uLi4vLy8wMDAxMTEyMjIzMzM0NDQ1NTU2NjY3Nzc4ODg5OTk6\nOjo7Ozs8PDw9PT0+Pj4/Pz9AQEBBQUFCQkJDQ0NERERFRUVGRkZHR0dISEhJSUlKSkpLS0tM\nTExNTU1OTk5PT09QUFBRUVFSUlJTU1NUVFRVVVVWVlZXV1dYWFhZWVlaWlpbW1tcXFxdXV1e\nXl5fX19gYGBhYWFiYmJjY2NkZGRlZWVmZmZnZ2doaGhpaWlqampra2tsbGxtbW1ubm5vb29w\ncHBxcXFycnJzc3N0dHR1dXV2dnZ3d3d4eHh5eXl6enp7e3t8fHx9fX1+fn5/f3+AgICBgYGC\ngoKDg4OEhISFhYWGhoaHh4eIiIiJiYmKioqLi4uMjIyNjY2Ojo6Pj4+QkJCRkZGSkpKTk5OU\nlJSVlZWWlpaXl5eYmJiZmZmampqbm5ucnJydnZ2enp6fn5+goKChoaGioqKjo6OkpKSlpaWm\npqanp6eoqKipqamqqqqrq6usrKytra2urq6vr6+wsLCxsbGysrKzs7O0tLS1tbW2tra3t7e4\nuLi5ubm6urq7u7u8vLy9vb2+vr6/v7/AwMDBwcHCwsLDw8PExMTFxcXGxsbHx8fIyMjJycnK\nysrLy8vMzMzNzc3Ozs7Pz8/Q0NDR0dHS0tLT09PU1NTV1dXW1tbX19fY2NjZ2dna2trb29vc\n3Nzd3d3e3t7f39/g4ODh4eHi4uLj4+Pk5OTl5eXm5ubn5+fo6Ojp6enq6urr6+vs7Ozt7e3u\n7u7v7+/w8PDx8fHy8vLz8/P09PT19fX29vb39/f4+Pj5+fn6+vr7+/v8/Pz9/f3+/v7////i\nsF19AAAACXBIWXMAABJ0AAASdAHeZh94AAAgAElEQVR4nO2dCXwN1+LHZ+6afRORSIKgYgkt\nEUJVRRUtQeyEWBpqLa+talGvqqTVerZW+6iqaqutei2li+ry6F+LVzzaaqhagojRVmLPNv/Z\n7n7PNXNku/f9vp9PMuecOb85M/PNnTtzRQ7DA5+Gqe4dAJULBPs4EOzjQLCPA8E+DgT7OBDs\n40Cwj6NZ8J9aKNHU20ZxKW3wL7rczTLa4CW63PUyyuCNIlXd6AVzWijT1NtGSTllsPQiXa6Y\npw3+SZe7wdMGL6nqBsGOQDAEE4IQTAMEk4MQTAMEQzAhCME0QDA5CME0QDAEE4IQTAMEk4MQ\nTAMEQzAhCME0QDA5CME0QHDlCP64f7uhOzju1FNd0h4Zndrr5QtKu1vBmxKDYybdYoMQrFAz\nBOcwImtOJTIKQ5QV7gQvlXq08rxFCFaoEYIPmyVnoRMYKxvkNe4Em+QeSzxuEoIV6AVf1kK5\nx7XrFKt32ARPkdeUuQ7zndIjzeMmy65o2j8rpTxt8CpdroSnDV5T06uIXvAVLZR7XPum4qyR\nTfAkeU2Z6zDfKD3u9bjJsqua9s9KKU8bvEaXK+Fpg9fV9LpML1jT9cTzJXq/rCxgtE3wWnmN\nm0t0gUHuscDjJnGJVqgRgrlZkrJlx+Itfh9QbqPdvQfPk3o09LxFCFaoGYK5tWlNum/iuNwJ\nd945rE/TDs+dU9rdPib9M9YUNijf8wYhWKGGCCaBDzrIQQimAYIhmBCEYBogmByEYBogGIIJ\nQQimAYLJQQimAYIhmBCEYBogmByEYBogGIIJQQimAYLJQQimAYIhmBCEYBogmByEYBogGIIJ\nQQimAYLJQQimAYIhmBCEYBogmByEYBogGIIJQQimAYLJQQimAYIhmBCEYBogmByEYBogGIIJ\nQQimAYLJQQimAYIhmBCEYBogmByEYBogGIIJQQimAYLJQQimAYIhmBCEYBogmByEYBogGIIJ\nQQimAYLJQQimAYIhmBCEYBogmByEYBogGIIJQQimAYLJQQimAYIhmBCEYBogmByEYBogGIIJ\nQe8XnPds5pAnf4ZgQtDrBZePW3H1xtuDrJPh3WLDZ8MZRtcksnaP4xwnTlnHGoIas8IigNWL\nU1HqhKJe+GKlL7EoNumEL33T8Fg/MSAUjQxjaBYWKFb9WEafGBNxZ6zRHK1n2EAdoxvCcXlz\nu3ef2Co89r7GoQ3HZnR+aOaDXYcHsvrIUENgk0BDWLuYiPb/kffn06GdRn4rF9cK+9Ain+PW\nZ3Qet99pt90K3tU6PDa7wPPxer/gS+lHeP7P9FyVgq2T1PkfNzGVRMPTzW/dSfeNuDv/EIsm\nacK8uVKzkZss7d0Ox912J3gTK/ZM8Hy83i+Yn7Gk6Pq72TfVCY6zneHGFS7WSqaaTjHC7vzs\nLxXDTgllVm6+S140c9xvd4LD5J4zPB6wDwj+Y3J6etZvYumVESNGTCzxiM52gtkK8+lCsJpO\nrLA77yvlHSUlZ5SiUVmedNjvct7lUAqVjnd6PODyUs8nhJjjaYOqctbX460Fl0xbcenqxsw/\nheJzaWlpGeUesbNaiYIDVfUSdmeDUtxeXv6bUlQmMWVOOuy3cK/hzCWlY5LHA3bNqcPNgCqD\nqnqVqBe8v8914fvYLeou0eG281unAkwS6KmmUwRnncDW7xhnvTtIkBfxFxz2290lOkDuOc7j\nAXv/JfrH9KvC9yyVgk9Yz69hv93lumIJPxp7607sB+L+zJTKi8TiCLk5f6C03Oi43+4Er5Q6\nRni+jfZ+wVezVly+uWnAOXWCuV3ie1yw2S/pB+UlwOqld0y9fM12um7bN4UaA5Wq9BAVZtRb\n1ob4m6ICWZ2ZlZ6pmCSOO5LdrFm3GGNgw3BDWKeUhO6DWiYmC9deo1EYTc+aogNMDT6S9+f1\ne+qnbZCLjwj7EHmYy89pl/DgdqfddvuY9FasMfC+E56P1/sF8yfnZQ594pC1qmlv8EEHiRok\n2AlNewPBJCCYDghWgGBHIBiCCUEIpgGCyUEIpgGCIZgQhGAaIJgchGAaIBiCCUEIpgGCyUEI\npgGCIZgQhGAaIJgchGAaIBiCCUEIpgGCyUEIpgGCIZgQhGAaIJgchGAaIBiCCUEIpgGCyUEI\npgGCIZgQhGAaIJgchGAaIBiCCUEIpgGCyUEIpgGCIZgQhGAaIJgchGAaIBiCCUEIpgGCyUEI\npgGCIZgQhGAaIJgchGAaIBiCCUEIpgGCyUEIpgGCIZgQhGAaIJgchGAaIBiCCUEIpgGCyUEI\npgGCIZgQhGAaIJgchGAaIBiCCUEIpgGCyUEIpgGCiYLzR8ZGdT7Ece9G6aWZkFjbjEh2MyOx\njMMX69TkNJWSXVHnPuBUDdLr/MQmP5YVJ7Dt0rdZgp5hgwJYY/1QY/gLHHesuZ9f82Mct2ts\n16wv5R0/PrNHxrPju2ZuESvFfN7cB/ssztd8vov/3JHVdexOzTmvEVwgzWCn/27Wreciqz76\n/CLNwqb75S1pytsV4o7/Uteydp5QKy6UJkvtpNlwsTQ/mulNrTmvETxKPknxlTgVZQUQIy9i\nI6RFwBFhx/tZV5r3CJ6myOUFWs/3OXmizPCTGnM1V3CRI/XlE1Oz/Vp2zzKb4nphx0Nta5cU\nFZXcIRe7FWnkX8o2tmjMFfNXtA6lBK+q6VVIL/iaI3EOZ7Cm4nRj8Kaw43ZT1L507VpZA7mY\ndk0jlhmKN2vMlfLXtQ6lBG+o6XWFXrDTpeBB+fgiqsDSbRAiL8LN8vJHYcfvta3dIVyih8nF\nx7ReMZVpiU25GnM19xLttKET0iTq7PsDqsoVDS0+l5fbF0oLyeJ3AZa1Y4Ra8Wlp5uNGWt9K\nuWJ5Atv5WnNeI5g71MbPEPcBx00yOp9Wd9z6Uk5+arJUWdeq8tRkWRWeGCy+VsVnK5OeMfTi\nuA9DWTb0Q4578+6YdivluaF396vXPKNT3bYvnefEx6QDQxMSx2l9HQrBP15tH9Nxreac9wj2\nCD7oIAHBdECwAgQ7AsEQTAhCMA0QTA5CMA0QDMGEIATTAMHkIATTAMEQTAhCMA0QTA5CMA0Q\nDMGEIATTAMHkIATTAMEQTAhCMA0QTA5CMA0QDMGEIATTAMHkIATTAMEQTAhCMA0QTA5CMA0Q\nDMGEIATTAMHkIATTAMEQTAhCMA0QTA5CMA3/I4KLIVhz0KsERz7yIwRrDHqV4C46JmnROQjW\nEvQqwXz+intYfc8N1yBYddC7BAucXZrChGTvgWCVQa8TzPM/DWcYpuM+CFYV9DbB5xe3YvS9\nNm1pq/8cgtUEvUrwzQ/TDUxijnibVdyzEQSrCXqV4AgmaMwupfwxC8Fqgl4luNMa25/AO70G\ngtUEvUpw8i/y8sNm7uVCsGvQqwQz8q1zyTwTBKsNepFgu78Y2AaC1Qa9SPDBZUzfh0Sy5+ZB\nsNqgFwnm+R5HyWIh2H3QqwSrQdPeQDCJahCcuJBPtALBaoPeI7j9Er69FQhWG/QewSrRtDcQ\nTAKC6YBgBTeCE+2BYLVB7xF8tz0QrDboPYLtuOzheVjT3kAwieoVvCMCgtUGvUvw1sx7hOtz\nanCkfeO27IwpeyGYEPQqwRsYQxxT149J22b/cs7aV/DxuKskwQVj64dEJSZlzGwbZtY5TWPk\nijJ7IHvL+ZNYp+kGXedNcpptVmli/YWvZvWjUyP1hroxRlOo2VjrrmBz3Si9vu6UB4bPSKrd\nPJpl9P37pz+bx3EvBbC6Wk07Ts4ZkTH7BMf9u13txnOFY/pbozodZj5YJyQkfuii8d3HLh55\nV/O6odE9j3HcgcndR31qf/h2gk//vffAVwrUenIvOPexnpnveg7e1r8H9yzi9YdLlncpsmsc\n95WnS3RBzK1U1Via/J5hX407sk76OUnlmhMCpkOfSvO8PWd3/DbBvzUU1/W4oOr8EwTvk6YI\nfNhj8HYEB2/lef0hnp8+2dZ2Mf2rqQMfO0ISPKYSDVQ2ox2rGcpkd/2JgWYNpIV5r+34bYKz\n5D5LVJ1/guBO8jY2ewrejmC/z3g+ZCfP76pra8tNfyqvaNXQS0LxlREjRkwscSShYs95lRLm\nWA1SliHEgF5Zvmw7/vJSSyleXpdRoopyvtS1sUh5q3ncU9BNzpWb7gW3HniTbzGb5zcH2gs+\nyPOlw3YIxdnJycndeEfiKvSUVy1BjlWTsgx06WjBckOwlHdDHXldL3frVFKobH/6bWxDptRa\nchC8nrmPf1o/bl5sR1sbl35M+D55o7XuSM+KPONVzP2O1Y7KCzSZGIhWZpX+wnb8tku0ciZm\nqbqCEi7RTeRtvO4peFuPSRty+KvCYcfb/beGsqxPeP7m4J0Ewcf9KvisVx2h+++wr/rvlGeK\njc4Pc9tduDvfslJajrA7fpvgvdIFoclpVeefIHiztP00T7fiFfBBx7FfHP6f8MbMA9zyrOsE\nwdx/WhlZvTmwXvsw9tYPP9pnCqeaj9Zo0gcLl1O9Qarq/VjGIFQNSdHN2gTp/MULbXjD+P7C\nrVIn8cEqICS1d9P4Xjs5LidC55d2gstNNesiUusYWNbQqHfbqNbpzQP89aw+fhPHvXd31J0L\n8+0O3+4x6Ye+cY1UT1BLeEz6vFt0syc8/oxU/L8mla0bmfHkadslWwv4oINE9XzQUctCMNm3\npr2BYBLVI7ivRDv/pMkuXiGYEPQqwQr5nbdCsNqgNwrm9yVDsNqgVwrO94dgtUFvFFy+IA6C\n1Qa9SvCdEkmRzOMQrDbohYJbd11208UrBBOCXiVYDZr2BoJJVJPg37e8veV3CNYS9CbBn7SS\nPs1t/RkEqw96keCljP+wJWuXZoUwS4Ta1nQIVhP0HsGHdalnZIX36/fy/NuEP+OgaW8gmEQ1\nCH4o9IJSuhI7lL96TwwEqwl6j+CEh6zFWbXn1WeWQ7CaoPcINr9oLb7FMFGr3fuFYKeg9wgO\nWmgtvm74ooTgF4Kdgt4juGV/a3EMPotWHfQewTMN/1VKh01jIFht0HsEnw+Lkf5LUvnH0eZc\nCFYb9B7B/NehTL2M0X3jmICPyX4h2CnoRYL5U5PF/6dQ9+HjHvxCsFPQmwQLFJ0p9GQXgl2C\nXib41mjaGwgmAcF0QLACBDsCwRBMCEIwDRBMDkIwDRAMwYQgBNMAweQgBNMAwRBMCEIwDRBM\nDkIwDRAMwYQgBNMAweQgBNMAwRBMCEIwDRBMDkIwDRAMwYQgBNMAweQgBNMAwRBMCEIwDRBM\nDkIwDRAMwYQgBNMAweQgBNMAwRBMCEIwDRBMDkIwDRAMwYTg/4zgI4+nj90qLKMYRm9mGDPr\nMPkrq1R1jlVN0yhZ8oySJ4+gk6s6lmGF/dAFCLuUWr/+gCf6jsowsroAPSusYYwdYhsPTqld\nq0nLO1tFmQMaBrOs3mAIGy8cw/uj+sz+TT6szW2iW80akz7j1+OtA4NSZvQZvclywGef7z90\nZUHxn99N6DVlL8edXzp40BLrjErvZPV9+oSlsiO79/T/Op2u6x+M6PdcnipXjlSX4J3SrG9z\nOC3Gaib1uYniImq/eFizLa2h1omMp8sHfKqFWLnvxhvilIfmDedSxWrKWXmlNCdrzGG5slis\nBGxzPF+DxcaGx7TqrT7B8h+qZaKqxEHloswTmyYc1XGdm/XyBNGT5EqOPFdprSfl6hPSuvfl\nygNS5YA8+V+98/an6zW5x/AaKLjILUcr6WRXB8rUhTquqGiJu/WPS0eszCPZRmlUJpVuI60b\nL1eMf4mVlUqP3fbna5DcVtv92fRE8VU1vWx/iEOz4Otu+bXiz3O1YZl19sL168+7Wz9NOuL6\ncqWF0thYXiRJ68bKFbZQrCxXeuyyP1/95LYQ92fTE6U31fS6Si/Y/RXhvHJttszB682kyItE\n4bD2uFu/RjrivnLF8mIdJi/liUmVF34rqbJDrgQ6TDk5V27sUgMv0YQNrpV2uPehCj/dVY7p\nbEdpKc2z3t11fRd58tcfpTffeG661Dj7iPQTHvmTtO5cW7Filt+suZFSj8UOpytPuqT77/Ie\nwdwHHSISZ53h3vD85KN5elnNeUIPo14f3aZWoyC7HmadITJAeDbyM4rPdMrs0Gy9w9yJaY0i\nush3vQVjA1m/5k0iOm58VXjY8k+KaPzoKeWAv0+vE5/5U/HFxa3CWr9ygds/KLbugB+Vdccn\nJ9TqaplG+tz85uEpa51O19nJDWo/8G/1Xq3ggw4q8EEHBBOCEEwDBJODEEwDBEMwIQjBNEAw\nOQjBNEAwBBOCEEwDBJODEEwDBEMwIQjBNEAwOQjBNEAwBBOCEEwDBJODEEwDBEMwIQjBNEAw\nOQjBNEAwBBOCEEwDBJODEEwDBEMwIQjBNEAwOQjBNEAwBBOCEEwDBJODEEwDBEMwIQjBNEAw\nOQjBNEAwBBOCEEwDBJODEEwDBEMwIQjBNEAwOQjBNEAwBBOCEEwDBJODEEwDBEMwIQjBNEAw\nOQjBNEAwBBOCEEwDBJODEEwDBEMwIQjBNEAwOQjBNEAwBBOCEEwDBJODEEwDBEMwIQjBNEAw\nOVgZgnekfw/BhKAvCP5r5AB1gndP7f/oQfuGMm5qZGCjgU0aZjzQoOnQ+IA6qQH60ESzISYp\nOLRjQkBktzoBsV0izGF+rC5UmbvIT8cYI3W6EAPDBOoZXZOogHrxejYkVKeLEQKjpvb/WzTD\nGJqH+EXG14pqmpz2yA8cl9/SZIzv2aDp6I71W4vzkr0zZsiz/RNqN27bacLqR/r/7QDHFbyc\nOWLB/fVbPNQ+Pnl8y/i0nKxhLzw3ZMy7QudvJndOjvUPajF3QL3aTWdzHyTHt+8VEZj49+Ht\nUtp2zH5eCDw3YcDso+LhHJ87cNwW6cA2jBmSk8dxx2YPm/gpjSZB8MVXRmSuOM9xB//Wf+pu\nQq+8BUPGvucUdBZ8ZOaASV+5JDUJzlkzUpXg1eLEdv4f2bWUNbzNibBUYFqb7zBH6BBuuFMP\n/03n7iaEh3NLHGfjq0XoGCE42C/NbvY4p0xm1jB3j9R7zq11unKj5F4xm3r2I3/xGFa77ZTb\nQOwz2jHoJPhraV7fF5yjWgTvzr6uSnBusHQqYs7amnJUKbpNQuMc63NcetR5khh+yV/lKG04\n7l659Dn3llwY3E5efqPeq83Ti3L2iRhpEfyru04D5T5vOwQdBV9oKnXx2+sU1SD4ctYBXhb8\nxsSJE2cUE1FmzWX+bWtqrPLs3R5Os9k1cu3RwrVJIVX1KKf/Ui4UTxWPkQshypp55HNCpOwe\nOdtM2cYGd52UAcY6BEsculimfV3mmLyhQfDSpbwieHZycnI3csf1ylg7bE3xqk/f7eAk2M2g\n5B+01qpH+f0PpfAonykXjErD7FueQzcoc5wmKNtY56ZLufLukelhM4eV/IuOzaXW0i0FH8gq\nsgi+VlhYWHSRyG7lsI/amgaqPn23Q4BjtY9LB+MgYjZb7SC1Cy4qUwavvjhfLrSLlpfryeeE\nyI0Jcra/IvH/3HVSfggWOAQLHbqcU17lW5yi6gUvGjB8+PA+gxda6h7eV8ZJQz1t11Js+SGv\nTCZudqg2yGvq3GP2YdK9U9O8IY4N7uZ0lxDuzt+TCp0KuDPShdX85ZtSw30XtLz5Wt5Kz9cW\nsxGHnpa2ke220xdmcV2LMw5Bp5usZVK+n3NUveAisfuI7dY5wz3sdP6CRP+kFfaHW7a/Lsvo\nAnVsSBCrD9QxrPggJFxRxaVBqBpZ4cujPVbIWy7BQiC0oX+cxYOQZU3GxJx87mXhmYr1Y/Xh\nfoyp6wnuSFZsaFI4y7JGY720O/xbLC/g9vaJjEwKYg3hZsYUYWADW0SHd0gJjR11hDs7p6FR\n2A3G0EjYP33zXX3MjNmPZfQJYSaD0Vi3qRC4o0FgivhAxX3YPqj+lBNC4dfRcSFdvhCUpwQn\nTD/l/mx45ga/v1/tWul7uAsrkvwTF+S77/XZvSFxY3Idg86PSWtbBzaadcapUesnWeoek1zB\nBx0katQHHQ5o2hsIJgHBdECwAgQ7AsEQTAhCMA0QTA5CMA0QDMGEIATTAMHkIATTAMEQTAhC\nMA0QTA5CMA0QDMGEIATTAMHkIATTAMEQTAhCMA0QTA5CMA0QDMGEIATTAMHkIATTAMEQTAhC\nMA0QTA5CMA0QDMGEIATTAMHkIATTAMEQTAhCMA0QTA5CMA0QDMGEIATTAMHkIATTAMEQTAhC\nMA0QTA5CMA0QDMGEIATTAMHkIATTAMEQTAhCMA0QTA5CMA0QDMGEIATTAMHkIATTAMEQTAhC\nMA0QTA5CMA0QDMGEIATTAMHkIATTAMEQTAhCMA0QTA5CMA0QfDuC33woS5xHVWTntCFzci+s\nGTPq1YL99yckT2vfoNPSScPmdw4L63beLicL3t2lQUqOGHDZbsE/R49e7W4+Kqvg/BVZ2f98\nZujUL137fDl16DPHbdVd04fM/tVR8NbJQxeonA0JgrkLvcWZrFKkqZuWiRO5hbeX5vNynmPM\neNqWkwSvtEyIFeY8vWe+NA9ompvZpCyC89pYNvuccxdpXrraeyzVFeIuhe2xF/yY2CP+sKoj\nhGBuiXyipwvF/R7nck205UTBBbaJfROdXqxz5eZnXAe0CJ5qzZp3OfbYJU0Xx6Qo1YPyxIeJ\nZTbBn8rBHqqO0PcEX9JCmfDVQ5EkFJd58svobbnS8kuX3rdbtc9xs8q8ve1dBywtlJd2040+\n49hjntJ8TK6+rFR/LrT2mK7sToGaIywpUtPLlWKeNnhFVTd6wde1UC58KdMqxwvFFz0K1tnl\nhGHesFv1g+NmW8mtrdwPKBJry85y7DFbaf5Vrv7D8iNk6zFJaSpQc4RlN9T0cqWUpw3eVNPr\nKr1gTdcT8RKtnK9eQvETj4JDbDnxEn3EtibgtONmh8nNma4DWi7RPW3h9Y49lFmOI5V7OuV6\nHHDFdoleITc1UnWEvneJ1rQ3ouBcaRLzwB/Eel/p1AWJ32zvsBbes+Wkm6x065pFTpv9b7jY\nGnHIdUCL4N3WOYXTnN6/L6RJzass9f5SdandTVZ+W6npA1VHCMEc92O/iOD7vpXqeTPqmVq8\ntqd3WEiP76b4M/pQA2NqFO3XwCjcDC2zy0mCC0aZGUP9eFPzV122u/uB0NAHv3czoPUx6eu0\n4IjU5qa4qSecu5yYEme6a521mjeznqn5ypv2d9FHs2PMKRvVHSEEU4EPOshBCKYBgiGYEIRg\nGiCYHIRgGiAYgglBCKYBgslBCKYBgiGYEIRgGiCYHIRgGiAYgglBCKYBgslBCKYBgiGYEPQ5\nwVVCdo8qHnBG2tVbd6pIFqSdrZqBaqbgYR2reMDJyVeqdsCnk09XzUAQLAHBVQsEVxg1U/DS\nOVU84Oszb1TtgO/NvFg1A9VMwaDCgGAfB4J9nJol+PLiUcPnFcjl0/OHD5t1pAoH5LdlZ0zZ\nW4UD5i8cMej5S5773zY1S/D8mb+ffXFymVgsGfWPM+eWDL1WZQPyO7L2FXw8rpI/8LAbsPjh\n+WdOznmqcserWYK5PseFn/F+B8XypX8Jbs+kH6+yAflxX1XqWC4D5qYLN9Jc+snKHbFGCd49\noFz4PuV9S71o5cTiKhvwYvpXUwc+VsnvCfYD/pRexPOl/XZU7og1SvDno8Xvs1fJtbL+6U9V\n8sOi/YC56U/lFa0aWrnvifYDXst8raTknX4fVeqANUzwGPG7RTCfdyhn/OUqGzA3Xbhwlg6r\n3BeUwxEeHt9vyDvjt1TqgDVL8A/yBWyjtaFsyNYqG5BLPyZ8n7zRc6ICBxS4UlKS8X2lDliz\nBP/RRzjHhX1/Esv7x93g+fLMyhVsP2BZ1ic8f3PwziobsHTnnzy/t19hpQ5YswTzOdN/P/PM\no+X89i385ZHPn85fNSC/ygbkN2Ye4JZnXa+6Aact5H4atbJyx6thgq8uycpcKPxcL5rD8yf/\nPmjw4wercMCydSMznqzsf+OxH/DsrIEjVpdU8oA1SzCocCDYx4FgHweCfRwI9nEg2MeBYB8H\ngn0cCPZxINjH8SHB9xsvKKXE2jetrXcnunRsn+i2mecLA5l/uXaVGRJoX/MefEjwRmaxXNjN\nPG5rdTR5QDzeJQsJglcy4Q86tohdZUTBYu2Al50xL9tdTxRHJcmFccyvtlZHk8sZt80KrVtP\n1+cRti4KdtiCl+Blu+uRGYz0S6/XQjrz/Kf3BPm1WFyumNyQ4h+cvIHnxekFkm2X6G+7Bfu3\nXmPN72Ne+A8zXypu7xxUZ9Ax+aJcPi/OnLRRuURLW7i7lvQWcG9k5f7GWIXgS4KPMhPExXpm\nPf8R2/PjHY8yM2ST7zEZW7f2ZLbyR/sy+36xCt6h7/zJ9gnMS5b8eP1ZvlWC+CsX29nub69p\nGJMvdX2Byfzy/aREWbC0hTXMh0KnfN0j1XWkGvAlwXyXUPHXqLuGX+eb1hNfY/2MFyWTC7sK\ntUJDJs8/JB6vRXDrxuIvQfcJVv6N/3Kw8Aa8lPlSKLZNKOH5PaZlYtfyuuKV/5xRuckSt3A5\nKF1oWsH8WE3HqQWfEvwO8w7Pn2Qf4c/Kr+U1wovW9mYbd4+j4AJmmjh/xWuM8r8ZVouvy4um\nocI3ZpKSEbqeYqQXagc7wfwYQwHP35NUpQdHiU8JvhFxH8/PYw7ze+W30k+ZVZLgwqeTQvR6\n5m5HwQcs0zooj0Ypoec4jutt/oM/zDyjbFHoukfe1gB7wbuEG/az7KJqOETN+JRgfhp7srxh\nqni7NE+sbmNelwR31s/aeehwXRfBY7+XkP9iyUGL76X8z8xcZYNC1x9kwf3sBfNNWvFL9eeq\n4Qg141uCf2YW7mLeEO5/mPFidRXzuWjyGDNOqJT4OQn+gxlln53EbPhSpG5LvoiRfn355AWx\n63Fmsli5y0FwDvNTu55Vemi0+JZgvmPytBDxjzEk1RXvnHoGFIomf5Fez8sZ4aWdzZTYbrLa\nhf4ltK+bLf3e27XQDvImnruHTZQAAAEgSURBVGT28C1rF/H8EeFCLXQti2xUxvO5rCJY2gJ/\nTj+c2VBNx6gNHxO8lgmXbq+26bpv/mwikyOZLI6P3fzdY126BH99ZS4z70Or4G+NrdZ9Mcc4\nWkm+Lm/iqPB636pr/+6qJlHyY9LTTP9Nr9ZPVgRLW+D5XkxIJf/HxwrCxwRfDVWeXbZ3CjS3\nFi7Wksl9HQLqPFz4SWR4bl5rY6Ltg45d9wcbmyySf3G1Y6Dlf8l0Dr7Cb0sNiMo4KistfTLa\n1PKjKSa5Jm2B5zcx2dVxfNrxMcFVxhbhQu4VQDAVxW1Tq3sXVALBFJze3FNf2X/roaKAYArW\nsAnbqnsf1ALBPg4E+zgQ7ONAsI8DwT4OBPs4EOzjQLCPA8E+DgT7OP8PrM2yAf5dvhgAAAAA\nSUVORK5CYII=",
>>>>>>> 8cfcf845f30f8e1bf47ca3eba70e9d32e1eadaf7
      "text/plain": [
       "plot without title"
      ]
     },
     "metadata": {},
     "output_type": "display_data"
    }
   ],
   "source": [
<<<<<<< HEAD
    "options(repr.plot.height = 4, repr.plot.width = 4)\n",
    "white_wine_bar_chart  <- white_wine  %>% ggplot(aes(x = quality))+\n",
    "                    geom_bar()\n",
    "white_wine_bar_chart"
=======
    "white_volatile_acidity_plot  <- white_wine  %>% ggplot(aes(x = `volatile acidity`, y = quality))+ \n",
    "                    geom_point()+\n",
    "                    xlab(\"Volatile Acidity\")+\n",
    "                    ylab(\"Quality\")\n",
    "white_volatile_acidity_plot"
>>>>>>> 8cfcf845f30f8e1bf47ca3eba70e9d32e1eadaf7
   ]
  },
  {
   "cell_type": "code",
<<<<<<< HEAD
   "execution_count": 10,
=======
   "execution_count": 70,
>>>>>>> 8cfcf845f30f8e1bf47ca3eba70e9d32e1eadaf7
   "metadata": {},
   "outputs": [
    {
     "data": {},
     "metadata": {},
     "output_type": "display_data"
    },
    {
     "data": {
<<<<<<< HEAD
      "image/png": "iVBORw0KGgoAAAANSUhEUgAAAeAAAAHgCAMAAABKCk6nAAACslBMVEUAAAABAQECAgIDAwME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\ngB3v/+mhyi+72RdKAAAAAElFTkSuQmCC",
=======
      "image/png": "iVBORw0KGgoAAAANSUhEUgAAAeAAAAHgCAMAAABKCk6nAAADAFBMVEUAAAABAQECAgIDAwME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\n1d5Y3AAAAABJRU5ErkJggg==",
>>>>>>> 8cfcf845f30f8e1bf47ca3eba70e9d32e1eadaf7
      "text/plain": [
       "plot without title"
      ]
     },
     "metadata": {},
     "output_type": "display_data"
    }
   ],
   "source": [
<<<<<<< HEAD
    "red_wine_bar_chart  <- red_wine  %>% ggplot(aes(x = quality))+\n",
    "                    geom_bar()\n",
    "red_wine_bar_chart"
=======
    "red_volatile_acidity_plot  <- red_wine  %>% ggplot(aes(x = `volatile acidity`, y = quality))+ \n",
    "                    geom_point()+\n",
    "                    xlab(\"Volatile Acidity\")+\n",
    "                    ylab(\"Quality\")\n",
    "red_volatile_acidity_plot"
>>>>>>> 8cfcf845f30f8e1bf47ca3eba70e9d32e1eadaf7
   ]
  },
  {
   "cell_type": "code",
<<<<<<< HEAD
   "execution_count": 11,
=======
   "execution_count": 71,
>>>>>>> 8cfcf845f30f8e1bf47ca3eba70e9d32e1eadaf7
   "metadata": {},
   "outputs": [
    {
     "data": {},
     "metadata": {},
     "output_type": "display_data"
    },
    {
     "data": {
<<<<<<< HEAD
      "text/html": [
       "<table>\n",
       "<thead><tr><th scope=col>fixed acidity</th><th scope=col>volatile acidity</th><th scope=col>citric acid</th><th scope=col>residual sugar</th><th scope=col>chlorides</th><th scope=col>free sulfur dioxide</th><th scope=col>total sulfur dioxide</th><th scope=col>density</th><th scope=col>pH</th><th scope=col>sulphates</th><th scope=col>alcohol</th><th scope=col>quality</th><th scope=col>type</th></tr></thead>\n",
       "<tbody>\n",
       "\t<tr><td> 7.4  </td><td>0.70  </td><td>0.00  </td><td>1.9   </td><td>0.076 </td><td>11    </td><td>34    </td><td>0.9978</td><td>3.51  </td><td>0.56  </td><td>9.4   </td><td>5     </td><td>red   </td></tr>\n",
       "\t<tr><td> 7.8  </td><td>0.88  </td><td>0.00  </td><td>2.6   </td><td>0.098 </td><td>25    </td><td>67    </td><td>0.9968</td><td>3.20  </td><td>0.68  </td><td>9.8   </td><td>5     </td><td>red   </td></tr>\n",
       "\t<tr><td> 7.8  </td><td>0.76  </td><td>0.04  </td><td>2.3   </td><td>0.092 </td><td>15    </td><td>54    </td><td>0.9970</td><td>3.26  </td><td>0.65  </td><td>9.8   </td><td>5     </td><td>red   </td></tr>\n",
       "\t<tr><td>11.2  </td><td>0.28  </td><td>0.56  </td><td>1.9   </td><td>0.075 </td><td>17    </td><td>60    </td><td>0.9980</td><td>3.16  </td><td>0.58  </td><td>9.8   </td><td>6     </td><td>red   </td></tr>\n",
       "\t<tr><td> 7.4  </td><td>0.70  </td><td>0.00  </td><td>1.9   </td><td>0.076 </td><td>11    </td><td>34    </td><td>0.9978</td><td>3.51  </td><td>0.56  </td><td>9.4   </td><td>5     </td><td>red   </td></tr>\n",
       "\t<tr><td> 7.4  </td><td>0.66  </td><td>0.00  </td><td>1.8   </td><td>0.075 </td><td>13    </td><td>40    </td><td>0.9978</td><td>3.51  </td><td>0.56  </td><td>9.4   </td><td>5     </td><td>red   </td></tr>\n",
       "</tbody>\n",
       "</table>\n"
      ],
      "text/latex": [
       "\\begin{tabular}{r|lllllllllllll}\n",
       " fixed acidity & volatile acidity & citric acid & residual sugar & chlorides & free sulfur dioxide & total sulfur dioxide & density & pH & sulphates & alcohol & quality & type\\\\\n",
       "\\hline\n",
       "\t  7.4   & 0.70   & 0.00   & 1.9    & 0.076  & 11     & 34     & 0.9978 & 3.51   & 0.56   & 9.4    & 5      & red   \\\\\n",
       "\t  7.8   & 0.88   & 0.00   & 2.6    & 0.098  & 25     & 67     & 0.9968 & 3.20   & 0.68   & 9.8    & 5      & red   \\\\\n",
       "\t  7.8   & 0.76   & 0.04   & 2.3    & 0.092  & 15     & 54     & 0.9970 & 3.26   & 0.65   & 9.8    & 5      & red   \\\\\n",
       "\t 11.2   & 0.28   & 0.56   & 1.9    & 0.075  & 17     & 60     & 0.9980 & 3.16   & 0.58   & 9.8    & 6      & red   \\\\\n",
       "\t  7.4   & 0.70   & 0.00   & 1.9    & 0.076  & 11     & 34     & 0.9978 & 3.51   & 0.56   & 9.4    & 5      & red   \\\\\n",
       "\t  7.4   & 0.66   & 0.00   & 1.8    & 0.075  & 13     & 40     & 0.9978 & 3.51   & 0.56   & 9.4    & 5      & red   \\\\\n",
       "\\end{tabular}\n"
      ],
      "text/markdown": [
       "\n",
       "fixed acidity | volatile acidity | citric acid | residual sugar | chlorides | free sulfur dioxide | total sulfur dioxide | density | pH | sulphates | alcohol | quality | type | \n",
       "|---|---|---|---|---|---|\n",
       "|  7.4   | 0.70   | 0.00   | 1.9    | 0.076  | 11     | 34     | 0.9978 | 3.51   | 0.56   | 9.4    | 5      | red    | \n",
       "|  7.8   | 0.88   | 0.00   | 2.6    | 0.098  | 25     | 67     | 0.9968 | 3.20   | 0.68   | 9.8    | 5      | red    | \n",
       "|  7.8   | 0.76   | 0.04   | 2.3    | 0.092  | 15     | 54     | 0.9970 | 3.26   | 0.65   | 9.8    | 5      | red    | \n",
       "| 11.2   | 0.28   | 0.56   | 1.9    | 0.075  | 17     | 60     | 0.9980 | 3.16   | 0.58   | 9.8    | 6      | red    | \n",
       "|  7.4   | 0.70   | 0.00   | 1.9    | 0.076  | 11     | 34     | 0.9978 | 3.51   | 0.56   | 9.4    | 5      | red    | \n",
       "|  7.4   | 0.66   | 0.00   | 1.8    | 0.075  | 13     | 40     | 0.9978 | 3.51   | 0.56   | 9.4    | 5      | red    | \n",
       "\n",
       "\n"
      ],
      "text/plain": [
       "  fixed acidity volatile acidity citric acid residual sugar chlorides\n",
       "1  7.4          0.70             0.00        1.9            0.076    \n",
       "2  7.8          0.88             0.00        2.6            0.098    \n",
       "3  7.8          0.76             0.04        2.3            0.092    \n",
       "4 11.2          0.28             0.56        1.9            0.075    \n",
       "5  7.4          0.70             0.00        1.9            0.076    \n",
       "6  7.4          0.66             0.00        1.8            0.075    \n",
       "  free sulfur dioxide total sulfur dioxide density pH   sulphates alcohol\n",
       "1 11                  34                   0.9978  3.51 0.56      9.4    \n",
       "2 25                  67                   0.9968  3.20 0.68      9.8    \n",
       "3 15                  54                   0.9970  3.26 0.65      9.8    \n",
       "4 17                  60                   0.9980  3.16 0.58      9.8    \n",
       "5 11                  34                   0.9978  3.51 0.56      9.4    \n",
       "6 13                  40                   0.9978  3.51 0.56      9.4    \n",
       "  quality type\n",
       "1 5       red \n",
       "2 5       red \n",
       "3 5       red \n",
       "4 6       red \n",
       "5 5       red \n",
       "6 5       red "
=======
      "image/png": "iVBORw0KGgoAAAANSUhEUgAAAeAAAAHgCAMAAABKCk6nAAADAFBMVEUAAAABAQECAgIDAwME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\nbR6AbR6AbR6AbR6AbR6Abd7/A/RTTDdfQZAJAAAAAElFTkSuQmCC",
      "text/plain": [
       "plot without title"
>>>>>>> 8cfcf845f30f8e1bf47ca3eba70e9d32e1eadaf7
      ]
     },
     "metadata": {},
     "output_type": "display_data"
    }
   ],
   "source": [
<<<<<<< HEAD
    "red_wine <- red_wine %>% \n",
    "    mutate(type = \"red\")\n",
    "\n",
    "head(red_wine)"
=======
    "white_citric_acid_plot  <- white_wine  %>% ggplot(aes(x = `citric acid`, y = quality))+ \n",
    "                    geom_point()+\n",
    "                    xlab(\"Citric Acid\")+\n",
    "                    ylab(\"Quality\")\n",
    "white_citric_acid_plot"
>>>>>>> 8cfcf845f30f8e1bf47ca3eba70e9d32e1eadaf7
   ]
  },
  {
   "cell_type": "code",
<<<<<<< HEAD
   "execution_count": 12,
=======
   "execution_count": 72,
>>>>>>> 8cfcf845f30f8e1bf47ca3eba70e9d32e1eadaf7
   "metadata": {},
   "outputs": [
    {
     "data": {},
     "metadata": {},
     "output_type": "display_data"
    },
    {
     "data": {
<<<<<<< HEAD
      "text/html": [
       "<table>\n",
       "<thead><tr><th scope=col>fixed acidity</th><th scope=col>volatile acidity</th><th scope=col>citric acid</th><th scope=col>residual sugar</th><th scope=col>chlorides</th><th scope=col>free sulfur dioxide</th><th scope=col>total sulfur dioxide</th><th scope=col>density</th><th scope=col>pH</th><th scope=col>sulphates</th><th scope=col>alcohol</th><th scope=col>quality</th><th scope=col>type</th></tr></thead>\n",
       "<tbody>\n",
       "\t<tr><td>7.0   </td><td>0.27  </td><td>0.36  </td><td>20.7  </td><td>0.045 </td><td>45    </td><td>170   </td><td>1.0010</td><td>3.00  </td><td>0.45  </td><td> 8.8  </td><td>6     </td><td>white </td></tr>\n",
       "\t<tr><td>6.3   </td><td>0.30  </td><td>0.34  </td><td> 1.6  </td><td>0.049 </td><td>14    </td><td>132   </td><td>0.9940</td><td>3.30  </td><td>0.49  </td><td> 9.5  </td><td>6     </td><td>white </td></tr>\n",
       "\t<tr><td>8.1   </td><td>0.28  </td><td>0.40  </td><td> 6.9  </td><td>0.050 </td><td>30    </td><td> 97   </td><td>0.9951</td><td>3.26  </td><td>0.44  </td><td>10.1  </td><td>6     </td><td>white </td></tr>\n",
       "\t<tr><td>7.2   </td><td>0.23  </td><td>0.32  </td><td> 8.5  </td><td>0.058 </td><td>47    </td><td>186   </td><td>0.9956</td><td>3.19  </td><td>0.40  </td><td> 9.9  </td><td>6     </td><td>white </td></tr>\n",
       "\t<tr><td>7.2   </td><td>0.23  </td><td>0.32  </td><td> 8.5  </td><td>0.058 </td><td>47    </td><td>186   </td><td>0.9956</td><td>3.19  </td><td>0.40  </td><td> 9.9  </td><td>6     </td><td>white </td></tr>\n",
       "\t<tr><td>8.1   </td><td>0.28  </td><td>0.40  </td><td> 6.9  </td><td>0.050 </td><td>30    </td><td> 97   </td><td>0.9951</td><td>3.26  </td><td>0.44  </td><td>10.1  </td><td>6     </td><td>white </td></tr>\n",
       "</tbody>\n",
       "</table>\n"
      ],
      "text/latex": [
       "\\begin{tabular}{r|lllllllllllll}\n",
       " fixed acidity & volatile acidity & citric acid & residual sugar & chlorides & free sulfur dioxide & total sulfur dioxide & density & pH & sulphates & alcohol & quality & type\\\\\n",
       "\\hline\n",
       "\t 7.0    & 0.27   & 0.36   & 20.7   & 0.045  & 45     & 170    & 1.0010 & 3.00   & 0.45   &  8.8   & 6      & white \\\\\n",
       "\t 6.3    & 0.30   & 0.34   &  1.6   & 0.049  & 14     & 132    & 0.9940 & 3.30   & 0.49   &  9.5   & 6      & white \\\\\n",
       "\t 8.1    & 0.28   & 0.40   &  6.9   & 0.050  & 30     &  97    & 0.9951 & 3.26   & 0.44   & 10.1   & 6      & white \\\\\n",
       "\t 7.2    & 0.23   & 0.32   &  8.5   & 0.058  & 47     & 186    & 0.9956 & 3.19   & 0.40   &  9.9   & 6      & white \\\\\n",
       "\t 7.2    & 0.23   & 0.32   &  8.5   & 0.058  & 47     & 186    & 0.9956 & 3.19   & 0.40   &  9.9   & 6      & white \\\\\n",
       "\t 8.1    & 0.28   & 0.40   &  6.9   & 0.050  & 30     &  97    & 0.9951 & 3.26   & 0.44   & 10.1   & 6      & white \\\\\n",
       "\\end{tabular}\n"
      ],
      "text/markdown": [
=======
      "image/png": "iVBORw0KGgoAAAANSUhEUgAAAeAAAAHgCAMAAABKCk6nAAADAFBMVEUAAAABAQECAgIDAwME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\nfg4E+zn/A+1euDulsFy7AAAAAElFTkSuQmCC",
      "text/plain": [
       "plot without title"
      ]
     },
     "metadata": {},
     "output_type": "display_data"
    }
   ],
   "source": [
    "red_citric_acid_plot  <- red_wine  %>% ggplot(aes(x = `citric acid`, y = quality))+ \n",
    "                    geom_point()+\n",
    "                    xlab(\"Citric Acid\")+\n",
    "                    ylab(\"Quality\")\n",
    "red_citric_acid_plot"
   ]
  },
  {
   "cell_type": "code",
   "execution_count": 73,
   "metadata": {},
   "outputs": [
    {
     "data": {},
     "metadata": {},
     "output_type": "display_data"
    },
    {
     "data": {
      "image/png": "iVBORw0KGgoAAAANSUhEUgAAAeAAAAHgCAMAAABKCk6nAAADAFBMVEUAAAABAQECAgIDAwME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\nA7DO+3/rvWK2TRaEUgAAAABJRU5ErkJggg==",
      "text/plain": [
       "plot without title"
      ]
     },
     "metadata": {},
     "output_type": "display_data"
    }
   ],
   "source": [
    "white_residual_sugar_plot  <- white_wine  %>% ggplot(aes(x = `residual sugar`, y = quality))+ \n",
    "                    geom_point()+\n",
    "                    xlab(\"Residual Sugar\")+\n",
    "                    ylab(\"Quality\")\n",
    "white_residual_sugar_plot"
   ]
  },
  {
   "cell_type": "code",
   "execution_count": 74,
   "metadata": {},
   "outputs": [
    {
     "data": {},
     "metadata": {},
     "output_type": "display_data"
    },
    {
     "data": {
      "image/png": "iVBORw0KGgoAAAANSUhEUgAAAeAAAAHgCAMAAABKCk6nAAADAFBMVEUAAAABAQECAgIDAwME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\n2MeBYB8Hgn0cCPZx/g+qElhK88csdgAAAABJRU5ErkJggg==",
      "text/plain": [
       "plot without title"
      ]
     },
     "metadata": {},
     "output_type": "display_data"
    }
   ],
   "source": [
    "red_residual_sugar_plot  <- red_wine  %>% ggplot(aes(x = `residual sugar`, y = quality))+ \n",
    "                    geom_point()+\n",
    "                    xlab(\"Residual Sugar\")+\n",
    "                    ylab(\"Quality\")\n",
    "red_residual_sugar_plot"
   ]
  },
  {
   "cell_type": "code",
   "execution_count": 75,
   "metadata": {},
   "outputs": [
    {
     "data": {},
     "metadata": {},
     "output_type": "display_data"
    },
    {
     "data": {
      "image/png": "iVBORw0KGgoAAAANSUhEUgAAAeAAAAHgCAMAAABKCk6nAAADAFBMVEUAAAABAQECAgIDAwME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\nHoANHoANHoAN3v8DO23+YRN54jIAAAAASUVORK5CYII=",
      "text/plain": [
       "plot without title"
      ]
     },
     "metadata": {},
     "output_type": "display_data"
    }
   ],
   "source": [
    "white_chlorides_plot  <- white_wine  %>% ggplot(aes(x = chlorides, y = quality))+ \n",
    "                    geom_point()+\n",
    "                    xlab(\"Chlorides\")+\n",
    "                    ylab(\"Quality\")\n",
    "white_chlorides_plot"
   ]
  },
  {
   "cell_type": "code",
   "execution_count": 76,
   "metadata": {},
   "outputs": [
    {
     "data": {},
     "metadata": {},
     "output_type": "display_data"
    },
    {
     "data": {
      "image/png": "iVBORw0KGgoAAAANSUhEUgAAAeAAAAHgCAMAAABKCk6nAAADAFBMVEUAAAABAQECAgIDAwME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\nyYFgkwPBJuf/AfhvOigFzAmVAAAAAElFTkSuQmCC",
      "text/plain": [
       "plot without title"
      ]
     },
     "metadata": {},
     "output_type": "display_data"
    }
   ],
   "source": [
    "red_chlorides_plot  <- red_wine  %>% ggplot(aes(x = chlorides, y = quality))+ \n",
    "                    geom_point()+\n",
    "                    xlab(\"Chlorides\")+\n",
    "                    ylab(\"Quality\")\n",
    "red_chlorides_plot"
   ]
  },
  {
   "cell_type": "code",
   "execution_count": 77,
   "metadata": {},
   "outputs": [
    {
     "data": {},
     "metadata": {},
     "output_type": "display_data"
    },
    {
     "data": {
      "image/png": "iVBORw0KGgoAAAANSUhEUgAAAeAAAAHgCAMAAABKCk6nAAADAFBMVEUAAAABAQECAgIDAwME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\nRK5CYII=",
      "text/plain": [
       "plot without title"
      ]
     },
     "metadata": {},
     "output_type": "display_data"
    }
   ],
   "source": [
    "white_free_sulfur_dioxide_plot  <- white_wine  %>% ggplot(aes(x = `free sulfur dioxide` , y = quality))+ \n",
    "                    geom_point()+\n",
    "                    xlab(\"Free Sulfur Dioxide\")+\n",
    "                    ylab(\"Quality\")\n",
    "white_free_sulfur_dioxide_plot"
   ]
  },
  {
   "cell_type": "code",
   "execution_count": 78,
   "metadata": {},
   "outputs": [
    {
     "data": {},
     "metadata": {},
     "output_type": "display_data"
    },
    {
     "data": {
      "image/png": "iVBORw0KGgoAAAANSUhEUgAAAeAAAAHgCAMAAABKCk6nAAADAFBMVEUAAAABAQECAgIDAwME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\n+T9dKyQ2vZ4pQgAAAABJRU5ErkJggg==",
      "text/plain": [
       "plot without title"
      ]
     },
     "metadata": {},
     "output_type": "display_data"
    }
   ],
   "source": [
    "red_free_sulfur_dioxide_plot  <- red_wine  %>% ggplot(aes(x = `free sulfur dioxide` , y = quality))+ \n",
    "                    geom_point()+\n",
    "                    xlab(\"Free Sulfur Dioxide\")+\n",
    "                    ylab(\"Quality\")\n",
    "red_free_sulfur_dioxide_plot"
   ]
  },
  {
   "cell_type": "code",
   "execution_count": 79,
   "metadata": {},
   "outputs": [
    {
     "data": {},
     "metadata": {},
     "output_type": "display_data"
    },
    {
     "data": {
      "image/png": "iVBORw0KGgoAAAANSUhEUgAAAeAAAAHgCAMAAABKCk6nAAADAFBMVEUAAAABAQECAgIDAwME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",
      "text/plain": [
       "plot without title"
      ]
     },
     "metadata": {},
     "output_type": "display_data"
    }
   ],
   "source": [
    "white_total_sulfur_dioxide_plot  <- white_wine  %>% ggplot(aes(x = `total sulfur dioxide` , y = quality))+ \n",
    "                    geom_point()+\n",
    "                    xlab(\"Total Sulfur Dioxide\")+\n",
    "                    ylab(\"Quality\")\n",
    "white_total_sulfur_dioxide_plot"
   ]
  },
  {
   "cell_type": "code",
   "execution_count": 80,
   "metadata": {},
   "outputs": [
    {
     "name": "stderr",
     "output_type": "stream",
     "text": [
      "Warning message:\n",
      "“Removed 2 rows containing missing values (geom_point).”"
     ]
    },
    {
     "data": {},
     "metadata": {},
     "output_type": "display_data"
    },
    {
     "data": {
      "image/png": "iVBORw0KGgoAAAANSUhEUgAAAeAAAAHgCAMAAABKCk6nAAADAFBMVEUAAAABAQECAgIDAwME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\nA3CIB+AQD8AhHoBDPACHeAAO8f4/OYVT2gHUMGMAAAAASUVORK5CYII=",
      "text/plain": [
       "plot without title"
      ]
     },
     "metadata": {},
     "output_type": "display_data"
    }
   ],
   "source": [
    "red_total_sulfur_dioxide_plot  <- red_wine  %>% ggplot(aes(x = `total sulfur dioxide` , y = quality))+ \n",
    "                    geom_point()+\n",
    "                    xlab(\"Total Sulfur Dioxide\")+\n",
    "                    ylab(\"Quality\")\n",
    "red_total_sulfur_dioxide_plot"
   ]
  },
  {
   "cell_type": "code",
   "execution_count": 81,
   "metadata": {},
   "outputs": [
    {
     "data": {},
     "metadata": {},
     "output_type": "display_data"
    },
    {
     "data": {
      "image/png": "iVBORw0KGgoAAAANSUhEUgAAAeAAAAHgCAMAAABKCk6nAAAC/VBMVEUAAAABAQECAgIDAwME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\nAAAAAElFTkSuQmCC",
      "text/plain": [
       "plot without title"
      ]
     },
     "metadata": {},
     "output_type": "display_data"
    }
   ],
   "source": [
    "white_density_plot <- white_wine  %>% ggplot(aes(x = density , y = quality))+ \n",
    "                    geom_point()+\n",
    "                    xlab(\"Density\")+\n",
    "                    ylab(\"Quality\")\n",
    "white_density_plot"
   ]
  },
  {
   "cell_type": "code",
   "execution_count": 82,
   "metadata": {},
   "outputs": [
    {
     "data": {},
     "metadata": {},
     "output_type": "display_data"
    },
    {
     "data": {
      "image/png": "iVBORw0KGgoAAAANSUhEUgAAAeAAAAHgCAMAAABKCk6nAAADAFBMVEUAAAABAQECAgIDAwME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\nILicA4LLOf8P8PiKsAhg+OgAAAAASUVORK5CYII=",
      "text/plain": [
       "plot without title"
      ]
     },
     "metadata": {},
     "output_type": "display_data"
    }
   ],
   "source": [
    "red_density_plot <- red_wine  %>% ggplot(aes(x = density , y = quality))+ \n",
    "                    geom_point()+\n",
    "                    xlab(\"Density\")+\n",
    "                    ylab(\"Quality\")\n",
    "red_density_plot"
   ]
  },
  {
   "cell_type": "code",
   "execution_count": 83,
   "metadata": {},
   "outputs": [
    {
     "data": {},
     "metadata": {},
     "output_type": "display_data"
    },
    {
     "data": {
      "image/png": "iVBORw0KGgoAAAANSUhEUgAAAeAAAAHgCAMAAABKCk6nAAADAFBMVEUAAAABAQECAgIDAwME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",
      "text/plain": [
       "plot without title"
      ]
     },
     "metadata": {},
     "output_type": "display_data"
    }
   ],
   "source": [
    "white_pH_plot <- white_wine  %>% ggplot(aes(x = pH , y = quality))+ \n",
    "                    geom_point()+\n",
    "                    xlab(\"pH\")+\n",
    "                    ylab(\"Quality\")\n",
    "white_pH_plot"
   ]
  },
  {
   "cell_type": "code",
   "execution_count": 84,
   "metadata": {},
   "outputs": [
    {
     "data": {},
     "metadata": {},
     "output_type": "display_data"
    },
    {
     "data": {
      "image/png": "iVBORw0KGgoAAAANSUhEUgAAAeAAAAHgCAMAAABKCk6nAAADAFBMVEUAAAABAQECAgIDAwME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",
      "text/plain": [
       "plot without title"
      ]
     },
     "metadata": {},
     "output_type": "display_data"
    }
   ],
   "source": [
    "red_pH_plot <- red_wine  %>% ggplot(aes(x = pH , y = quality))+ \n",
    "                    geom_point()+\n",
    "                    xlab(\"pH\")+\n",
    "                    ylab(\"Quality\")\n",
    "red_pH_plot"
   ]
  },
  {
   "cell_type": "code",
   "execution_count": 85,
   "metadata": {},
   "outputs": [
    {
     "data": {},
     "metadata": {},
     "output_type": "display_data"
    },
    {
     "data": {
      "image/png": "iVBORw0KGgoAAAANSUhEUgAAAeAAAAHgCAMAAABKCk6nAAADAFBMVEUAAAABAQECAgIDAwME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",
      "text/plain": [
       "plot without title"
      ]
     },
     "metadata": {},
     "output_type": "display_data"
    }
   ],
   "source": [
    "white_sulphates_plot <- white_wine  %>% ggplot(aes(x = sulphates , y = quality))+ \n",
    "                    geom_point()+\n",
    "                    xlab(\"Sulphates\")+\n",
    "                    ylab(\"Quality\")\n",
    "white_sulphates_plot"
   ]
  },
  {
   "cell_type": "code",
   "execution_count": 86,
   "metadata": {},
   "outputs": [
    {
     "data": {},
     "metadata": {},
     "output_type": "display_data"
    },
    {
     "data": {
      "image/png": "iVBORw0KGgoAAAANSUhEUgAAAeAAAAHgCAMAAABKCk6nAAADAFBMVEUAAAABAQECAgIDAwME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\ncCDYwYFgBweCHRwIdnAg2MH5f7UbSYWBelK4AAAAAElFTkSuQmCC",
      "text/plain": [
       "plot without title"
      ]
     },
     "metadata": {},
     "output_type": "display_data"
    }
   ],
   "source": [
    "red_sulphates_plot <- red_wine  %>% ggplot(aes(x = sulphates , y = quality))+ \n",
    "                    geom_point()+\n",
    "                    xlab(\"Sulphates\")+\n",
    "                    ylab(\"Quality\")\n",
    "red_sulphates_plot"
   ]
  },
  {
   "cell_type": "code",
   "execution_count": 87,
   "metadata": {},
   "outputs": [
    {
     "data": {},
     "metadata": {},
     "output_type": "display_data"
    },
    {
     "data": {
      "image/png": "iVBORw0KGgoAAAANSUhEUgAAAeAAAAHgCAMAAABKCk6nAAADAFBMVEUAAAABAQECAgIDAwME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\nRU5ErkJggg==",
      "text/plain": [
       "plot without title"
      ]
     },
     "metadata": {},
     "output_type": "display_data"
    }
   ],
   "source": [
    "white_alcohol_plot <- white_wine  %>% ggplot(aes(x = alcohol , y = quality))+ \n",
    "                    geom_point()+\n",
    "                    xlab(\"Alcohol (ABV)\")+\n",
    "                    ylab(\"Quality\")\n",
    "white_alcohol_plot"
   ]
  },
  {
   "cell_type": "code",
   "execution_count": 88,
   "metadata": {},
   "outputs": [
    {
     "data": {},
     "metadata": {},
     "output_type": "display_data"
    },
    {
     "data": {
      "image/png": "iVBORw0KGgoAAAANSUhEUgAAAeAAAAHgCAMAAABKCk6nAAADAFBMVEUAAAABAQECAgIDAwME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\nCNY5IFjngGCdA4J1DgjWOSBY5/wfXlflYseRXWEAAAAASUVORK5CYII=",
      "text/plain": [
       "plot without title"
      ]
     },
     "metadata": {},
     "output_type": "display_data"
    }
   ],
   "source": [
    "red_alcohol_plot <- red_wine  %>% ggplot(aes(x = alcohol , y = quality))+ \n",
    "                    geom_point()+\n",
    "                    xlab(\"Alcohol (ABV)\")+\n",
    "                    ylab(\"Quality\")\n",
    "red_alcohol_plot"
   ]
  },
  {
   "cell_type": "code",
   "execution_count": 89,
   "metadata": {},
   "outputs": [
    {
     "data": {
      "text/html": [
       "<ol class=list-inline>\n",
       "\t<li>2.72</li>\n",
       "\t<li>3.82</li>\n",
       "</ol>\n"
      ],
      "text/latex": [
       "\\begin{enumerate*}\n",
       "\\item 2.72\n",
       "\\item 3.82\n",
       "\\end{enumerate*}\n"
      ],
      "text/markdown": [
       "1. 2.72\n",
       "2. 3.82\n",
       "\n",
       "\n"
      ],
      "text/plain": [
       "[1] 2.72 3.82"
      ]
     },
     "metadata": {},
     "output_type": "display_data"
    }
   ],
   "source": [
    "ph_range  <- white_wine  %>% select(pH)  %>%  range()\n",
    "ph_range"
   ]
  },
  {
   "cell_type": "code",
   "execution_count": 90,
   "metadata": {},
   "outputs": [
    {
     "data": {
      "text/html": [
       "<ol class=list-inline>\n",
       "\t<li>2.74</li>\n",
       "\t<li>4.01</li>\n",
       "</ol>\n"
      ],
      "text/latex": [
       "\\begin{enumerate*}\n",
       "\\item 2.74\n",
       "\\item 4.01\n",
       "\\end{enumerate*}\n"
      ],
      "text/markdown": [
       "1. 2.74\n",
       "2. 4.01\n",
       "\n",
       "\n"
      ],
      "text/plain": [
       "[1] 2.74 4.01"
      ]
     },
     "metadata": {},
     "output_type": "display_data"
    }
   ],
   "source": [
    "ph_range_red <- red_wine  %>% select(pH)  %>% range()\n",
    "ph_range_red"
   ]
  },
  {
   "cell_type": "code",
   "execution_count": 91,
   "metadata": {},
   "outputs": [
    {
     "data": {
      "text/html": [
       "<ol class=list-inline>\n",
       "\t<li>4.6</li>\n",
       "\t<li>15.9</li>\n",
       "</ol>\n"
      ],
      "text/latex": [
       "\\begin{enumerate*}\n",
       "\\item 4.6\n",
       "\\item 15.9\n",
       "\\end{enumerate*}\n"
      ],
      "text/markdown": [
       "1. 4.6\n",
       "2. 15.9\n",
       "\n",
       "\n"
      ],
      "text/plain": [
       "[1]  4.6 15.9"
      ]
     },
     "metadata": {},
     "output_type": "display_data"
    }
   ],
   "source": [
    "acidity_red  <- red_wine  %>% select(`fixed acidity`)  %>% range()\n",
    "acidity_red"
   ]
  },
  {
   "cell_type": "code",
   "execution_count": 92,
   "metadata": {},
   "outputs": [
    {
     "data": {
      "text/html": [
       "<table>\n",
       "<thead><tr><th scope=col>fixed acidity</th><th scope=col>volatile acidity</th><th scope=col>citric acid</th><th scope=col>residual sugar</th><th scope=col>chlorides</th><th scope=col>free sulfur dioxide</th><th scope=col>total sulfur dioxide</th><th scope=col>density</th><th scope=col>pH</th><th scope=col>sulphates</th><th scope=col>alcohol</th><th scope=col>quality</th><th scope=col>type</th></tr></thead>\n",
       "<tbody>\n",
       "\t<tr><td> 7.4  </td><td>0.70  </td><td>0.00  </td><td>1.9   </td><td>0.076 </td><td>11    </td><td>34    </td><td>0.9978</td><td>3.51  </td><td>0.56  </td><td>9.4   </td><td>5     </td><td>red   </td></tr>\n",
       "\t<tr><td> 7.8  </td><td>0.88  </td><td>0.00  </td><td>2.6   </td><td>0.098 </td><td>25    </td><td>67    </td><td>0.9968</td><td>3.20  </td><td>0.68  </td><td>9.8   </td><td>5     </td><td>red   </td></tr>\n",
       "\t<tr><td> 7.8  </td><td>0.76  </td><td>0.04  </td><td>2.3   </td><td>0.092 </td><td>15    </td><td>54    </td><td>0.9970</td><td>3.26  </td><td>0.65  </td><td>9.8   </td><td>5     </td><td>red   </td></tr>\n",
       "\t<tr><td>11.2  </td><td>0.28  </td><td>0.56  </td><td>1.9   </td><td>0.075 </td><td>17    </td><td>60    </td><td>0.9980</td><td>3.16  </td><td>0.58  </td><td>9.8   </td><td>6     </td><td>red   </td></tr>\n",
       "\t<tr><td> 7.4  </td><td>0.70  </td><td>0.00  </td><td>1.9   </td><td>0.076 </td><td>11    </td><td>34    </td><td>0.9978</td><td>3.51  </td><td>0.56  </td><td>9.4   </td><td>5     </td><td>red   </td></tr>\n",
       "\t<tr><td> 7.4  </td><td>0.66  </td><td>0.00  </td><td>1.8   </td><td>0.075 </td><td>13    </td><td>40    </td><td>0.9978</td><td>3.51  </td><td>0.56  </td><td>9.4   </td><td>5     </td><td>red   </td></tr>\n",
       "</tbody>\n",
       "</table>\n"
      ],
      "text/latex": [
       "\\begin{tabular}{r|lllllllllllll}\n",
       " fixed acidity & volatile acidity & citric acid & residual sugar & chlorides & free sulfur dioxide & total sulfur dioxide & density & pH & sulphates & alcohol & quality & type\\\\\n",
       "\\hline\n",
       "\t  7.4   & 0.70   & 0.00   & 1.9    & 0.076  & 11     & 34     & 0.9978 & 3.51   & 0.56   & 9.4    & 5      & red   \\\\\n",
       "\t  7.8   & 0.88   & 0.00   & 2.6    & 0.098  & 25     & 67     & 0.9968 & 3.20   & 0.68   & 9.8    & 5      & red   \\\\\n",
       "\t  7.8   & 0.76   & 0.04   & 2.3    & 0.092  & 15     & 54     & 0.9970 & 3.26   & 0.65   & 9.8    & 5      & red   \\\\\n",
       "\t 11.2   & 0.28   & 0.56   & 1.9    & 0.075  & 17     & 60     & 0.9980 & 3.16   & 0.58   & 9.8    & 6      & red   \\\\\n",
       "\t  7.4   & 0.70   & 0.00   & 1.9    & 0.076  & 11     & 34     & 0.9978 & 3.51   & 0.56   & 9.4    & 5      & red   \\\\\n",
       "\t  7.4   & 0.66   & 0.00   & 1.8    & 0.075  & 13     & 40     & 0.9978 & 3.51   & 0.56   & 9.4    & 5      & red   \\\\\n",
       "\\end{tabular}\n"
      ],
      "text/markdown": [
       "\n",
       "fixed acidity | volatile acidity | citric acid | residual sugar | chlorides | free sulfur dioxide | total sulfur dioxide | density | pH | sulphates | alcohol | quality | type | \n",
       "|---|---|---|---|---|---|\n",
       "|  7.4   | 0.70   | 0.00   | 1.9    | 0.076  | 11     | 34     | 0.9978 | 3.51   | 0.56   | 9.4    | 5      | red    | \n",
       "|  7.8   | 0.88   | 0.00   | 2.6    | 0.098  | 25     | 67     | 0.9968 | 3.20   | 0.68   | 9.8    | 5      | red    | \n",
       "|  7.8   | 0.76   | 0.04   | 2.3    | 0.092  | 15     | 54     | 0.9970 | 3.26   | 0.65   | 9.8    | 5      | red    | \n",
       "| 11.2   | 0.28   | 0.56   | 1.9    | 0.075  | 17     | 60     | 0.9980 | 3.16   | 0.58   | 9.8    | 6      | red    | \n",
       "|  7.4   | 0.70   | 0.00   | 1.9    | 0.076  | 11     | 34     | 0.9978 | 3.51   | 0.56   | 9.4    | 5      | red    | \n",
       "|  7.4   | 0.66   | 0.00   | 1.8    | 0.075  | 13     | 40     | 0.9978 | 3.51   | 0.56   | 9.4    | 5      | red    | \n",
       "\n",
       "\n"
      ],
      "text/plain": [
       "  fixed acidity volatile acidity citric acid residual sugar chlorides\n",
       "1  7.4          0.70             0.00        1.9            0.076    \n",
       "2  7.8          0.88             0.00        2.6            0.098    \n",
       "3  7.8          0.76             0.04        2.3            0.092    \n",
       "4 11.2          0.28             0.56        1.9            0.075    \n",
       "5  7.4          0.70             0.00        1.9            0.076    \n",
       "6  7.4          0.66             0.00        1.8            0.075    \n",
       "  free sulfur dioxide total sulfur dioxide density pH   sulphates alcohol\n",
       "1 11                  34                   0.9978  3.51 0.56      9.4    \n",
       "2 25                  67                   0.9968  3.20 0.68      9.8    \n",
       "3 15                  54                   0.9970  3.26 0.65      9.8    \n",
       "4 17                  60                   0.9980  3.16 0.58      9.8    \n",
       "5 11                  34                   0.9978  3.51 0.56      9.4    \n",
       "6 13                  40                   0.9978  3.51 0.56      9.4    \n",
       "  quality type\n",
       "1 5       red \n",
       "2 5       red \n",
       "3 5       red \n",
       "4 6       red \n",
       "5 5       red \n",
       "6 5       red "
      ]
     },
     "metadata": {},
     "output_type": "display_data"
    }
   ],
   "source": [
    "red_wine <- red_wine %>% \n",
    "    mutate(type = \"red\")\n",
    "\n",
    "head(red_wine)"
   ]
  },
  {
   "cell_type": "code",
   "execution_count": 93,
   "metadata": {},
   "outputs": [
    {
     "data": {
      "text/html": [
       "<table>\n",
       "<thead><tr><th scope=col>fixed acidity</th><th scope=col>volatile acidity</th><th scope=col>citric acid</th><th scope=col>residual sugar</th><th scope=col>chlorides</th><th scope=col>free sulfur dioxide</th><th scope=col>total sulfur dioxide</th><th scope=col>density</th><th scope=col>pH</th><th scope=col>sulphates</th><th scope=col>alcohol</th><th scope=col>quality</th><th scope=col>type</th></tr></thead>\n",
       "<tbody>\n",
       "\t<tr><td>7.0   </td><td>0.27  </td><td>0.36  </td><td>20.7  </td><td>0.045 </td><td>45    </td><td>170   </td><td>1.0010</td><td>3.00  </td><td>0.45  </td><td> 8.8  </td><td>6     </td><td>white </td></tr>\n",
       "\t<tr><td>6.3   </td><td>0.30  </td><td>0.34  </td><td> 1.6  </td><td>0.049 </td><td>14    </td><td>132   </td><td>0.9940</td><td>3.30  </td><td>0.49  </td><td> 9.5  </td><td>6     </td><td>white </td></tr>\n",
       "\t<tr><td>8.1   </td><td>0.28  </td><td>0.40  </td><td> 6.9  </td><td>0.050 </td><td>30    </td><td> 97   </td><td>0.9951</td><td>3.26  </td><td>0.44  </td><td>10.1  </td><td>6     </td><td>white </td></tr>\n",
       "\t<tr><td>7.2   </td><td>0.23  </td><td>0.32  </td><td> 8.5  </td><td>0.058 </td><td>47    </td><td>186   </td><td>0.9956</td><td>3.19  </td><td>0.40  </td><td> 9.9  </td><td>6     </td><td>white </td></tr>\n",
       "\t<tr><td>7.2   </td><td>0.23  </td><td>0.32  </td><td> 8.5  </td><td>0.058 </td><td>47    </td><td>186   </td><td>0.9956</td><td>3.19  </td><td>0.40  </td><td> 9.9  </td><td>6     </td><td>white </td></tr>\n",
       "\t<tr><td>8.1   </td><td>0.28  </td><td>0.40  </td><td> 6.9  </td><td>0.050 </td><td>30    </td><td> 97   </td><td>0.9951</td><td>3.26  </td><td>0.44  </td><td>10.1  </td><td>6     </td><td>white </td></tr>\n",
       "</tbody>\n",
       "</table>\n"
      ],
      "text/latex": [
       "\\begin{tabular}{r|lllllllllllll}\n",
       " fixed acidity & volatile acidity & citric acid & residual sugar & chlorides & free sulfur dioxide & total sulfur dioxide & density & pH & sulphates & alcohol & quality & type\\\\\n",
       "\\hline\n",
       "\t 7.0    & 0.27   & 0.36   & 20.7   & 0.045  & 45     & 170    & 1.0010 & 3.00   & 0.45   &  8.8   & 6      & white \\\\\n",
       "\t 6.3    & 0.30   & 0.34   &  1.6   & 0.049  & 14     & 132    & 0.9940 & 3.30   & 0.49   &  9.5   & 6      & white \\\\\n",
       "\t 8.1    & 0.28   & 0.40   &  6.9   & 0.050  & 30     &  97    & 0.9951 & 3.26   & 0.44   & 10.1   & 6      & white \\\\\n",
       "\t 7.2    & 0.23   & 0.32   &  8.5   & 0.058  & 47     & 186    & 0.9956 & 3.19   & 0.40   &  9.9   & 6      & white \\\\\n",
       "\t 7.2    & 0.23   & 0.32   &  8.5   & 0.058  & 47     & 186    & 0.9956 & 3.19   & 0.40   &  9.9   & 6      & white \\\\\n",
       "\t 8.1    & 0.28   & 0.40   &  6.9   & 0.050  & 30     &  97    & 0.9951 & 3.26   & 0.44   & 10.1   & 6      & white \\\\\n",
       "\\end{tabular}\n"
      ],
      "text/markdown": [
>>>>>>> 8cfcf845f30f8e1bf47ca3eba70e9d32e1eadaf7
       "\n",
       "fixed acidity | volatile acidity | citric acid | residual sugar | chlorides | free sulfur dioxide | total sulfur dioxide | density | pH | sulphates | alcohol | quality | type | \n",
       "|---|---|---|---|---|---|\n",
       "| 7.0    | 0.27   | 0.36   | 20.7   | 0.045  | 45     | 170    | 1.0010 | 3.00   | 0.45   |  8.8   | 6      | white  | \n",
       "| 6.3    | 0.30   | 0.34   |  1.6   | 0.049  | 14     | 132    | 0.9940 | 3.30   | 0.49   |  9.5   | 6      | white  | \n",
       "| 8.1    | 0.28   | 0.40   |  6.9   | 0.050  | 30     |  97    | 0.9951 | 3.26   | 0.44   | 10.1   | 6      | white  | \n",
       "| 7.2    | 0.23   | 0.32   |  8.5   | 0.058  | 47     | 186    | 0.9956 | 3.19   | 0.40   |  9.9   | 6      | white  | \n",
       "| 7.2    | 0.23   | 0.32   |  8.5   | 0.058  | 47     | 186    | 0.9956 | 3.19   | 0.40   |  9.9   | 6      | white  | \n",
       "| 8.1    | 0.28   | 0.40   |  6.9   | 0.050  | 30     |  97    | 0.9951 | 3.26   | 0.44   | 10.1   | 6      | white  | \n",
       "\n",
       "\n"
      ],
      "text/plain": [
       "  fixed acidity volatile acidity citric acid residual sugar chlorides\n",
       "1 7.0           0.27             0.36        20.7           0.045    \n",
       "2 6.3           0.30             0.34         1.6           0.049    \n",
       "3 8.1           0.28             0.40         6.9           0.050    \n",
       "4 7.2           0.23             0.32         8.5           0.058    \n",
       "5 7.2           0.23             0.32         8.5           0.058    \n",
       "6 8.1           0.28             0.40         6.9           0.050    \n",
       "  free sulfur dioxide total sulfur dioxide density pH   sulphates alcohol\n",
       "1 45                  170                  1.0010  3.00 0.45       8.8   \n",
       "2 14                  132                  0.9940  3.30 0.49       9.5   \n",
       "3 30                   97                  0.9951  3.26 0.44      10.1   \n",
       "4 47                  186                  0.9956  3.19 0.40       9.9   \n",
       "5 47                  186                  0.9956  3.19 0.40       9.9   \n",
       "6 30                   97                  0.9951  3.26 0.44      10.1   \n",
       "  quality type \n",
       "1 6       white\n",
       "2 6       white\n",
       "3 6       white\n",
       "4 6       white\n",
       "5 6       white\n",
       "6 6       white"
      ]
     },
     "metadata": {},
     "output_type": "display_data"
    }
   ],
   "source": [
    "white_wine <- white_wine %>% \n",
    "    mutate(type = \"white\")\n",
    "\n",
    "head(white_wine)"
   ]
  },
  {
   "cell_type": "code",
<<<<<<< HEAD
   "execution_count": 13,
=======
   "execution_count": 94,
>>>>>>> 8cfcf845f30f8e1bf47ca3eba70e9d32e1eadaf7
   "metadata": {},
   "outputs": [
    {
     "name": "stdout",
     "output_type": "stream",
     "text": [
      "Observations: 6,497\n",
      "Variables: 13\n",
      "$ `fixed acidity`        <dbl> 7.4, 7.8, 7.8, 11.2, 7.4, 7.4, 7.9, 7.3, 7.8...\n",
      "$ `volatile acidity`     <dbl> 0.700, 0.880, 0.760, 0.280, 0.700, 0.660, 0....\n",
      "$ `citric acid`          <dbl> 0.00, 0.00, 0.04, 0.56, 0.00, 0.00, 0.06, 0....\n",
      "$ `residual sugar`       <dbl> 1.9, 2.6, 2.3, 1.9, 1.9, 1.8, 1.6, 1.2, 2.0,...\n",
      "$ chlorides              <dbl> 0.076, 0.098, 0.092, 0.075, 0.076, 0.075, 0....\n",
      "$ `free sulfur dioxide`  <dbl> 11, 25, 15, 17, 11, 13, 15, 15, 9, 17, 15, 1...\n",
      "$ `total sulfur dioxide` <dbl> 34, 67, 54, 60, 34, 40, 59, 21, 18, 102, 65,...\n",
      "$ density                <dbl> 0.9978, 0.9968, 0.9970, 0.9980, 0.9978, 0.99...\n",
      "$ pH                     <dbl> 3.51, 3.20, 3.26, 3.16, 3.51, 3.51, 3.30, 3....\n",
      "$ sulphates              <dbl> 0.56, 0.68, 0.65, 0.58, 0.56, 0.56, 0.46, 0....\n",
      "$ alcohol                <dbl> 9.4, 9.8, 9.8, 9.8, 9.4, 9.4, 9.4, 10.0, 9.5...\n",
      "$ quality                <int> 5, 5, 5, 6, 5, 5, 5, 7, 7, 5, 5, 5, 5, 5, 5,...\n",
      "$ type                   <chr> \"red\", \"red\", \"red\", \"red\", \"red\", \"red\", \"r...\n"
<<<<<<< HEAD
=======
     ]
    }
   ],
   "source": [
    "wine_data <- rbind(red_wine, white_wine)\n",
    "glimpse(wine_data)"
   ]
  },
  {
   "cell_type": "code",
   "execution_count": 95,
   "metadata": {},
   "outputs": [
    {
     "name": "stdout",
     "output_type": "stream",
     "text": [
      "Observations: 6,497\n",
      "Variables: 13\n",
      "$ fixed_acidity        <dbl> 1.0093572, 1.0639170, 1.0639170, 1.5276757, 1....\n",
      "$ volatile_acidity     <dbl> 1.8543718, 2.3312103, 2.0133180, 0.7417487, 1....\n",
      "$ citric_acid          <dbl> 0.00000000, 0.00000000, 0.11421113, 1.59895588...\n",
      "$ residual_sugar       <dbl> 0.2628010, 0.3596225, 0.3181276, 0.2628010, 0....\n",
      "$ chlorides            <dbl> 1.1499810, 1.4828702, 1.3920822, 1.1348497, 1....\n",
      "$ free_sulfur_dioxide  <dbl> 0.3115035, 0.7079626, 0.4247776, 0.4814146, 0....\n",
      "$ total_sulfur_dioxide <dbl> 0.2639162, 0.5200702, 0.4191611, 0.4657345, 0....\n",
      "$ density              <dbl> 1.0030382, 1.0020329, 1.0022340, 1.0032392, 1....\n",
      "$ pH                   <dbl> 1.0891279, 0.9929371, 1.0115547, 0.9805254, 1....\n",
      "$ sulphates            <dbl> 1.0149448, 1.2324330, 1.1780610, 1.0511929, 1....\n",
      "$ alcohol              <dbl> 0.8901364, 0.9280145, 0.9280145, 0.9280145, 0....\n",
      "$ quality              <int> 5, 5, 5, 6, 5, 5, 5, 7, 7, 5, 5, 5, 5, 5, 5, 5...\n",
      "$ type                 <fct> red, red, red, red, red, red, red, red, red, r...\n"
     ]
    }
   ],
   "source": [
    "scaled_wine_data <- wine_data%>% \n",
    "    select(-c(quality, type)) %>% \n",
    "    scale(center = FALSE) \n",
    "scaled_wine_data <- data.frame(scaled_wine_data, quality = wine_data$quality, type = wine_data$type)\n",
    "colnames(scaled_wine_data) <- c(\"fixed_acidity\", \"volatile_acidity\", \"citric_acid\", \"residual_sugar\", \"chlorides\", \n",
    "                        \"free_sulfur_dioxide\", \"total_sulfur_dioxide\", \"density\", \"pH\", \"sulphates\", \"alcohol\", \n",
    "                        \"quality\", \"type\")\n",
    "glimpse(scaled_wine_data)"
   ]
  },
  {
   "cell_type": "code",
   "execution_count": 96,
   "metadata": {},
   "outputs": [
    {
     "name": "stdout",
     "output_type": "stream",
     "text": [
      "Observations: 6,495\n",
      "Variables: 13\n",
      "$ fixed_acidity        <dbl> 1.0093572, 1.0639170, 1.0639170, 1.5276757, 1....\n",
      "$ volatile_acidity     <dbl> 1.8543718, 2.3312103, 2.0133180, 0.7417487, 1....\n",
      "$ citric_acid          <dbl> 0.00000000, 0.00000000, 0.11421113, 1.59895588...\n",
      "$ residual_sugar       <dbl> 0.2628010, 0.3596225, 0.3181276, 0.2628010, 0....\n",
      "$ chlorides            <dbl> 1.1499810, 1.4828702, 1.3920822, 1.1348497, 1....\n",
      "$ free_sulfur_dioxide  <dbl> 0.3115035, 0.7079626, 0.4247776, 0.4814146, 0....\n",
      "$ total_sulfur_dioxide <dbl> 0.2639162, 0.5200702, 0.4191611, 0.4657345, 0....\n",
      "$ density              <dbl> 1.0030382, 1.0020329, 1.0022340, 1.0032392, 1....\n",
      "$ pH                   <dbl> 1.0891279, 0.9929371, 1.0115547, 0.9805254, 1....\n",
      "$ sulphates            <dbl> 1.0149448, 1.2324330, 1.1780610, 1.0511929, 1....\n",
      "$ alcohol              <dbl> 0.8901364, 0.9280145, 0.9280145, 0.9280145, 0....\n",
      "$ quality              <int> 5, 5, 5, 6, 5, 5, 5, 7, 7, 5, 5, 5, 5, 5, 5, 5...\n",
      "$ type                 <fct> red, red, red, red, red, red, red, red, red, r...\n"
>>>>>>> 8cfcf845f30f8e1bf47ca3eba70e9d32e1eadaf7
     ]
    }
   ],
   "source": [
<<<<<<< HEAD
    "wine_data <- rbind(red_wine, white_wine)\n",
    "glimpse(wine_data)"
   ]
  },
  {
   "cell_type": "markdown",
   "metadata": {},
   "source": [
    "### Doing KNN Analysis to check if it is more accurate with only white wine"
   ]
  },
  {
   "cell_type": "code",
   "execution_count": 14,
   "metadata": {},
   "outputs": [
    {
     "data": {
      "text/html": [
       "<table>\n",
       "<thead><tr><th scope=col>fixed acidity</th><th scope=col>volatile acidity</th><th scope=col>citric acid</th><th scope=col>residual sugar</th><th scope=col>chlorides</th><th scope=col>free sulfur dioxide</th><th scope=col>total sulfur dioxide</th><th scope=col>density</th><th scope=col>pH</th><th scope=col>sulphates</th><th scope=col>alcohol</th></tr></thead>\n",
       "<tbody>\n",
       "\t<tr><td>1.0134309</td><td>0.9122795</td><td>1.0127692</td><td>2.5367895</td><td>0.8871633</td><td>1.1481392</td><td>1.1744078</td><td>1.0069072</td><td>0.9398009</td><td>0.8946063</td><td>0.8311998</td></tr>\n",
       "\t<tr><td>0.9120878</td><td>1.0136438</td><td>0.9565042</td><td>0.1960804</td><td>0.9660223</td><td>0.3571989</td><td>0.9118931</td><td>0.9998658</td><td>1.0337810</td><td>0.9741268</td><td>0.8973179</td></tr>\n",
       "\t<tr><td>1.1726843</td><td>0.9460676</td><td>1.1252991</td><td>0.8455965</td><td>0.9857370</td><td>0.7654261</td><td>0.6701032</td><td>1.0009723</td><td>1.0212503</td><td>0.8747261</td><td>0.9539906</td></tr>\n",
       "\t<tr><td>1.0423861</td><td>0.7771269</td><td>0.9002393</td><td>1.0416769</td><td>1.1434550</td><td>1.1991676</td><td>1.2849402</td><td>1.0014753</td><td>0.9993216</td><td>0.7952056</td><td>0.9350997</td></tr>\n",
       "\t<tr><td>1.0423861</td><td>0.7771269</td><td>0.9002393</td><td>1.0416769</td><td>1.1434550</td><td>1.1991676</td><td>1.2849402</td><td>1.0014753</td><td>0.9993216</td><td>0.7952056</td><td>0.9350997</td></tr>\n",
       "\t<tr><td>1.1726843</td><td>0.9460676</td><td>1.1252991</td><td>0.8455965</td><td>0.9857370</td><td>0.7654261</td><td>0.6701032</td><td>1.0009723</td><td>1.0212503</td><td>0.8747261</td><td>0.9539906</td></tr>\n",
       "</tbody>\n",
       "</table>\n"
      ],
      "text/latex": [
       "\\begin{tabular}{lllllllllll}\n",
       " fixed acidity & volatile acidity & citric acid & residual sugar & chlorides & free sulfur dioxide & total sulfur dioxide & density & pH & sulphates & alcohol\\\\\n",
       "\\hline\n",
       "\t 1.0134309 & 0.9122795 & 1.0127692 & 2.5367895 & 0.8871633 & 1.1481392 & 1.1744078 & 1.0069072 & 0.9398009 & 0.8946063 & 0.8311998\\\\\n",
       "\t 0.9120878 & 1.0136438 & 0.9565042 & 0.1960804 & 0.9660223 & 0.3571989 & 0.9118931 & 0.9998658 & 1.0337810 & 0.9741268 & 0.8973179\\\\\n",
       "\t 1.1726843 & 0.9460676 & 1.1252991 & 0.8455965 & 0.9857370 & 0.7654261 & 0.6701032 & 1.0009723 & 1.0212503 & 0.8747261 & 0.9539906\\\\\n",
       "\t 1.0423861 & 0.7771269 & 0.9002393 & 1.0416769 & 1.1434550 & 1.1991676 & 1.2849402 & 1.0014753 & 0.9993216 & 0.7952056 & 0.9350997\\\\\n",
       "\t 1.0423861 & 0.7771269 & 0.9002393 & 1.0416769 & 1.1434550 & 1.1991676 & 1.2849402 & 1.0014753 & 0.9993216 & 0.7952056 & 0.9350997\\\\\n",
       "\t 1.1726843 & 0.9460676 & 1.1252991 & 0.8455965 & 0.9857370 & 0.7654261 & 0.6701032 & 1.0009723 & 1.0212503 & 0.8747261 & 0.9539906\\\\\n",
       "\\end{tabular}\n"
      ],
      "text/markdown": [
       "\n",
       "fixed acidity | volatile acidity | citric acid | residual sugar | chlorides | free sulfur dioxide | total sulfur dioxide | density | pH | sulphates | alcohol | \n",
       "|---|---|---|---|---|---|\n",
       "| 1.0134309 | 0.9122795 | 1.0127692 | 2.5367895 | 0.8871633 | 1.1481392 | 1.1744078 | 1.0069072 | 0.9398009 | 0.8946063 | 0.8311998 | \n",
       "| 0.9120878 | 1.0136438 | 0.9565042 | 0.1960804 | 0.9660223 | 0.3571989 | 0.9118931 | 0.9998658 | 1.0337810 | 0.9741268 | 0.8973179 | \n",
       "| 1.1726843 | 0.9460676 | 1.1252991 | 0.8455965 | 0.9857370 | 0.7654261 | 0.6701032 | 1.0009723 | 1.0212503 | 0.8747261 | 0.9539906 | \n",
       "| 1.0423861 | 0.7771269 | 0.9002393 | 1.0416769 | 1.1434550 | 1.1991676 | 1.2849402 | 1.0014753 | 0.9993216 | 0.7952056 | 0.9350997 | \n",
       "| 1.0423861 | 0.7771269 | 0.9002393 | 1.0416769 | 1.1434550 | 1.1991676 | 1.2849402 | 1.0014753 | 0.9993216 | 0.7952056 | 0.9350997 | \n",
       "| 1.1726843 | 0.9460676 | 1.1252991 | 0.8455965 | 0.9857370 | 0.7654261 | 0.6701032 | 1.0009723 | 1.0212503 | 0.8747261 | 0.9539906 | \n",
       "\n",
       "\n"
      ],
      "text/plain": [
       "     fixed acidity volatile acidity citric acid residual sugar chlorides\n",
       "[1,] 1.0134309     0.9122795        1.0127692   2.5367895      0.8871633\n",
       "[2,] 0.9120878     1.0136438        0.9565042   0.1960804      0.9660223\n",
       "[3,] 1.1726843     0.9460676        1.1252991   0.8455965      0.9857370\n",
       "[4,] 1.0423861     0.7771269        0.9002393   1.0416769      1.1434550\n",
       "[5,] 1.0423861     0.7771269        0.9002393   1.0416769      1.1434550\n",
       "[6,] 1.1726843     0.9460676        1.1252991   0.8455965      0.9857370\n",
       "     free sulfur dioxide total sulfur dioxide density   pH        sulphates\n",
       "[1,] 1.1481392           1.1744078            1.0069072 0.9398009 0.8946063\n",
       "[2,] 0.3571989           0.9118931            0.9998658 1.0337810 0.9741268\n",
       "[3,] 0.7654261           0.6701032            1.0009723 1.0212503 0.8747261\n",
       "[4,] 1.1991676           1.2849402            1.0014753 0.9993216 0.7952056\n",
       "[5,] 1.1991676           1.2849402            1.0014753 0.9993216 0.7952056\n",
       "[6,] 0.7654261           0.6701032            1.0009723 1.0212503 0.8747261\n",
       "     alcohol  \n",
       "[1,] 0.8311998\n",
       "[2,] 0.8973179\n",
       "[3,] 0.9539906\n",
       "[4,] 0.9350997\n",
       "[5,] 0.9350997\n",
       "[6,] 0.9539906"
      ]
     },
     "metadata": {},
     "output_type": "display_data"
    },
    {
     "data": {
      "text/html": [
       "<table>\n",
       "<thead><tr><th scope=col>fixed.acidity</th><th scope=col>volatile.acidity</th><th scope=col>citric.acid</th><th scope=col>residual.sugar</th><th scope=col>chlorides</th><th scope=col>free.sulfur.dioxide</th><th scope=col>total.sulfur.dioxide</th><th scope=col>density</th><th scope=col>pH</th><th scope=col>sulphates</th><th scope=col>alcohol</th><th scope=col>quality</th></tr></thead>\n",
       "<tbody>\n",
       "\t<tr><td>1.0134309</td><td>0.9122795</td><td>1.0127692</td><td>2.5367895</td><td>0.8871633</td><td>1.1481392</td><td>1.1744078</td><td>1.0069072</td><td>0.9398009</td><td>0.8946063</td><td>0.8311998</td><td>6        </td></tr>\n",
       "\t<tr><td>0.9120878</td><td>1.0136438</td><td>0.9565042</td><td>0.1960804</td><td>0.9660223</td><td>0.3571989</td><td>0.9118931</td><td>0.9998658</td><td>1.0337810</td><td>0.9741268</td><td>0.8973179</td><td>6        </td></tr>\n",
       "\t<tr><td>1.1726843</td><td>0.9460676</td><td>1.1252991</td><td>0.8455965</td><td>0.9857370</td><td>0.7654261</td><td>0.6701032</td><td>1.0009723</td><td>1.0212503</td><td>0.8747261</td><td>0.9539906</td><td>6        </td></tr>\n",
       "\t<tr><td>1.0423861</td><td>0.7771269</td><td>0.9002393</td><td>1.0416769</td><td>1.1434550</td><td>1.1991676</td><td>1.2849402</td><td>1.0014753</td><td>0.9993216</td><td>0.7952056</td><td>0.9350997</td><td>6        </td></tr>\n",
       "\t<tr><td>1.0423861</td><td>0.7771269</td><td>0.9002393</td><td>1.0416769</td><td>1.1434550</td><td>1.1991676</td><td>1.2849402</td><td>1.0014753</td><td>0.9993216</td><td>0.7952056</td><td>0.9350997</td><td>6        </td></tr>\n",
       "\t<tr><td>1.1726843</td><td>0.9460676</td><td>1.1252991</td><td>0.8455965</td><td>0.9857370</td><td>0.7654261</td><td>0.6701032</td><td>1.0009723</td><td>1.0212503</td><td>0.8747261</td><td>0.9539906</td><td>6        </td></tr>\n",
       "</tbody>\n",
       "</table>\n"
      ],
      "text/latex": [
       "\\begin{tabular}{r|llllllllllll}\n",
       " fixed.acidity & volatile.acidity & citric.acid & residual.sugar & chlorides & free.sulfur.dioxide & total.sulfur.dioxide & density & pH & sulphates & alcohol & quality\\\\\n",
       "\\hline\n",
       "\t 1.0134309 & 0.9122795 & 1.0127692 & 2.5367895 & 0.8871633 & 1.1481392 & 1.1744078 & 1.0069072 & 0.9398009 & 0.8946063 & 0.8311998 & 6        \\\\\n",
       "\t 0.9120878 & 1.0136438 & 0.9565042 & 0.1960804 & 0.9660223 & 0.3571989 & 0.9118931 & 0.9998658 & 1.0337810 & 0.9741268 & 0.8973179 & 6        \\\\\n",
       "\t 1.1726843 & 0.9460676 & 1.1252991 & 0.8455965 & 0.9857370 & 0.7654261 & 0.6701032 & 1.0009723 & 1.0212503 & 0.8747261 & 0.9539906 & 6        \\\\\n",
       "\t 1.0423861 & 0.7771269 & 0.9002393 & 1.0416769 & 1.1434550 & 1.1991676 & 1.2849402 & 1.0014753 & 0.9993216 & 0.7952056 & 0.9350997 & 6        \\\\\n",
       "\t 1.0423861 & 0.7771269 & 0.9002393 & 1.0416769 & 1.1434550 & 1.1991676 & 1.2849402 & 1.0014753 & 0.9993216 & 0.7952056 & 0.9350997 & 6        \\\\\n",
       "\t 1.1726843 & 0.9460676 & 1.1252991 & 0.8455965 & 0.9857370 & 0.7654261 & 0.6701032 & 1.0009723 & 1.0212503 & 0.8747261 & 0.9539906 & 6        \\\\\n",
       "\\end{tabular}\n"
      ],
      "text/markdown": [
       "\n",
       "fixed.acidity | volatile.acidity | citric.acid | residual.sugar | chlorides | free.sulfur.dioxide | total.sulfur.dioxide | density | pH | sulphates | alcohol | quality | \n",
       "|---|---|---|---|---|---|\n",
       "| 1.0134309 | 0.9122795 | 1.0127692 | 2.5367895 | 0.8871633 | 1.1481392 | 1.1744078 | 1.0069072 | 0.9398009 | 0.8946063 | 0.8311998 | 6         | \n",
       "| 0.9120878 | 1.0136438 | 0.9565042 | 0.1960804 | 0.9660223 | 0.3571989 | 0.9118931 | 0.9998658 | 1.0337810 | 0.9741268 | 0.8973179 | 6         | \n",
       "| 1.1726843 | 0.9460676 | 1.1252991 | 0.8455965 | 0.9857370 | 0.7654261 | 0.6701032 | 1.0009723 | 1.0212503 | 0.8747261 | 0.9539906 | 6         | \n",
       "| 1.0423861 | 0.7771269 | 0.9002393 | 1.0416769 | 1.1434550 | 1.1991676 | 1.2849402 | 1.0014753 | 0.9993216 | 0.7952056 | 0.9350997 | 6         | \n",
       "| 1.0423861 | 0.7771269 | 0.9002393 | 1.0416769 | 1.1434550 | 1.1991676 | 1.2849402 | 1.0014753 | 0.9993216 | 0.7952056 | 0.9350997 | 6         | \n",
       "| 1.1726843 | 0.9460676 | 1.1252991 | 0.8455965 | 0.9857370 | 0.7654261 | 0.6701032 | 1.0009723 | 1.0212503 | 0.8747261 | 0.9539906 | 6         | \n",
       "\n",
       "\n"
      ],
      "text/plain": [
       "  fixed.acidity volatile.acidity citric.acid residual.sugar chlorides\n",
       "1 1.0134309     0.9122795        1.0127692   2.5367895      0.8871633\n",
       "2 0.9120878     1.0136438        0.9565042   0.1960804      0.9660223\n",
       "3 1.1726843     0.9460676        1.1252991   0.8455965      0.9857370\n",
       "4 1.0423861     0.7771269        0.9002393   1.0416769      1.1434550\n",
       "5 1.0423861     0.7771269        0.9002393   1.0416769      1.1434550\n",
       "6 1.1726843     0.9460676        1.1252991   0.8455965      0.9857370\n",
       "  free.sulfur.dioxide total.sulfur.dioxide density   pH        sulphates\n",
       "1 1.1481392           1.1744078            1.0069072 0.9398009 0.8946063\n",
       "2 0.3571989           0.9118931            0.9998658 1.0337810 0.9741268\n",
       "3 0.7654261           0.6701032            1.0009723 1.0212503 0.8747261\n",
       "4 1.1991676           1.2849402            1.0014753 0.9993216 0.7952056\n",
       "5 1.1991676           1.2849402            1.0014753 0.9993216 0.7952056\n",
       "6 0.7654261           0.6701032            1.0009723 1.0212503 0.8747261\n",
       "  alcohol   quality\n",
       "1 0.8311998 6      \n",
       "2 0.8973179 6      \n",
       "3 0.9539906 6      \n",
       "4 0.9350997 6      \n",
       "5 0.9350997 6      \n",
       "6 0.9539906 6      "
      ]
     },
     "metadata": {},
     "output_type": "display_data"
    }
   ],
   "source": [
    "scaled_white_wine_data  <- white_wine  %>% select(-type, -quality)  %>% scale(center = FALSE)\n",
    "head(scaled_white_wine_data)\n",
    "scaled_white_wine_data  <- data.frame(scaled_white_wine_data, quality = white_wine$quality)\n",
    "head(scaled_white_wine_data)\n",
    "colnames(scaled_white_wine_data)  <-  c(\"fixed_acidity\", \"volatile_acidity\", \"citric_acid\", \"residual_sugar\", \"chlorides\", \n",
    "                        \"free_sulfur_dioxide\", \"total_sulfur_dioxide\", \"density\", \"pH\", \"sulphates\", \"alcohol\", \n",
    "                        \"quality\")"
=======
    "scaled_wine_data <- na.omit(scaled_wine_data)\n",
    "glimpse(scaled_wine_data)"
>>>>>>> 8cfcf845f30f8e1bf47ca3eba70e9d32e1eadaf7
   ]
  },
  {
   "cell_type": "code",
<<<<<<< HEAD
   "execution_count": 22,
=======
   "execution_count": 97,
>>>>>>> 8cfcf845f30f8e1bf47ca3eba70e9d32e1eadaf7
   "metadata": {},
   "outputs": [],
   "source": [
    "set.seed(2017)\n",
<<<<<<< HEAD
    "training_rows <- scaled_white_wine_data %>% \n",
    "    select(quality) %>% \n",
    "    unlist() %>% \n",
    "    createDataPartition(p = 0.75, list = FALSE)\n",
    "\n",
    "training_set_white <- scaled_white_wine_data %>% \n",
    "    slice(training_rows)\n",
    "\n",
    "testing_set_white <- scaled_white_wine_data %>% \n",
    "    slice(-training_rows)\n",
    "\n",
    "X_train_white <- training_set_white %>% \n",
=======
    "training_rows <- scaled_wine_data %>% \n",
    "    select(type) %>% \n",
    "    unlist() %>% \n",
    "    createDataPartition(p = 0.75, list = FALSE)\n",
    "\n",
    "training_set <- scaled_wine_data %>% \n",
    "    slice(training_rows)\n",
    "\n",
    "testing_set <- scaled_wine_data %>% \n",
    "    slice(-training_rows)\n",
    "\n",
    "X_train_type_all <- training_set %>% \n",
>>>>>>> 8cfcf845f30f8e1bf47ca3eba70e9d32e1eadaf7
    "    select(fixed_acidity, volatile_acidity, citric_acid, residual_sugar, chlorides, free_sulfur_dioxide, total_sulfur_dioxide, \n",
    "           density, pH, sulphates, alcohol) %>% \n",
    "    data.frame()\n",
    "\n",
<<<<<<< HEAD
    "Y_train_white <- training_set_white %>% \n",
    "    select(quality) %>% \n",
    "    unlist()\n",
    "X_test_white <- testing_set_white %>% \n",
=======
    "Y_train_type_all <- training_set %>% \n",
    "    select(type) %>% \n",
    "    unlist()\n",
    "X_test_type_all <- testing_set %>% \n",
>>>>>>> 8cfcf845f30f8e1bf47ca3eba70e9d32e1eadaf7
    "    select(fixed_acidity, volatile_acidity, citric_acid, residual_sugar, chlorides, free_sulfur_dioxide, total_sulfur_dioxide, \n",
    "           density, pH, sulphates, alcohol) %>% \n",
    "    data.frame()\n",
    "\n",
<<<<<<< HEAD
    "Y_test_white <- testing_set_white %>% \n",
    "    select(quality) %>% \n",
=======
    "Y_test_type_all <- testing_set %>% \n",
    "    select(type) %>% \n",
>>>>>>> 8cfcf845f30f8e1bf47ca3eba70e9d32e1eadaf7
    "    unlist()"
   ]
  },
  {
   "cell_type": "code",
<<<<<<< HEAD
   "execution_count": 17,
   "metadata": {},
   "outputs": [
    {
     "data": {
      "text/plain": [
       "k-Nearest Neighbors \n",
       "\n",
       "3674 samples\n",
       "  11 predictor\n",
       "\n",
       "No pre-processing\n",
       "Resampling: Cross-Validated (10 fold) \n",
       "Summary of sample sizes: 3307, 3306, 3306, 3307, 3307, 3306, ... \n",
       "Resampling results across tuning parameters:\n",
       "\n",
       "  k   RMSE       Rsquared   MAE      \n",
       "   1  0.8391528  0.3023861  0.4953523\n",
       "   2  0.7863748  0.3043154  0.5413338\n",
       "   3  0.7645973  0.3027467  0.5603347\n",
       "   4  0.7521262  0.3069156  0.5626282\n",
       "   5  0.7462552  0.3073245  0.5627948\n",
       "   6  0.7429545  0.3075883  0.5628838\n",
       "   7  0.7421007  0.3054551  0.5653201\n",
       "   8  0.7369821  0.3112125  0.5618355\n",
       "   9  0.7341745  0.3145066  0.5601039\n",
       "  10  0.7317776  0.3177931  0.5605696\n",
       "  11  0.7315636  0.3175589  0.5626371\n",
       "  12  0.7320442  0.3165243  0.5651974\n",
       "  13  0.7323037  0.3159415  0.5670190\n",
       "  14  0.7334827  0.3138994  0.5681195\n",
       "  15  0.7322792  0.3165010  0.5676659\n",
       "  16  0.7329427  0.3157933  0.5687438\n",
       "  17  0.7323824  0.3172387  0.5696688\n",
       "  18  0.7317453  0.3188896  0.5697874\n",
       "  19  0.7316987  0.3194392  0.5704309\n",
       "  20  0.7320425  0.3191662  0.5711117\n",
       "  21  0.7321866  0.3193324  0.5710691\n",
       "  22  0.7329894  0.3182061  0.5719284\n",
       "  23  0.7336612  0.3173952  0.5721181\n",
       "  24  0.7344568  0.3161444  0.5727880\n",
       "  25  0.7358147  0.3136870  0.5732857\n",
       "  26  0.7364722  0.3127723  0.5738259\n",
       "  27  0.7371893  0.3119583  0.5751727\n",
       "  28  0.7380488  0.3103679  0.5758042\n",
       "  29  0.7382838  0.3103386  0.5758534\n",
       "  30  0.7392440  0.3087956  0.5761519\n",
       "  31  0.7404736  0.3067338  0.5772174\n",
       "  32  0.7406485  0.3069345  0.5775953\n",
       "  33  0.7416255  0.3054387  0.5784483\n",
       "  34  0.7415851  0.3061265  0.5778345\n",
       "  35  0.7423893  0.3048805  0.5783346\n",
       "  36  0.7429889  0.3040065  0.5793653\n",
       "  37  0.7435672  0.3032828  0.5799269\n",
       "  38  0.7440945  0.3023139  0.5804710\n",
       "  39  0.7442559  0.3025074  0.5811298\n",
       "  40  0.7451642  0.3009180  0.5816923\n",
       "  41  0.7455551  0.3003944  0.5821037\n",
       "  42  0.7456786  0.3005918  0.5820673\n",
       "  43  0.7467365  0.2988075  0.5831648\n",
       "  44  0.7462351  0.3005466  0.5825787\n",
       "  45  0.7459059  0.3016813  0.5823758\n",
       "  46  0.7467640  0.3002409  0.5832255\n",
       "  47  0.7467563  0.3007598  0.5836629\n",
       "  48  0.7476070  0.2993938  0.5842871\n",
       "  49  0.7476764  0.2996574  0.5843587\n",
       "  50  0.7482497  0.2991964  0.5844711\n",
       "\n",
       "RMSE was used to select the optimal model using the smallest value.\n",
       "The final value used for the model was k = 11."
      ]
     },
     "metadata": {},
     "output_type": "display_data"
    }
   ],
   "source": [
    "train_control_white <- trainControl(method = \"cv\", number = 10)\n",
    "k_white = data.frame(k = seq(from = 1, to = 50 , by = 1)) \n",
    "set.seed(2017)\n",
    "knn_cv_white <- train(x = X_train_white, y = Y_train_white, method = \"knn\", tuneGrid = k_white, trControl = train_control_white) \n",
    "knn_cv_white"
   ]
  },
  {
   "cell_type": "code",
   "execution_count": 18,
   "metadata": {},
   "outputs": [
    {
     "data": {
      "text/plain": [
       "k-Nearest Neighbors \n",
       "\n",
       "3674 samples\n",
       "  11 predictor\n",
       "\n",
       "No pre-processing\n",
       "Resampling: Bootstrapped (25 reps) \n",
       "Summary of sample sizes: 3674, 3674, 3674, 3674, 3674, 3674, ... \n",
       "Resampling results:\n",
       "\n",
       "  RMSE       Rsquared   MAE      \n",
       "  0.7644727  0.2734873  0.5844287\n",
       "\n",
       "Tuning parameter 'k' was held constant at a value of 11"
      ]
     },
     "metadata": {},
     "output_type": "display_data"
    }
   ],
   "source": [
    "set.seed(2017)\n",
    "knn_white  <- train(x = X_train_white, y = Y_train_white, method='knn', tuneGrid= data.frame(k=11))\n",
    "knn_white"
=======
   "execution_count": 98,
   "metadata": {},
   "outputs": [],
   "source": [
    "train_control <- trainControl(method = \"cv\", number = 10)\n",
    "k_lots_type_all = data.frame(k = seq(from = 1, to = 100 , by = 2)) "
>>>>>>> 8cfcf845f30f8e1bf47ca3eba70e9d32e1eadaf7
   ]
  },
  {
   "cell_type": "code",
<<<<<<< HEAD
   "execution_count": 20,
=======
   "execution_count": 99,
>>>>>>> 8cfcf845f30f8e1bf47ca3eba70e9d32e1eadaf7
   "metadata": {},
   "outputs": [
    {
     "data": {
<<<<<<< HEAD
      "text/html": [
       "<dl class=dl-horizontal>\n",
       "\t<dt>RMSE</dt>\n",
       "\t\t<dd>0.753508475908972</dd>\n",
       "\t<dt>Rsquared</dt>\n",
       "\t\t<dd>0.286701594711572</dd>\n",
       "\t<dt>MAE</dt>\n",
       "\t\t<dd>0.578610162985163</dd>\n",
       "</dl>\n"
      ],
      "text/latex": [
       "\\begin{description*}\n",
       "\\item[RMSE] 0.753508475908972\n",
       "\\item[Rsquared] 0.286701594711572\n",
       "\\item[MAE] 0.578610162985163\n",
       "\\end{description*}\n"
      ],
      "text/markdown": [
       "RMSE\n",
       ":   0.753508475908972Rsquared\n",
       ":   0.286701594711572MAE\n",
       ":   0.578610162985163\n",
       "\n"
      ],
      "text/plain": [
       "     RMSE  Rsquared       MAE \n",
       "0.7535085 0.2867016 0.5786102 "
      ]
     },
     "metadata": {},
     "output_type": "display_data"
    }
   ],
   "source": [
    "predict_white  <- predict(knn_white, X_test_white)\n",
    "error_df_white  <- data.frame( obs = Y_test_white, pred = predict_white)\n",
    "test_error_white  <- defaultSummary(error_df_white)\n",
    "test_error_white"
   ]
  },
  {
   "cell_type": "markdown",
   "metadata": {},
   "source": [
    "#### End of White Wine KNN, Start of White Wine Linear Model  "
   ]
  },
  {
   "cell_type": "code",
   "execution_count": 26,
   "metadata": {},
   "outputs": [],
   "source": [
    "set.seed(2017)\n",
    "white_wine_data  <- white_wine  %>% select(-type)\n",
    "training_rows <- white_wine_data %>% \n",
    "    select(quality) %>% \n",
    "    unlist() %>% \n",
    "    createDataPartition(p = 0.75, list = FALSE)\n",
    "\n",
    "training_set_white_lm <- white_wine_data %>% \n",
    "    slice(training_rows)\n",
    "\n",
    "testing_set_white_lm <- white_wine_data %>% \n",
    "    slice(-training_rows)\n",
    "\n",
    "X_train_white_lm <- training_set_white_lm %>% \n",
    "    select(-quality) %>% \n",
    "    data.frame()\n",
    "\n",
    "Y_train_white_lm <- training_set_white_lm %>% \n",
    "    select(quality) %>% \n",
    "    unlist()\n",
    "X_test_white_lm <- testing_set_white_lm %>% \n",
    "    select(-quality) %>% \n",
    "    data.frame()\n",
    "\n",
    "Y_test_white_lm <- testing_set_white_lm %>% \n",
    "    select(quality) %>% \n",
    "    unlist()\n"
   ]
  },
  {
   "cell_type": "code",
   "execution_count": 27,
   "metadata": {},
   "outputs": [
    {
     "data": {
      "text/plain": [
       "Linear Regression \n",
       "\n",
       "3674 samples\n",
       "  11 predictor\n",
       "\n",
       "No pre-processing\n",
       "Resampling: Bootstrapped (25 reps) \n",
       "Summary of sample sizes: 3674, 3674, 3674, 3674, 3674, 3674, ... \n",
       "Resampling results:\n",
       "\n",
       "  RMSE       Rsquared  MAE     \n",
       "  0.7514605  0.281173  0.584359\n",
       "\n",
       "Tuning parameter 'intercept' was held constant at a value of TRUE"
=======
      "text/plain": [
       "k-Nearest Neighbors \n",
       "\n",
       "4872 samples\n",
       "  11 predictor\n",
       "   2 classes: 'red', 'white' \n",
       "\n",
       "No pre-processing\n",
       "Resampling: Cross-Validated (10 fold) \n",
       "Summary of sample sizes: 4385, 4384, 4384, 4385, 4386, 4384, ... \n",
       "Resampling results across tuning parameters:\n",
       "\n",
       "  k   Accuracy   Kappa    \n",
       "   1  0.9917902  0.9778991\n",
       "   3  0.9907623  0.9751160\n",
       "   5  0.9901475  0.9734134\n",
       "   7  0.9891208  0.9706208\n",
       "   9  0.9882999  0.9684065\n",
       "  11  0.9874785  0.9662009\n",
       "  13  0.9866568  0.9639921\n",
       "  15  0.9862457  0.9628765\n",
       "  17  0.9862457  0.9628685\n",
       "  19  0.9858350  0.9617567\n",
       "  21  0.9862457  0.9628943\n",
       "  23  0.9858362  0.9618025\n",
       "  25  0.9846046  0.9584561\n",
       "  27  0.9848100  0.9590042\n",
       "  29  0.9848095  0.9590128\n",
       "  31  0.9848091  0.9590034\n",
       "  33  0.9848087  0.9589748\n",
       "  35  0.9846042  0.9584052\n",
       "  37  0.9841931  0.9572925\n",
       "  39  0.9841927  0.9573168\n",
       "  41  0.9839878  0.9567566\n",
       "  43  0.9841927  0.9573542\n",
       "  45  0.9846034  0.9584234\n",
       "  47  0.9839873  0.9568157\n",
       "  49  0.9837820  0.9562867\n",
       "  51  0.9837820  0.9562961\n",
       "  53  0.9839869  0.9568534\n",
       "  55  0.9835767  0.9557350\n",
       "  57  0.9827557  0.9535544\n",
       "  59  0.9833717  0.9552651\n",
       "  61  0.9833717  0.9552651\n",
       "  63  0.9831664  0.9547350\n",
       "  65  0.9829611  0.9541743\n",
       "  67  0.9833713  0.9552863\n",
       "  69  0.9831664  0.9547812\n",
       "  71  0.9825508  0.9530839\n",
       "  73  0.9825508  0.9530839\n",
       "  75  0.9829615  0.9542145\n",
       "  77  0.9827562  0.9536631\n",
       "  79  0.9829611  0.9542298\n",
       "  81  0.9821393  0.9520405\n",
       "  83  0.9817286  0.9508907\n",
       "  85  0.9815233  0.9503585\n",
       "  87  0.9817290  0.9509036\n",
       "  89  0.9819348  0.9514867\n",
       "  91  0.9819344  0.9514801\n",
       "  93  0.9819348  0.9515147\n",
       "  95  0.9821397  0.9520534\n",
       "  97  0.9817290  0.9509526\n",
       "  99  0.9817290  0.9509560\n",
       "\n",
       "Accuracy was used to select the optimal model using the largest value.\n",
       "The final value used for the model was k = 1."
>>>>>>> 8cfcf845f30f8e1bf47ca3eba70e9d32e1eadaf7
      ]
     },
     "metadata": {},
     "output_type": "display_data"
    }
   ],
   "source": [
<<<<<<< HEAD
    "lm_reg_white <- train(x = X_train_white_lm, y = Y_train_white_lm, method = \"lm\")\n",
    "lm_reg_white "
=======
    "set.seed(2017)\n",
    "knn_cv_type_all <- train(x = X_train_type_all, y = Y_train_type_all, method = \"knn\", tuneGrid = k_lots_type_all, trControl = train_control) \n",
    "knn_cv_type_all"
>>>>>>> 8cfcf845f30f8e1bf47ca3eba70e9d32e1eadaf7
   ]
  },
  {
   "cell_type": "code",
<<<<<<< HEAD
   "execution_count": 28,
   "metadata": {},
   "outputs": [
    {
     "data": {
      "text/html": [
       "<dl class=dl-horizontal>\n",
       "\t<dt>(Intercept)</dt>\n",
       "\t\t<dd>138.818068698005</dd>\n",
       "\t<dt>fixed.acidity</dt>\n",
       "\t\t<dd>0.0552444498515098</dd>\n",
       "\t<dt>volatile.acidity</dt>\n",
       "\t\t<dd>-1.82867145389064</dd>\n",
       "\t<dt>citric.acid</dt>\n",
       "\t\t<dd>0.0666986493716271</dd>\n",
       "\t<dt>residual.sugar</dt>\n",
       "\t\t<dd>0.0742534668354718</dd>\n",
       "\t<dt>chlorides</dt>\n",
       "\t\t<dd>-0.408044371122605</dd>\n",
       "\t<dt>free.sulfur.dioxide</dt>\n",
       "\t\t<dd>0.00496355258542456</dd>\n",
       "\t<dt>total.sulfur.dioxide</dt>\n",
       "\t\t<dd>-0.000472553267137944</dd>\n",
       "\t<dt>density</dt>\n",
       "\t\t<dd>-138.804691246083</dd>\n",
       "\t<dt>pH</dt>\n",
       "\t\t<dd>0.658943654451381</dd>\n",
       "\t<dt>sulphates</dt>\n",
       "\t\t<dd>0.611149812998906</dd>\n",
       "\t<dt>alcohol</dt>\n",
       "\t\t<dd>0.207342358732366</dd>\n",
       "</dl>\n"
      ],
      "text/latex": [
       "\\begin{description*}\n",
       "\\item[(Intercept)] 138.818068698005\n",
       "\\item[fixed.acidity] 0.0552444498515098\n",
       "\\item[volatile.acidity] -1.82867145389064\n",
       "\\item[citric.acid] 0.0666986493716271\n",
       "\\item[residual.sugar] 0.0742534668354718\n",
       "\\item[chlorides] -0.408044371122605\n",
       "\\item[free.sulfur.dioxide] 0.00496355258542456\n",
       "\\item[total.sulfur.dioxide] -0.000472553267137944\n",
       "\\item[density] -138.804691246083\n",
       "\\item[pH] 0.658943654451381\n",
       "\\item[sulphates] 0.611149812998906\n",
       "\\item[alcohol] 0.207342358732366\n",
       "\\end{description*}\n"
      ],
      "text/markdown": [
       "(Intercept)\n",
       ":   138.818068698005fixed.acidity\n",
       ":   0.0552444498515098volatile.acidity\n",
       ":   -1.82867145389064citric.acid\n",
       ":   0.0666986493716271residual.sugar\n",
       ":   0.0742534668354718chlorides\n",
       ":   -0.408044371122605free.sulfur.dioxide\n",
       ":   0.00496355258542456total.sulfur.dioxide\n",
       ":   -0.000472553267137944density\n",
       ":   -138.804691246083pH\n",
       ":   0.658943654451381sulphates\n",
       ":   0.611149812998906alcohol\n",
       ":   0.207342358732366\n",
       "\n"
      ],
      "text/plain": [
       "         (Intercept)        fixed.acidity     volatile.acidity \n",
       "        1.388181e+02         5.524445e-02        -1.828671e+00 \n",
       "         citric.acid       residual.sugar            chlorides \n",
       "        6.669865e-02         7.425347e-02        -4.080444e-01 \n",
       " free.sulfur.dioxide total.sulfur.dioxide              density \n",
       "        4.963553e-03        -4.725533e-04        -1.388047e+02 \n",
       "                  pH            sulphates              alcohol \n",
       "        6.589437e-01         6.111498e-01         2.073424e-01 "
      ]
     },
     "metadata": {},
     "output_type": "display_data"
    }
   ],
   "source": [
    "lm_white_coef  <- lm_reg_white$finalModel$coefficients\n",
    "lm_white_coef"
   ]
  },
  {
   "cell_type": "code",
   "execution_count": 31,
   "metadata": {},
   "outputs": [
    {
     "data": {
      "text/html": [
       "<dl class=dl-horizontal>\n",
       "\t<dt>RMSE</dt>\n",
       "\t\t<dd>0.765454757312019</dd>\n",
       "\t<dt>Rsquared</dt>\n",
       "\t\t<dd>0.256726656342314</dd>\n",
       "\t<dt>MAE</dt>\n",
       "\t\t<dd>0.590999574865653</dd>\n",
       "</dl>\n"
      ],
      "text/latex": [
       "\\begin{description*}\n",
       "\\item[RMSE] 0.765454757312019\n",
       "\\item[Rsquared] 0.256726656342314\n",
       "\\item[MAE] 0.590999574865653\n",
       "\\end{description*}\n"
      ],
      "text/markdown": [
       "RMSE\n",
       ":   0.765454757312019Rsquared\n",
       ":   0.256726656342314MAE\n",
       ":   0.590999574865653\n",
       "\n"
      ],
      "text/plain": [
       "     RMSE  Rsquared       MAE \n",
       "0.7654548 0.2567267 0.5909996 "
      ]
     },
     "metadata": {},
     "output_type": "display_data"
    }
   ],
   "source": [
    "test_pred_white_lm <- predict(lm_reg_white, X_test_white_lm)\n",
    "lm_regValues_white <- data.frame(obs = Y_test_white_lm, pred = test_pred_white_lm)\n",
    "lm_defaultSum_white <- defaultSummary(lm_regValues_white)\n",
    "lm_defaultSum_white"
   ]
  },
  {
   "cell_type": "markdown",
   "metadata": {},
   "source": [
    "#### End of White Wine Analysis"
   ]
  },
  {
   "cell_type": "code",
   "execution_count": 32,
   "metadata": {},
   "outputs": [
    {
     "name": "stdout",
     "output_type": "stream",
     "text": [
      "Observations: 6,497\n",
      "Variables: 13\n",
      "$ fixed_acidity        <dbl> 1.0093572, 1.0639170, 1.0639170, 1.5276757, 1....\n",
      "$ volatile_acidity     <dbl> 1.8543718, 2.3312103, 2.0133180, 0.7417487, 1....\n",
      "$ citric_acid          <dbl> 0.00000000, 0.00000000, 0.11421113, 1.59895588...\n",
      "$ residual_sugar       <dbl> 0.2628010, 0.3596225, 0.3181276, 0.2628010, 0....\n",
      "$ chlorides            <dbl> 1.1499810, 1.4828702, 1.3920822, 1.1348497, 1....\n",
      "$ free_sulfur_dioxide  <dbl> 0.3115035, 0.7079626, 0.4247776, 0.4814146, 0....\n",
      "$ total_sulfur_dioxide <dbl> 0.2639162, 0.5200702, 0.4191611, 0.4657345, 0....\n",
      "$ density              <dbl> 1.0030382, 1.0020329, 1.0022340, 1.0032392, 1....\n",
      "$ pH                   <dbl> 1.0891279, 0.9929371, 1.0115547, 0.9805254, 1....\n",
      "$ sulphates            <dbl> 1.0149448, 1.2324330, 1.1780610, 1.0511929, 1....\n",
      "$ alcohol              <dbl> 0.8901364, 0.9280145, 0.9280145, 0.9280145, 0....\n",
      "$ quality              <int> 5, 5, 5, 6, 5, 5, 5, 7, 7, 5, 5, 5, 5, 5, 5, 5...\n",
      "$ type                 <fct> red, red, red, red, red, red, red, red, red, r...\n"
     ]
    }
   ],
   "source": [
    "scaled_wine_data <- wine_data%>%\n",
    "    select(-c(quality, type)) %>% \n",
    "    scale(center = FALSE) \n",
    "scaled_wine_data <- data.frame(scaled_wine_data, quality = wine_data$quality, type = wine_data$type)\n",
    "colnames(scaled_wine_data) <- c(\"fixed_acidity\", \"volatile_acidity\", \"citric_acid\", \"residual_sugar\", \"chlorides\", \n",
    "                        \"free_sulfur_dioxide\", \"total_sulfur_dioxide\", \"density\", \"pH\", \"sulphates\", \"alcohol\", \n",
    "                        \"quality\", \"type\")\n",
    "glimpse(scaled_wine_data)"
   ]
  },
  {
   "cell_type": "code",
   "execution_count": 33,
   "metadata": {},
   "outputs": [
    {
     "name": "stdout",
     "output_type": "stream",
     "text": [
      "Observations: 6,495\n",
      "Variables: 13\n",
      "$ fixed_acidity        <dbl> 1.0093572, 1.0639170, 1.0639170, 1.5276757, 1....\n",
      "$ volatile_acidity     <dbl> 1.8543718, 2.3312103, 2.0133180, 0.7417487, 1....\n",
      "$ citric_acid          <dbl> 0.00000000, 0.00000000, 0.11421113, 1.59895588...\n",
      "$ residual_sugar       <dbl> 0.2628010, 0.3596225, 0.3181276, 0.2628010, 0....\n",
      "$ chlorides            <dbl> 1.1499810, 1.4828702, 1.3920822, 1.1348497, 1....\n",
      "$ free_sulfur_dioxide  <dbl> 0.3115035, 0.7079626, 0.4247776, 0.4814146, 0....\n",
      "$ total_sulfur_dioxide <dbl> 0.2639162, 0.5200702, 0.4191611, 0.4657345, 0....\n",
      "$ density              <dbl> 1.0030382, 1.0020329, 1.0022340, 1.0032392, 1....\n",
      "$ pH                   <dbl> 1.0891279, 0.9929371, 1.0115547, 0.9805254, 1....\n",
      "$ sulphates            <dbl> 1.0149448, 1.2324330, 1.1780610, 1.0511929, 1....\n",
      "$ alcohol              <dbl> 0.8901364, 0.9280145, 0.9280145, 0.9280145, 0....\n",
      "$ quality              <int> 5, 5, 5, 6, 5, 5, 5, 7, 7, 5, 5, 5, 5, 5, 5, 5...\n",
      "$ type                 <fct> red, red, red, red, red, red, red, red, red, r...\n"
     ]
    }
   ],
   "source": [
    "scaled_wine_data <- na.omit(scaled_wine_data)\n",
    "glimpse(scaled_wine_data)"
   ]
  },
  {
   "cell_type": "code",
   "execution_count": 34,
   "metadata": {},
   "outputs": [],
   "source": [
    "set.seed(2017)\n",
    "training_rows <- scaled_wine_data %>% \n",
    "    select(quality) %>% \n",
    "    unlist() %>% \n",
    "    createDataPartition(p = 0.75, list = FALSE)\n",
    "\n",
    "training_set <- scaled_wine_data %>% \n",
    "    slice(training_rows)\n",
    "\n",
    "testing_set <- scaled_wine_data %>% \n",
    "    slice(-training_rows)\n",
    "\n",
    "X_train_type_all <- training_set %>% \n",
    "    select(fixed_acidity, volatile_acidity, citric_acid, residual_sugar, chlorides, free_sulfur_dioxide, total_sulfur_dioxide, \n",
    "           density, pH, sulphates, alcohol) %>% \n",
    "    data.frame()\n",
    "\n",
    "Y_train_type_all <- training_set %>% \n",
    "    select(quality) %>% \n",
    "    unlist()\n",
    "X_test_type_all <- testing_set %>% \n",
    "    select(fixed_acidity, volatile_acidity, citric_acid, residual_sugar, chlorides, free_sulfur_dioxide, total_sulfur_dioxide, \n",
    "           density, pH, sulphates, alcohol) %>% \n",
    "    data.frame()\n",
    "\n",
    "Y_test_type_all <- testing_set %>% \n",
    "    select(quality) %>% \n",
    "    unlist()"
   ]
  },
  {
   "cell_type": "code",
   "execution_count": 35,
   "metadata": {},
   "outputs": [],
   "source": [
    "train_control <- trainControl(method = \"cv\", number = 10)\n",
    "k_lots_type_all = data.frame(k = seq(from = 1, to = 50 , by = 1)) "
   ]
  },
  {
   "cell_type": "code",
   "execution_count": 36,
   "metadata": {},
   "outputs": [
    {
     "data": {
      "text/plain": [
       "k-Nearest Neighbors \n",
       "\n",
       "4872 samples\n",
       "  11 predictor\n",
       "\n",
       "No pre-processing\n",
       "Resampling: Cross-Validated (10 fold) \n",
       "Summary of sample sizes: 4386, 4385, 4384, 4384, 4386, 4384, ... \n",
       "Resampling results across tuning parameters:\n",
       "\n",
       "  k   RMSE       Rsquared   MAE      \n",
       "   1  0.8267339  0.2952183  0.4872538\n",
       "   2  0.7732313  0.3001630  0.5353860\n",
       "   3  0.7511165  0.3078552  0.5504425\n",
       "   4  0.7441366  0.3059202  0.5542082\n",
       "   5  0.7333752  0.3135682  0.5521498\n",
       "   6  0.7269065  0.3198000  0.5532944\n",
       "   7  0.7291600  0.3123808  0.5595630\n",
       "   8  0.7261304  0.3157205  0.5608260\n",
       "   9  0.7254088  0.3157560  0.5620268\n",
       "  10  0.7260392  0.3138172  0.5625144\n",
       "  11  0.7256747  0.3139035  0.5640479\n",
       "  12  0.7242954  0.3159488  0.5640929\n",
       "  13  0.7229233  0.3186965  0.5637369\n",
       "  14  0.7242782  0.3163696  0.5653398\n",
       "  15  0.7240157  0.3170577  0.5665401\n",
       "  16  0.7234681  0.3183264  0.5675373\n",
       "  17  0.7237020  0.3182575  0.5684658\n",
       "  18  0.7233448  0.3192448  0.5685453\n",
       "  19  0.7241773  0.3181787  0.5691123\n",
       "  20  0.7236934  0.3195354  0.5687789\n",
       "  21  0.7234037  0.3205796  0.5683778\n",
       "  22  0.7238673  0.3202811  0.5686036\n",
       "  23  0.7245731  0.3191754  0.5693008\n",
       "  24  0.7257819  0.3171831  0.5704209\n",
       "  25  0.7262508  0.3167483  0.5707752\n",
       "  26  0.7271302  0.3155505  0.5716699\n",
       "  27  0.7279310  0.3141985  0.5726408\n",
       "  28  0.7285426  0.3132891  0.5736842\n",
       "  29  0.7282622  0.3145247  0.5733075\n",
       "  30  0.7294968  0.3121418  0.5743975\n",
       "  31  0.7300875  0.3112683  0.5750211\n",
       "  32  0.7306471  0.3105154  0.5751194\n",
       "  33  0.7314697  0.3091611  0.5761455\n",
       "  34  0.7324172  0.3074202  0.5770390\n",
       "  35  0.7332009  0.3061714  0.5778444\n",
       "  36  0.7331327  0.3068565  0.5781385\n",
       "  37  0.7338532  0.3058410  0.5788014\n",
       "  38  0.7346911  0.3043948  0.5794505\n",
       "  39  0.7350837  0.3040176  0.5795401\n",
       "  40  0.7361043  0.3021858  0.5805921\n",
       "  41  0.7364666  0.3019068  0.5809990\n",
       "  42  0.7368255  0.3015936  0.5813596\n",
       "  43  0.7370580  0.3014138  0.5814664\n",
       "  44  0.7378765  0.3000465  0.5821781\n",
       "  45  0.7382306  0.2996547  0.5822658\n",
       "  46  0.7384226  0.2995950  0.5825888\n",
       "  47  0.7393510  0.2978888  0.5834897\n",
       "  48  0.7391902  0.2986017  0.5836093\n",
       "  49  0.7396543  0.2980076  0.5840820\n",
       "  50  0.7395399  0.2987265  0.5843659\n",
       "\n",
       "RMSE was used to select the optimal model using the smallest value.\n",
       "The final value used for the model was k = 13."
      ]
     },
     "metadata": {},
     "output_type": "display_data"
    }
   ],
   "source": [
    "set.seed(2017)\n",
    "knn_cv_type_all <- train(x = X_train_type_all, y = Y_train_type_all, method = \"knn\", tuneGrid = k_lots_type_all, trControl = train_control) \n",
    "knn_cv_type_all"
   ]
  },
  {
   "cell_type": "code",
   "execution_count": 37,
   "metadata": {},
   "outputs": [
    {
     "name": "stderr",
     "output_type": "stream",
     "text": [
      "ERROR while rich displaying an object: Error in FUN(X[[i]], ...): object 'Accuracy' not found\n",
      "\n",
      "Traceback:\n",
      "1. FUN(X[[i]], ...)\n",
      "2. tryCatch(withCallingHandlers({\n",
      " .     rpr <- mime2repr[[mime]](obj)\n",
      " .     if (is.null(rpr)) \n",
      " .         return(NULL)\n",
      " .     prepare_content(is.raw(rpr), rpr)\n",
      " . }, error = error_handler), error = outer_handler)\n",
      "3. tryCatchList(expr, classes, parentenv, handlers)\n",
      "4. tryCatchOne(expr, names, parentenv, handlers[[1L]])\n",
      "5. doTryCatch(return(expr), name, parentenv, handler)\n",
      "6. withCallingHandlers({\n",
      " .     rpr <- mime2repr[[mime]](obj)\n",
      " .     if (is.null(rpr)) \n",
      " .         return(NULL)\n",
      " .     prepare_content(is.raw(rpr), rpr)\n",
      " . }, error = error_handler)\n",
      "7. mime2repr[[mime]](obj)\n",
      "8. repr_text.default(obj)\n",
      "9. paste(capture.output(print(obj)), collapse = \"\\n\")\n",
      "10. capture.output(print(obj))\n",
      "11. evalVis(expr)\n",
      "12. withVisible(eval(expr, pf))\n",
      "13. eval(expr, pf)\n",
      "14. eval(expr, pf)\n",
      "15. print(obj)\n",
      "16. print.ggplot(obj)\n",
      "17. ggplot_build(x)\n",
      "18. ggplot_build.ggplot(x)\n",
      "19. by_layer(function(l, d) l$compute_aesthetics(d, plot))\n",
      "20. f(l = layers[[i]], d = data[[i]])\n",
      "21. l$compute_aesthetics(d, plot)\n",
      "22. f(..., self = self)\n",
      "23. scales_add_defaults(plot$scales, data, aesthetics, plot$plot_env)\n",
      "24. lapply(aesthetics[new_aesthetics], rlang::eval_tidy, data = data)\n",
      "25. FUN(X[[i]], ...)\n"
     ]
    },
    {
     "data": {},
     "metadata": {},
     "output_type": "display_data"
    },
    {
     "data": {
      "image/png": "iVBORw0KGgoAAAANSUhEUgAAAeAAAAHgCAMAAABKCk6nAAAAA1BMVEX///+nxBvIAAAACXBI\nWXMAABJ0AAASdAHeZh94AAAA9klEQVR4nO3BAQ0AAADCoPdPbQ8HFAAAAAAAAAAAAAAAAAAA\nAAAAAAAAAAAAAAAAAAAAAAAAAAAAAAAAAAAAAAAAAAAAAAAAAAAAAAAAAAAAAAAAAAAAAAAA\nAAAAAAAAAAAAAAAAAAAAAAAAAAAAAAAAAAAAAAAAAAAAAAAAAAAAAAAAAAAAAAAAAAAAAAAA\nAAAAAAAAAAAAAAAAAAAAAAAAAAAAAAAAAAAAAAAAAAAAAAAAAAAAAAAAAAAAAAAAAAAAAAAA\nAAAAAAAAAAAAAAAAAAAAAAAAAAAAAAAAAAAAAAAAAAAAAAAAAAAAAAAAAAAAAAD8G4YNAAGL\n73n/AAAAAElFTkSuQmCC",
      "text/plain": [
=======
   "execution_count": 100,
   "metadata": {},
   "outputs": [
    {
     "data": {},
     "metadata": {},
     "output_type": "display_data"
    },
    {
     "data": {
      "image/png": "iVBORw0KGgoAAAANSUhEUgAAAeAAAAHgCAMAAABKCk6nAAADAFBMVEUAAAABAQECAgIDAwME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",
      "text/plain": [
>>>>>>> 8cfcf845f30f8e1bf47ca3eba70e9d32e1eadaf7
       "plot without title"
      ]
     },
     "metadata": {},
     "output_type": "display_data"
    }
   ],
   "source": [
    "accuracy_vs_k_type_all <- knn_cv_type_all$results %>% \n",
    "    ggplot(aes(x = k, y = Accuracy)) +\n",
    "    geom_point() +\n",
    "    geom_line()\n",
    "accuracy_vs_k_type_all"
   ]
  },
  {
   "cell_type": "code",
<<<<<<< HEAD
   "execution_count": null,
   "metadata": {},
   "outputs": [],
=======
   "execution_count": 101,
   "metadata": {},
   "outputs": [
    {
     "data": {
      "text/plain": [
       "Confusion Matrix and Statistics\n",
       "\n",
       "          Reference\n",
       "Prediction  red white\n",
       "     red    390    12\n",
       "     white    9  1212\n",
       "                                         \n",
       "               Accuracy : 0.9871         \n",
       "                 95% CI : (0.9803, 0.992)\n",
       "    No Information Rate : 0.7542         \n",
       "    P-Value [Acc > NIR] : <2e-16         \n",
       "                                         \n",
       "                  Kappa : 0.9652         \n",
       " Mcnemar's Test P-Value : 0.6625         \n",
       "                                         \n",
       "            Sensitivity : 0.9774         \n",
       "            Specificity : 0.9902         \n",
       "         Pos Pred Value : 0.9701         \n",
       "         Neg Pred Value : 0.9926         \n",
       "             Prevalence : 0.2458         \n",
       "         Detection Rate : 0.2403         \n",
       "   Detection Prevalence : 0.2477         \n",
       "      Balanced Accuracy : 0.9838         \n",
       "                                         \n",
       "       'Positive' Class : red            \n",
       "                                         "
      ]
     },
     "metadata": {},
     "output_type": "display_data"
    }
   ],
>>>>>>> 8cfcf845f30f8e1bf47ca3eba70e9d32e1eadaf7
   "source": [
    "#choose k=1\n",
    "knn_model_type_all <- train(x = X_train_type_all, y = Y_train_type_all, method = \"knn\", tuneGrid = data.frame(k = 1))\n",
    "test_pred_type_all <- predict(knn_model_type_all, X_test_type_all)\n",
    "test_result_type_all <- confusionMatrix(test_pred_type_all, Y_test_type_all)\n",
    "test_result_type_all"
<<<<<<< HEAD
=======
   ]
  },
  {
   "cell_type": "code",
   "execution_count": 102,
   "metadata": {},
   "outputs": [],
   "source": [
    "#Changing predictors to first three\n",
    "X_train_type_3 <- training_set %>% \n",
    "    select(fixed_acidity, volatile_acidity, citric_acid) %>% \n",
    "    data.frame()\n",
    "\n",
    "Y_train_type_3 <- training_set %>% \n",
    "    select(type) %>% \n",
    "    unlist()\n",
    "X_test_type_3 <- testing_set %>% \n",
    "    select(fixed_acidity, volatile_acidity, citric_acid) %>% \n",
    "    data.frame()\n",
    "\n",
    "Y_test_type_3 <- testing_set %>% \n",
    "    select(type) %>% \n",
    "    unlist()"
>>>>>>> 8cfcf845f30f8e1bf47ca3eba70e9d32e1eadaf7
   ]
  },
  {
   "cell_type": "code",
   "execution_count": 103,
   "metadata": {},
   "outputs": [],
   "source": [
<<<<<<< HEAD
    "#Changing predictors to first three\n",
    "X_train_type_3 <- training_set %>% \n",
    "    select(fixed_acidity, volatile_acidity, citric_acid) %>% \n",
    "    data.frame()\n",
    "\n",
    "Y_train_type_3 <- training_set %>% \n",
    "    select(type) %>% \n",
    "    unlist()\n",
    "X_test_type_3 <- testing_set %>% \n",
    "    select(fixed_acidity, volatile_acidity, citric_acid) %>% \n",
    "    data.frame()\n",
    "\n",
    "Y_test_type_3 <- testing_set %>% \n",
    "    select(type) %>% \n",
    "    unlist()"
   ]
  },
  {
   "cell_type": "code",
   "execution_count": null,
   "metadata": {},
   "outputs": [],
   "source": [
=======
>>>>>>> 8cfcf845f30f8e1bf47ca3eba70e9d32e1eadaf7
    "train_control <- trainControl(method = \"cv\", number = 10)\n",
    "k_lots_type_3 = data.frame(k = seq(from = 1, to = 100 , by = 2)) "
   ]
  },
  {
   "cell_type": "code",
<<<<<<< HEAD
   "execution_count": null,
   "metadata": {},
   "outputs": [],
=======
   "execution_count": 104,
   "metadata": {},
   "outputs": [
    {
     "data": {
      "text/plain": [
       "k-Nearest Neighbors \n",
       "\n",
       "4872 samples\n",
       "   3 predictor\n",
       "   2 classes: 'red', 'white' \n",
       "\n",
       "No pre-processing\n",
       "Resampling: Cross-Validated (10 fold) \n",
       "Summary of sample sizes: 4385, 4384, 4384, 4385, 4386, 4384, ... \n",
       "Resampling results across tuning parameters:\n",
       "\n",
       "  k   Accuracy   Kappa    \n",
       "   1  0.9088716  0.7518762\n",
       "   3  0.9008646  0.7275809\n",
       "   5  0.9049718  0.7388753\n",
       "   7  0.9103060  0.7519048\n",
       "   9  0.9129779  0.7602965\n",
       "  11  0.9156461  0.7667371\n",
       "  13  0.9142112  0.7625493\n",
       "  15  0.9150334  0.7642750\n",
       "  17  0.9150330  0.7646150\n",
       "  19  0.9133941  0.7600322\n",
       "  21  0.9144178  0.7621652\n",
       "  23  0.9135957  0.7598362\n",
       "  25  0.9129792  0.7583764\n",
       "  27  0.9123640  0.7562980\n",
       "  29  0.9123636  0.7563923\n",
       "  31  0.9119534  0.7552393\n",
       "  33  0.9125698  0.7567279\n",
       "  35  0.9121591  0.7548957\n",
       "  37  0.9119546  0.7547207\n",
       "  39  0.9107234  0.7508339\n",
       "  41  0.9111333  0.7520590\n",
       "  43  0.9113390  0.7531307\n",
       "  45  0.9129796  0.7574221\n",
       "  47  0.9121604  0.7550868\n",
       "  49  0.9103128  0.7502268\n",
       "  51  0.9092852  0.7468201\n",
       "  53  0.9090807  0.7463201\n",
       "  55  0.9082585  0.7444708\n",
       "  57  0.9078470  0.7431379\n",
       "  59  0.9072322  0.7412020\n",
       "  61  0.9070273  0.7404651\n",
       "  63  0.9080532  0.7434214\n",
       "  65  0.9068220  0.7399323\n",
       "  67  0.9078495  0.7424489\n",
       "  69  0.9082594  0.7437097\n",
       "  71  0.9090803  0.7456867\n",
       "  73  0.9092844  0.7463988\n",
       "  75  0.9084634  0.7434365\n",
       "  77  0.9080536  0.7424972\n",
       "  79  0.9076429  0.7411406\n",
       "  81  0.9078478  0.7417031\n",
       "  83  0.9072314  0.7403559\n",
       "  85  0.9082581  0.7429974\n",
       "  87  0.9080528  0.7424856\n",
       "  89  0.9080519  0.7426532\n",
       "  91  0.9072301  0.7400965\n",
       "  93  0.9070252  0.7398104\n",
       "  95  0.9068203  0.7390294\n",
       "  97  0.9064092  0.7380625\n",
       "  99  0.9070256  0.7397798\n",
       "\n",
       "Accuracy was used to select the optimal model using the largest value.\n",
       "The final value used for the model was k = 11."
      ]
     },
     "metadata": {},
     "output_type": "display_data"
    }
   ],
>>>>>>> 8cfcf845f30f8e1bf47ca3eba70e9d32e1eadaf7
   "source": [
    "set.seed(2017)\n",
    "knn_cv_type_3 <- train(x = X_train_type_3, y = Y_train_type_3, method = \"knn\", tuneGrid = k_lots_type_3, trControl = train_control) \n",
    "knn_cv_type_3"
   ]
  },
  {
   "cell_type": "code",
<<<<<<< HEAD
   "execution_count": null,
   "metadata": {},
   "outputs": [],
=======
   "execution_count": 105,
   "metadata": {},
   "outputs": [
    {
     "data": {},
     "metadata": {},
     "output_type": "display_data"
    },
    {
     "data": {
      "image/png": "iVBORw0KGgoAAAANSUhEUgAAAeAAAAHgCAMAAABKCk6nAAADAFBMVEUAAAABAQECAgIDAwME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\nt5vonj4AAAAASUVORK5CYII=",
      "text/plain": [
       "plot without title"
      ]
     },
     "metadata": {},
     "output_type": "display_data"
    }
   ],
>>>>>>> 8cfcf845f30f8e1bf47ca3eba70e9d32e1eadaf7
   "source": [
    "accuracy_vs_k_type_3 <- knn_cv_type_3$results %>% \n",
    "    ggplot(aes(x = k, y = Accuracy)) +\n",
    "    geom_point() +\n",
    "    geom_line()\n",
    "accuracy_vs_k_type_3"
   ]
  },
  {
   "cell_type": "code",
<<<<<<< HEAD
   "execution_count": null,
   "metadata": {},
   "outputs": [],
=======
   "execution_count": 107,
   "metadata": {},
   "outputs": [
    {
     "data": {
      "text/plain": [
       "Confusion Matrix and Statistics\n",
       "\n",
       "          Reference\n",
       "Prediction  red white\n",
       "     red    324    51\n",
       "     white   75  1173\n",
       "                                          \n",
       "               Accuracy : 0.9224          \n",
       "                 95% CI : (0.9083, 0.9349)\n",
       "    No Information Rate : 0.7542          \n",
       "    P-Value [Acc > NIR] : < 2e-16         \n",
       "                                          \n",
       "                  Kappa : 0.7863          \n",
       " Mcnemar's Test P-Value : 0.04046         \n",
       "                                          \n",
       "            Sensitivity : 0.8120          \n",
       "            Specificity : 0.9583          \n",
       "         Pos Pred Value : 0.8640          \n",
       "         Neg Pred Value : 0.9399          \n",
       "             Prevalence : 0.2458          \n",
       "         Detection Rate : 0.1996          \n",
       "   Detection Prevalence : 0.2311          \n",
       "      Balanced Accuracy : 0.8852          \n",
       "                                          \n",
       "       'Positive' Class : red             \n",
       "                                          "
      ]
     },
     "metadata": {},
     "output_type": "display_data"
    }
   ],
>>>>>>> 8cfcf845f30f8e1bf47ca3eba70e9d32e1eadaf7
   "source": [
    "# CHOOSE k= 11\n",
    "knn_model_type_3 <- train(x = X_train_type_3, y = Y_train_type_3, method = \"knn\", tuneGrid = data.frame(k = 11))\n",
    "test_pred_type_3 <- predict(knn_model_type_3, X_test_type_3)\n",
    "test_result_type_3 <- confusionMatrix(test_pred_type_3, Y_test_type_3)\n",
    "test_result_type_3"
   ]
  },
  {
   "cell_type": "code",
<<<<<<< HEAD
   "execution_count": null,
   "metadata": {},
   "outputs": [],
=======
   "execution_count": 108,
   "metadata": {},
   "outputs": [
    {
     "data": {
      "text/plain": [
       "k-Nearest Neighbors \n",
       "\n",
       "4872 samples\n",
       "   6 predictor\n",
       "   2 classes: 'red', 'white' \n",
       "\n",
       "No pre-processing\n",
       "Resampling: Cross-Validated (10 fold) \n",
       "Summary of sample sizes: 4385, 4384, 4384, 4385, 4386, 4384, ... \n",
       "Resampling results across tuning parameters:\n",
       "\n",
       "  k   Accuracy   Kappa    \n",
       "   1  0.9692105  0.9174025\n",
       "   3  0.9696187  0.9183796\n",
       "   5  0.9690035  0.9163577\n",
       "   7  0.9710560  0.9219551\n",
       "   9  0.9706428  0.9206247\n",
       "  11  0.9714663  0.9229901\n",
       "  13  0.9704409  0.9202249\n",
       "  15  0.9706454  0.9207829\n",
       "  17  0.9694142  0.9175725\n",
       "  19  0.9696195  0.9180530\n",
       "  21  0.9687990  0.9159739\n",
       "  23  0.9677723  0.9130456\n",
       "  25  0.9673629  0.9119765\n",
       "  27  0.9675678  0.9126860\n",
       "  29  0.9675682  0.9124282\n",
       "  31  0.9665411  0.9097202\n",
       "  33  0.9661308  0.9086113\n",
       "  35  0.9661308  0.9086229\n",
       "  37  0.9667460  0.9103996\n",
       "  39  0.9663358  0.9092523\n",
       "  41  0.9663349  0.9092834\n",
       "  43  0.9648980  0.9054723\n",
       "  45  0.9651025  0.9061740\n",
       "  47  0.9653070  0.9066641\n",
       "  49  0.9651025  0.9060849\n",
       "  51  0.9661296  0.9088667\n",
       "  53  0.9657193  0.9078507\n",
       "  55  0.9657185  0.9078143\n",
       "  57  0.9653074  0.9066539\n",
       "  59  0.9659238  0.9082603\n",
       "  61  0.9648988  0.9054690\n",
       "  63  0.9651025  0.9060358\n",
       "  65  0.9661304  0.9088929\n",
       "  67  0.9644881  0.9041870\n",
       "  69  0.9644881  0.9041777\n",
       "  71  0.9636676  0.9020896\n",
       "  73  0.9634614  0.9016100\n",
       "  75  0.9632569  0.9010853\n",
       "  77  0.9624360  0.8988509\n",
       "  79  0.9618192  0.8971500\n",
       "  81  0.9618204  0.8972051\n",
       "  83  0.9610003  0.8949327\n",
       "  85  0.9612057  0.8954451\n",
       "  87  0.9610003  0.8949524\n",
       "  89  0.9616163  0.8964383\n",
       "  91  0.9601798  0.8926307\n",
       "  93  0.9599749  0.8921963\n",
       "  95  0.9605896  0.8938838\n",
       "  97  0.9597687  0.8917443\n",
       "  99  0.9589478  0.8896098\n",
       "\n",
       "Accuracy was used to select the optimal model using the largest value.\n",
       "The final value used for the model was k = 11."
      ]
     },
     "metadata": {},
     "output_type": "display_data"
    }
   ],
>>>>>>> 8cfcf845f30f8e1bf47ca3eba70e9d32e1eadaf7
   "source": [
    "#changing predictors to first six\n",
    "X_train_type_6 <- training_set %>% \n",
    "    select(fixed_acidity, volatile_acidity, citric_acid, residual_sugar, chlorides, free_sulfur_dioxide) %>% \n",
    "    data.frame()\n",
    "\n",
    "Y_train_type_6 <- training_set %>% \n",
    "    select(type) %>% \n",
    "    unlist()\n",
    "X_test_type_6 <- testing_set %>% \n",
    "    select(fixed_acidity, volatile_acidity, citric_acid, residual_sugar, chlorides, free_sulfur_dioxide) %>% \n",
    "    data.frame()\n",
    "\n",
    "Y_test_type_6 <- testing_set %>% \n",
    "    select(type) %>% \n",
    "    unlist()\n",
    "\n",
    "train_control <- trainControl(method = \"cv\", number = 10)\n",
    "k_lots_type_6 = data.frame(k = seq(from = 1, to = 100 , by = 2))\n",
    "\n",
    "set.seed(2017)\n",
    "knn_cv_type_6 <- train(x = X_train_type_6, y = Y_train_type_6, method = \"knn\", tuneGrid = k_lots_type_6, trControl = train_control) \n",
    "knn_cv_type_6"
   ]
  },
  {
   "cell_type": "code",
<<<<<<< HEAD
   "execution_count": null,
   "metadata": {},
   "outputs": [],
=======
   "execution_count": 109,
   "metadata": {},
   "outputs": [
    {
     "data": {},
     "metadata": {},
     "output_type": "display_data"
    },
    {
     "data": {
      "image/png": "iVBORw0KGgoAAAANSUhEUgAAAeAAAAHgCAMAAABKCk6nAAADAFBMVEUAAAABAQECAgIDAwME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\nBdscFGxzULDN+X8own+TIJsxkwAAAABJRU5ErkJggg==",
      "text/plain": [
       "plot without title"
      ]
     },
     "metadata": {},
     "output_type": "display_data"
    }
   ],
>>>>>>> 8cfcf845f30f8e1bf47ca3eba70e9d32e1eadaf7
   "source": [
    "accuracy_vs_k_type_6 <- knn_cv_type_6$results %>% \n",
    "    ggplot(aes(x = k, y = Accuracy)) +\n",
    "    geom_point() +\n",
    "    geom_line()\n",
    "accuracy_vs_k_type_6"
   ]
  },
  {
   "cell_type": "code",
<<<<<<< HEAD
   "execution_count": null,
   "metadata": {},
   "outputs": [],
=======
   "execution_count": 110,
   "metadata": {},
   "outputs": [
    {
     "data": {
      "text/plain": [
       "Confusion Matrix and Statistics\n",
       "\n",
       "          Reference\n",
       "Prediction  red white\n",
       "     red    372    27\n",
       "     white   27  1197\n",
       "                                          \n",
       "               Accuracy : 0.9667          \n",
       "                 95% CI : (0.9568, 0.9749)\n",
       "    No Information Rate : 0.7542          \n",
       "    P-Value [Acc > NIR] : <2e-16          \n",
       "                                          \n",
       "                  Kappa : 0.9103          \n",
       " Mcnemar's Test P-Value : 1               \n",
       "                                          \n",
       "            Sensitivity : 0.9323          \n",
       "            Specificity : 0.9779          \n",
       "         Pos Pred Value : 0.9323          \n",
       "         Neg Pred Value : 0.9779          \n",
       "             Prevalence : 0.2458          \n",
       "         Detection Rate : 0.2292          \n",
       "   Detection Prevalence : 0.2458          \n",
       "      Balanced Accuracy : 0.9551          \n",
       "                                          \n",
       "       'Positive' Class : red             \n",
       "                                          "
      ]
     },
     "metadata": {},
     "output_type": "display_data"
    }
   ],
>>>>>>> 8cfcf845f30f8e1bf47ca3eba70e9d32e1eadaf7
   "source": [
    "#choose k=11\n",
    "knn_model_type_6 <- train(x = X_train_type_6, y = Y_train_type_6, method = \"knn\", tuneGrid = data.frame(k = 11))\n",
    "test_pred_type_6 <- predict(knn_model_type_6, X_test_type_6)\n",
    "test_result_type_6 <- confusionMatrix(test_pred_type_6, Y_test_type_6)\n",
    "test_result_type_6"
   ]
  },
  {
   "cell_type": "markdown",
   "metadata": {},
   "source": []
  }
 ],
 "metadata": {
  "kernelspec": {
   "display_name": "R",
   "language": "R",
   "name": "ir"
  },
  "language_info": {
   "codemirror_mode": "r",
   "file_extension": ".r",
   "mimetype": "text/x-r-source",
   "name": "R",
   "pygments_lexer": "r",
   "version": "3.4.1"
  }
 },
 "nbformat": 4,
 "nbformat_minor": 2
}
