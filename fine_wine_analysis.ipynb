{
 "cells": [
  {
   "cell_type": "markdown",
   "metadata": {},
   "source": [
    "# Wine Analysis "
   ]
  },
  {
   "cell_type": "code",
   "execution_count": 2,
   "metadata": {},
   "outputs": [
    {
     "name": "stderr",
     "output_type": "stream",
     "text": [
      "Installing package into ‘/home/jupyter/R/x86_64-pc-linux-gnu-library/3.5’\n",
      "(as ‘lib’ is unspecified)\n"
     ]
    }
   ],
   "source": [
    "install.packages(\"e1071\")"
   ]
  },
  {
   "cell_type": "code",
   "execution_count": 3,
   "metadata": {},
   "outputs": [
    {
     "name": "stderr",
     "output_type": "stream",
     "text": [
      "Installing package into ‘/home/jupyter/R/x86_64-pc-linux-gnu-library/3.5’\n",
      "(as ‘lib’ is unspecified)\n",
      "── Attaching packages ─────────────────────────────────────── tidyverse 1.2.1 ──\n",
      "✔ ggplot2 3.0.0     ✔ purrr   0.2.5\n",
      "✔ tibble  1.4.2     ✔ dplyr   0.7.6\n",
      "✔ tidyr   0.8.1     ✔ stringr 1.3.1\n",
      "✔ readr   1.1.1     ✔ forcats 0.3.0\n",
      "── Conflicts ────────────────────────────────────────── tidyverse_conflicts() ──\n",
      "✖ dplyr::filter() masks stats::filter()\n",
      "✖ dplyr::lag()    masks stats::lag()\n",
      "Loading required package: lattice\n",
      "\n",
      "Attaching package: ‘caret’\n",
      "\n",
      "The following object is masked from ‘package:purrr’:\n",
      "\n",
      "    lift\n",
      "\n",
      "\n",
      "Attaching package: ‘GGally’\n",
      "\n",
      "The following object is masked from ‘package:dplyr’:\n",
      "\n",
      "    nasa\n",
      "\n"
     ]
    }
   ],
   "source": [
    "install.packages(\"GGally\")\n",
    "library(tidyverse)\n",
    "library(digest)\n",
    "library(repr)\n",
    "library(caret)\n",
    "library(e1071)\n",
    "library(GGally)"
   ]
  },
  {
   "cell_type": "code",
   "execution_count": 4,
   "metadata": {},
   "outputs": [
    {
     "name": "stderr",
     "output_type": "stream",
     "text": [
      "Parsed with column specification:\n",
      "cols(\n",
      "  `fixed acidity` = col_double(),\n",
      "  `volatile acidity` = col_double(),\n",
      "  `citric acid` = col_double(),\n",
      "  `residual sugar` = col_double(),\n",
      "  chlorides = col_double(),\n",
      "  `free sulfur dioxide` = col_double(),\n",
      "  `total sulfur dioxide` = col_double(),\n",
      "  density = col_double(),\n",
      "  pH = col_double(),\n",
      "  sulphates = col_double(),\n",
      "  alcohol = col_double(),\n",
      "  quality = col_integer()\n",
      ")\n"
     ]
    }
   ],
   "source": [
    "white_wine <- read_delim(file = \"data/wine_quality_white.csv\", delim = \";\", col_names = TRUE)"
   ]
  },
  {
   "cell_type": "code",
   "execution_count": 5,
   "metadata": {},
   "outputs": [
    {
     "name": "stderr",
     "output_type": "stream",
     "text": [
      "Parsed with column specification:\n",
      "cols(\n",
      "  `fixed acidity` = col_double(),\n",
      "  `volatile acidity` = col_double(),\n",
      "  `citric acid` = col_double(),\n",
      "  `residual sugar` = col_double(),\n",
      "  chlorides = col_double(),\n",
      "  `free sulfur dioxide` = col_double(),\n",
      "  `total sulfur dioxide` = col_integer(),\n",
      "  density = col_double(),\n",
      "  pH = col_double(),\n",
      "  sulphates = col_double(),\n",
      "  alcohol = col_double(),\n",
      "  quality = col_integer()\n",
      ")\n",
      "Warning message:\n",
      "“2 parsing failures.\n",
      "row # A tibble: 2 x 5 col     row col                expected              actual file                    expected   <int> <chr>              <chr>                 <chr>  <chr>                   actual 1  1296 total sulfur diox… no trailing characte… .5     'data/wine_quality_red… file 2  1297 total sulfur diox… no trailing characte… .5     'data/wine_quality_red…\n",
      "”"
     ]
    }
   ],
   "source": [
    "red_wine <- read_delim(file = \"data/wine_quality_red.csv\", delim = \";\", col_names = TRUE)"
   ]
  },
  {
   "cell_type": "code",
   "execution_count": 6,
   "metadata": {},
   "outputs": [
    {
     "name": "stderr",
     "output_type": "stream",
     "text": [
      "Warning message in (function (data, mapping, alignPercent = 0.6, method = \"pearson\", :\n",
      "“Removed 2 rows containing missing values”Warning message in (function (data, mapping, alignPercent = 0.6, method = \"pearson\", :\n",
      "“Removed 2 rows containing missing values”Warning message in (function (data, mapping, alignPercent = 0.6, method = \"pearson\", :\n",
      "“Removed 2 rows containing missing values”Warning message in (function (data, mapping, alignPercent = 0.6, method = \"pearson\", :\n",
      "“Removed 2 rows containing missing values”Warning message in (function (data, mapping, alignPercent = 0.6, method = \"pearson\", :\n",
      "“Removed 2 rows containing missing values”Warning message in (function (data, mapping, alignPercent = 0.6, method = \"pearson\", :\n",
      "“Removed 2 rows containing missing values”Warning message:\n",
      "“Removed 2 rows containing missing values (geom_point).”Warning message:\n",
      "“Removed 2 rows containing missing values (geom_point).”Warning message:\n",
      "“Removed 2 rows containing missing values (geom_point).”Warning message:\n",
      "“Removed 2 rows containing missing values (geom_point).”Warning message:\n",
      "“Removed 2 rows containing missing values (geom_point).”Warning message:\n",
      "“Removed 2 rows containing missing values (geom_point).”Warning message:\n",
      "“Removed 2 rows containing non-finite values (stat_density).”Warning message in (function (data, mapping, alignPercent = 0.6, method = \"pearson\", :\n",
      "“Removed 2 rows containing missing values”Warning message in (function (data, mapping, alignPercent = 0.6, method = \"pearson\", :\n",
      "“Removed 2 rows containing missing values”Warning message in (function (data, mapping, alignPercent = 0.6, method = \"pearson\", :\n",
      "“Removed 2 rows containing missing values”Warning message in (function (data, mapping, alignPercent = 0.6, method = \"pearson\", :\n",
      "“Removed 2 rows containing missing values”Warning message in (function (data, mapping, alignPercent = 0.6, method = \"pearson\", :\n",
      "“Removed 2 rows containing missing values”Warning message:\n",
      "“Removed 2 rows containing missing values (geom_point).”Warning message:\n",
      "“Removed 2 rows containing missing values (geom_point).”Warning message:\n",
      "“Removed 2 rows containing missing values (geom_point).”Warning message:\n",
      "“Removed 2 rows containing missing values (geom_point).”Warning message:\n",
      "“Removed 2 rows containing missing values (geom_point).”"
     ]
    },
    {
     "data": {},
     "metadata": {},
     "output_type": "display_data"
    },
    {
     "data": {
      "image/png": "[encoded data removed]",
      "text/plain": [
       "plot without title"
      ]
     },
     "metadata": {},
     "output_type": "display_data"
    }
   ],
   "source": [
    "red_wine_pairs  <- red_wine  %>% ggpairs()\n",
    "red_wine_pairs"
   ]
  },
  {
   "cell_type": "code",
   "execution_count": 7,
   "metadata": {},
   "outputs": [
    {
     "data": {
      "text/html": [
       "<dl class=dl-horizontal>\n",
       "\t<dt>fixed acidity</dt>\n",
       "\t\t<dd>6.8547876684361</dd>\n",
       "\t<dt>volatile acidity</dt>\n",
       "\t\t<dd>0.27824111882401</dd>\n",
       "\t<dt>citric acid</dt>\n",
       "\t\t<dd>0.334191506737444</dd>\n",
       "\t<dt>residual sugar</dt>\n",
       "\t\t<dd>6.39141486320947</dd>\n",
       "\t<dt>chlorides</dt>\n",
       "\t\t<dd>0.0457723560636995</dd>\n",
       "\t<dt>free sulfur dioxide</dt>\n",
       "\t\t<dd>35.3080849326256</dd>\n",
       "\t<dt>total sulfur dioxide</dt>\n",
       "\t\t<dd>138.360657411188</dd>\n",
       "\t<dt>density</dt>\n",
       "\t\t<dd>0.994027376480196</dd>\n",
       "\t<dt>pH</dt>\n",
       "\t\t<dd>3.18826663944467</dd>\n",
       "\t<dt>sulphates</dt>\n",
       "\t\t<dd>0.489846876276031</dd>\n",
       "\t<dt>alcohol</dt>\n",
       "\t\t<dd>10.5142670477746</dd>\n",
       "</dl>\n"
      ],
      "text/latex": [
       "\\begin{description*}\n",
       "\\item[fixed acidity] 6.8547876684361\n",
       "\\item[volatile acidity] 0.27824111882401\n",
       "\\item[citric acid] 0.334191506737444\n",
       "\\item[residual sugar] 6.39141486320947\n",
       "\\item[chlorides] 0.0457723560636995\n",
       "\\item[free sulfur dioxide] 35.3080849326256\n",
       "\\item[total sulfur dioxide] 138.360657411188\n",
       "\\item[density] 0.994027376480196\n",
       "\\item[pH] 3.18826663944467\n",
       "\\item[sulphates] 0.489846876276031\n",
       "\\item[alcohol] 10.5142670477746\n",
       "\\end{description*}\n"
      ],
      "text/markdown": [
       "fixed acidity\n",
       ":   6.8547876684361volatile acidity\n",
       ":   0.27824111882401citric acid\n",
       ":   0.334191506737444residual sugar\n",
       ":   6.39141486320947chlorides\n",
       ":   0.0457723560636995free sulfur dioxide\n",
       ":   35.3080849326256total sulfur dioxide\n",
       ":   138.360657411188density\n",
       ":   0.994027376480196pH\n",
       ":   3.18826663944467sulphates\n",
       ":   0.489846876276031alcohol\n",
       ":   10.5142670477746\n",
       "\n"
      ],
      "text/plain": [
       "       fixed acidity     volatile acidity          citric acid \n",
       "          6.85478767           0.27824112           0.33419151 \n",
       "      residual sugar            chlorides  free sulfur dioxide \n",
       "          6.39141486           0.04577236          35.30808493 \n",
       "total sulfur dioxide              density                   pH \n",
       "        138.36065741           0.99402738           3.18826664 \n",
       "           sulphates              alcohol \n",
       "          0.48984688          10.51426705 "
      ]
     },
     "metadata": {},
     "output_type": "display_data"
    }
   ],
   "source": [
    "white_wine_mean  <- white_wine  %>% select(-quality) %>% colMeans()\n",
    "white_wine_mean"
   ]
  },
  {
   "cell_type": "code",
   "execution_count": 8,
   "metadata": {},
   "outputs": [
    {
     "data": {
      "text/html": [
       "<dl class=dl-horizontal>\n",
       "\t<dt>fixed acidity</dt>\n",
       "\t\t<dd>8.31963727329581</dd>\n",
       "\t<dt>volatile acidity</dt>\n",
       "\t\t<dd>0.527820512820513</dd>\n",
       "\t<dt>citric acid</dt>\n",
       "\t\t<dd>0.270975609756098</dd>\n",
       "\t<dt>residual sugar</dt>\n",
       "\t\t<dd>2.53880550343965</dd>\n",
       "\t<dt>chlorides</dt>\n",
       "\t\t<dd>0.0874665415884928</dd>\n",
       "\t<dt>free sulfur dioxide</dt>\n",
       "\t\t<dd>15.8749218261413</dd>\n",
       "\t<dt>total sulfur dioxide</dt>\n",
       "\t\t<dd>&lt;NA&gt;</dd>\n",
       "\t<dt>density</dt>\n",
       "\t\t<dd>0.996746679174484</dd>\n",
       "\t<dt>pH</dt>\n",
       "\t\t<dd>3.31111319574734</dd>\n",
       "\t<dt>sulphates</dt>\n",
       "\t\t<dd>0.658148843026892</dd>\n",
       "\t<dt>alcohol</dt>\n",
       "\t\t<dd>10.4229831144465</dd>\n",
       "</dl>\n"
      ],
      "text/latex": [
       "\\begin{description*}\n",
       "\\item[fixed acidity] 8.31963727329581\n",
       "\\item[volatile acidity] 0.527820512820513\n",
       "\\item[citric acid] 0.270975609756098\n",
       "\\item[residual sugar] 2.53880550343965\n",
       "\\item[chlorides] 0.0874665415884928\n",
       "\\item[free sulfur dioxide] 15.8749218261413\n",
       "\\item[total sulfur dioxide] <NA>\n",
       "\\item[density] 0.996746679174484\n",
       "\\item[pH] 3.31111319574734\n",
       "\\item[sulphates] 0.658148843026892\n",
       "\\item[alcohol] 10.4229831144465\n",
       "\\end{description*}\n"
      ],
      "text/markdown": [
       "fixed acidity\n",
       ":   8.31963727329581volatile acidity\n",
       ":   0.527820512820513citric acid\n",
       ":   0.270975609756098residual sugar\n",
       ":   2.53880550343965chlorides\n",
       ":   0.0874665415884928free sulfur dioxide\n",
       ":   15.8749218261413total sulfur dioxide\n",
       ":   &lt;NA&gt;density\n",
       ":   0.996746679174484pH\n",
       ":   3.31111319574734sulphates\n",
       ":   0.658148843026892alcohol\n",
       ":   10.4229831144465\n",
       "\n"
      ],
      "text/plain": [
       "       fixed acidity     volatile acidity          citric acid \n",
       "          8.31963727           0.52782051           0.27097561 \n",
       "      residual sugar            chlorides  free sulfur dioxide \n",
       "          2.53880550           0.08746654          15.87492183 \n",
       "total sulfur dioxide              density                   pH \n",
       "                  NA           0.99674668           3.31111320 \n",
       "           sulphates              alcohol \n",
       "          0.65814884          10.42298311 "
      ]
     },
     "metadata": {},
     "output_type": "display_data"
    }
   ],
   "source": [
    "red_wine_mean  <- red_wine  %>% select(-quality) %>% colMeans()\n",
    "red_wine_mean"
   ]
  },
  {
   "cell_type": "code",
   "execution_count": 9,
   "metadata": {},
   "outputs": [
    {
     "data": {},
     "metadata": {},
     "output_type": "display_data"
    },
    {
     "data": {
      "image/png": "[encoded data removed]",
      "text/plain": [
       "plot without title"
      ]
     },
     "metadata": {},
     "output_type": "display_data"
    }
   ],
   "source": [
    "options(repr.plot.height = 4, repr.plot.width = 4)\n",
    "white_wine_bar_chart  <- white_wine  %>% ggplot(aes(x = quality))+\n",
    "                    geom_bar()\n",
    "white_wine_bar_chart"
   ]
  },
  {
   "cell_type": "code",
   "execution_count": 10,
   "metadata": {},
   "outputs": [
    {
     "data": {},
     "metadata": {},
     "output_type": "display_data"
    },
    {
     "data": {
      "image/png": "[encoded data removed]",
      "text/plain": [
       "plot without title"
      ]
     },
     "metadata": {},
     "output_type": "display_data"
    }
   ],
   "source": [
    "red_wine_bar_chart  <- red_wine  %>% ggplot(aes(x = quality))+\n",
    "                    geom_bar()\n",
    "red_wine_bar_chart"
   ]
  },
  {
   "cell_type": "code",
   "execution_count": 11,
   "metadata": {},
   "outputs": [
    {
     "data": {
      "text/html": [
       "<table>\n",
       "<thead><tr><th scope=col>fixed acidity</th><th scope=col>volatile acidity</th><th scope=col>citric acid</th><th scope=col>residual sugar</th><th scope=col>chlorides</th><th scope=col>free sulfur dioxide</th><th scope=col>total sulfur dioxide</th><th scope=col>density</th><th scope=col>pH</th><th scope=col>sulphates</th><th scope=col>alcohol</th><th scope=col>quality</th><th scope=col>type</th></tr></thead>\n",
       "<tbody>\n",
       "\t<tr><td> 7.4  </td><td>0.70  </td><td>0.00  </td><td>1.9   </td><td>0.076 </td><td>11    </td><td>34    </td><td>0.9978</td><td>3.51  </td><td>0.56  </td><td>9.4   </td><td>5     </td><td>red   </td></tr>\n",
       "\t<tr><td> 7.8  </td><td>0.88  </td><td>0.00  </td><td>2.6   </td><td>0.098 </td><td>25    </td><td>67    </td><td>0.9968</td><td>3.20  </td><td>0.68  </td><td>9.8   </td><td>5     </td><td>red   </td></tr>\n",
       "\t<tr><td> 7.8  </td><td>0.76  </td><td>0.04  </td><td>2.3   </td><td>0.092 </td><td>15    </td><td>54    </td><td>0.9970</td><td>3.26  </td><td>0.65  </td><td>9.8   </td><td>5     </td><td>red   </td></tr>\n",
       "\t<tr><td>11.2  </td><td>0.28  </td><td>0.56  </td><td>1.9   </td><td>0.075 </td><td>17    </td><td>60    </td><td>0.9980</td><td>3.16  </td><td>0.58  </td><td>9.8   </td><td>6     </td><td>red   </td></tr>\n",
       "\t<tr><td> 7.4  </td><td>0.70  </td><td>0.00  </td><td>1.9   </td><td>0.076 </td><td>11    </td><td>34    </td><td>0.9978</td><td>3.51  </td><td>0.56  </td><td>9.4   </td><td>5     </td><td>red   </td></tr>\n",
       "\t<tr><td> 7.4  </td><td>0.66  </td><td>0.00  </td><td>1.8   </td><td>0.075 </td><td>13    </td><td>40    </td><td>0.9978</td><td>3.51  </td><td>0.56  </td><td>9.4   </td><td>5     </td><td>red   </td></tr>\n",
       "</tbody>\n",
       "</table>\n"
      ],
      "text/latex": [
       "\\begin{tabular}{r|lllllllllllll}\n",
       " fixed acidity & volatile acidity & citric acid & residual sugar & chlorides & free sulfur dioxide & total sulfur dioxide & density & pH & sulphates & alcohol & quality & type\\\\\n",
       "\\hline\n",
       "\t  7.4   & 0.70   & 0.00   & 1.9    & 0.076  & 11     & 34     & 0.9978 & 3.51   & 0.56   & 9.4    & 5      & red   \\\\\n",
       "\t  7.8   & 0.88   & 0.00   & 2.6    & 0.098  & 25     & 67     & 0.9968 & 3.20   & 0.68   & 9.8    & 5      & red   \\\\\n",
       "\t  7.8   & 0.76   & 0.04   & 2.3    & 0.092  & 15     & 54     & 0.9970 & 3.26   & 0.65   & 9.8    & 5      & red   \\\\\n",
       "\t 11.2   & 0.28   & 0.56   & 1.9    & 0.075  & 17     & 60     & 0.9980 & 3.16   & 0.58   & 9.8    & 6      & red   \\\\\n",
       "\t  7.4   & 0.70   & 0.00   & 1.9    & 0.076  & 11     & 34     & 0.9978 & 3.51   & 0.56   & 9.4    & 5      & red   \\\\\n",
       "\t  7.4   & 0.66   & 0.00   & 1.8    & 0.075  & 13     & 40     & 0.9978 & 3.51   & 0.56   & 9.4    & 5      & red   \\\\\n",
       "\\end{tabular}\n"
      ],
      "text/markdown": [
       "\n",
       "fixed acidity | volatile acidity | citric acid | residual sugar | chlorides | free sulfur dioxide | total sulfur dioxide | density | pH | sulphates | alcohol | quality | type | \n",
       "|---|---|---|---|---|---|\n",
       "|  7.4   | 0.70   | 0.00   | 1.9    | 0.076  | 11     | 34     | 0.9978 | 3.51   | 0.56   | 9.4    | 5      | red    | \n",
       "|  7.8   | 0.88   | 0.00   | 2.6    | 0.098  | 25     | 67     | 0.9968 | 3.20   | 0.68   | 9.8    | 5      | red    | \n",
       "|  7.8   | 0.76   | 0.04   | 2.3    | 0.092  | 15     | 54     | 0.9970 | 3.26   | 0.65   | 9.8    | 5      | red    | \n",
       "| 11.2   | 0.28   | 0.56   | 1.9    | 0.075  | 17     | 60     | 0.9980 | 3.16   | 0.58   | 9.8    | 6      | red    | \n",
       "|  7.4   | 0.70   | 0.00   | 1.9    | 0.076  | 11     | 34     | 0.9978 | 3.51   | 0.56   | 9.4    | 5      | red    | \n",
       "|  7.4   | 0.66   | 0.00   | 1.8    | 0.075  | 13     | 40     | 0.9978 | 3.51   | 0.56   | 9.4    | 5      | red    | \n",
       "\n",
       "\n"
      ],
      "text/plain": [
       "  fixed acidity volatile acidity citric acid residual sugar chlorides\n",
       "1  7.4          0.70             0.00        1.9            0.076    \n",
       "2  7.8          0.88             0.00        2.6            0.098    \n",
       "3  7.8          0.76             0.04        2.3            0.092    \n",
       "4 11.2          0.28             0.56        1.9            0.075    \n",
       "5  7.4          0.70             0.00        1.9            0.076    \n",
       "6  7.4          0.66             0.00        1.8            0.075    \n",
       "  free sulfur dioxide total sulfur dioxide density pH   sulphates alcohol\n",
       "1 11                  34                   0.9978  3.51 0.56      9.4    \n",
       "2 25                  67                   0.9968  3.20 0.68      9.8    \n",
       "3 15                  54                   0.9970  3.26 0.65      9.8    \n",
       "4 17                  60                   0.9980  3.16 0.58      9.8    \n",
       "5 11                  34                   0.9978  3.51 0.56      9.4    \n",
       "6 13                  40                   0.9978  3.51 0.56      9.4    \n",
       "  quality type\n",
       "1 5       red \n",
       "2 5       red \n",
       "3 5       red \n",
       "4 6       red \n",
       "5 5       red \n",
       "6 5       red "
      ]
     },
     "metadata": {},
     "output_type": "display_data"
    }
   ],
   "source": [
    "red_wine <- red_wine %>% \n",
    "    mutate(type = \"red\")\n",
    "\n",
    "head(red_wine)"
   ]
  },
  {
   "cell_type": "code",
   "execution_count": 12,
   "metadata": {},
   "outputs": [
    {
     "data": {
      "text/html": [
       "<table>\n",
       "<thead><tr><th scope=col>fixed acidity</th><th scope=col>volatile acidity</th><th scope=col>citric acid</th><th scope=col>residual sugar</th><th scope=col>chlorides</th><th scope=col>free sulfur dioxide</th><th scope=col>total sulfur dioxide</th><th scope=col>density</th><th scope=col>pH</th><th scope=col>sulphates</th><th scope=col>alcohol</th><th scope=col>quality</th><th scope=col>type</th></tr></thead>\n",
       "<tbody>\n",
       "\t<tr><td>7.0   </td><td>0.27  </td><td>0.36  </td><td>20.7  </td><td>0.045 </td><td>45    </td><td>170   </td><td>1.0010</td><td>3.00  </td><td>0.45  </td><td> 8.8  </td><td>6     </td><td>white </td></tr>\n",
       "\t<tr><td>6.3   </td><td>0.30  </td><td>0.34  </td><td> 1.6  </td><td>0.049 </td><td>14    </td><td>132   </td><td>0.9940</td><td>3.30  </td><td>0.49  </td><td> 9.5  </td><td>6     </td><td>white </td></tr>\n",
       "\t<tr><td>8.1   </td><td>0.28  </td><td>0.40  </td><td> 6.9  </td><td>0.050 </td><td>30    </td><td> 97   </td><td>0.9951</td><td>3.26  </td><td>0.44  </td><td>10.1  </td><td>6     </td><td>white </td></tr>\n",
       "\t<tr><td>7.2   </td><td>0.23  </td><td>0.32  </td><td> 8.5  </td><td>0.058 </td><td>47    </td><td>186   </td><td>0.9956</td><td>3.19  </td><td>0.40  </td><td> 9.9  </td><td>6     </td><td>white </td></tr>\n",
       "\t<tr><td>7.2   </td><td>0.23  </td><td>0.32  </td><td> 8.5  </td><td>0.058 </td><td>47    </td><td>186   </td><td>0.9956</td><td>3.19  </td><td>0.40  </td><td> 9.9  </td><td>6     </td><td>white </td></tr>\n",
       "\t<tr><td>8.1   </td><td>0.28  </td><td>0.40  </td><td> 6.9  </td><td>0.050 </td><td>30    </td><td> 97   </td><td>0.9951</td><td>3.26  </td><td>0.44  </td><td>10.1  </td><td>6     </td><td>white </td></tr>\n",
       "</tbody>\n",
       "</table>\n"
      ],
      "text/latex": [
       "\\begin{tabular}{r|lllllllllllll}\n",
       " fixed acidity & volatile acidity & citric acid & residual sugar & chlorides & free sulfur dioxide & total sulfur dioxide & density & pH & sulphates & alcohol & quality & type\\\\\n",
       "\\hline\n",
       "\t 7.0    & 0.27   & 0.36   & 20.7   & 0.045  & 45     & 170    & 1.0010 & 3.00   & 0.45   &  8.8   & 6      & white \\\\\n",
       "\t 6.3    & 0.30   & 0.34   &  1.6   & 0.049  & 14     & 132    & 0.9940 & 3.30   & 0.49   &  9.5   & 6      & white \\\\\n",
       "\t 8.1    & 0.28   & 0.40   &  6.9   & 0.050  & 30     &  97    & 0.9951 & 3.26   & 0.44   & 10.1   & 6      & white \\\\\n",
       "\t 7.2    & 0.23   & 0.32   &  8.5   & 0.058  & 47     & 186    & 0.9956 & 3.19   & 0.40   &  9.9   & 6      & white \\\\\n",
       "\t 7.2    & 0.23   & 0.32   &  8.5   & 0.058  & 47     & 186    & 0.9956 & 3.19   & 0.40   &  9.9   & 6      & white \\\\\n",
       "\t 8.1    & 0.28   & 0.40   &  6.9   & 0.050  & 30     &  97    & 0.9951 & 3.26   & 0.44   & 10.1   & 6      & white \\\\\n",
       "\\end{tabular}\n"
      ],
      "text/markdown": [
       "\n",
       "fixed acidity | volatile acidity | citric acid | residual sugar | chlorides | free sulfur dioxide | total sulfur dioxide | density | pH | sulphates | alcohol | quality | type | \n",
       "|---|---|---|---|---|---|\n",
       "| 7.0    | 0.27   | 0.36   | 20.7   | 0.045  | 45     | 170    | 1.0010 | 3.00   | 0.45   |  8.8   | 6      | white  | \n",
       "| 6.3    | 0.30   | 0.34   |  1.6   | 0.049  | 14     | 132    | 0.9940 | 3.30   | 0.49   |  9.5   | 6      | white  | \n",
       "| 8.1    | 0.28   | 0.40   |  6.9   | 0.050  | 30     |  97    | 0.9951 | 3.26   | 0.44   | 10.1   | 6      | white  | \n",
       "| 7.2    | 0.23   | 0.32   |  8.5   | 0.058  | 47     | 186    | 0.9956 | 3.19   | 0.40   |  9.9   | 6      | white  | \n",
       "| 7.2    | 0.23   | 0.32   |  8.5   | 0.058  | 47     | 186    | 0.9956 | 3.19   | 0.40   |  9.9   | 6      | white  | \n",
       "| 8.1    | 0.28   | 0.40   |  6.9   | 0.050  | 30     |  97    | 0.9951 | 3.26   | 0.44   | 10.1   | 6      | white  | \n",
       "\n",
       "\n"
      ],
      "text/plain": [
       "  fixed acidity volatile acidity citric acid residual sugar chlorides\n",
       "1 7.0           0.27             0.36        20.7           0.045    \n",
       "2 6.3           0.30             0.34         1.6           0.049    \n",
       "3 8.1           0.28             0.40         6.9           0.050    \n",
       "4 7.2           0.23             0.32         8.5           0.058    \n",
       "5 7.2           0.23             0.32         8.5           0.058    \n",
       "6 8.1           0.28             0.40         6.9           0.050    \n",
       "  free sulfur dioxide total sulfur dioxide density pH   sulphates alcohol\n",
       "1 45                  170                  1.0010  3.00 0.45       8.8   \n",
       "2 14                  132                  0.9940  3.30 0.49       9.5   \n",
       "3 30                   97                  0.9951  3.26 0.44      10.1   \n",
       "4 47                  186                  0.9956  3.19 0.40       9.9   \n",
       "5 47                  186                  0.9956  3.19 0.40       9.9   \n",
       "6 30                   97                  0.9951  3.26 0.44      10.1   \n",
       "  quality type \n",
       "1 6       white\n",
       "2 6       white\n",
       "3 6       white\n",
       "4 6       white\n",
       "5 6       white\n",
       "6 6       white"
      ]
     },
     "metadata": {},
     "output_type": "display_data"
    }
   ],
   "source": [
    "white_wine <- white_wine %>% \n",
    "    mutate(type = \"white\")\n",
    "\n",
    "head(white_wine)"
   ]
  },
  {
   "cell_type": "code",
   "execution_count": 13,
   "metadata": {},
   "outputs": [
    {
     "name": "stdout",
     "output_type": "stream",
     "text": [
      "Observations: 6,497\n",
      "Variables: 13\n",
      "$ `fixed acidity`        <dbl> 7.4, 7.8, 7.8, 11.2, 7.4, 7.4, 7.9, 7.3, 7.8...\n",
      "$ `volatile acidity`     <dbl> 0.700, 0.880, 0.760, 0.280, 0.700, 0.660, 0....\n",
      "$ `citric acid`          <dbl> 0.00, 0.00, 0.04, 0.56, 0.00, 0.00, 0.06, 0....\n",
      "$ `residual sugar`       <dbl> 1.9, 2.6, 2.3, 1.9, 1.9, 1.8, 1.6, 1.2, 2.0,...\n",
      "$ chlorides              <dbl> 0.076, 0.098, 0.092, 0.075, 0.076, 0.075, 0....\n",
      "$ `free sulfur dioxide`  <dbl> 11, 25, 15, 17, 11, 13, 15, 15, 9, 17, 15, 1...\n",
      "$ `total sulfur dioxide` <dbl> 34, 67, 54, 60, 34, 40, 59, 21, 18, 102, 65,...\n",
      "$ density                <dbl> 0.9978, 0.9968, 0.9970, 0.9980, 0.9978, 0.99...\n",
      "$ pH                     <dbl> 3.51, 3.20, 3.26, 3.16, 3.51, 3.51, 3.30, 3....\n",
      "$ sulphates              <dbl> 0.56, 0.68, 0.65, 0.58, 0.56, 0.56, 0.46, 0....\n",
      "$ alcohol                <dbl> 9.4, 9.8, 9.8, 9.8, 9.4, 9.4, 9.4, 10.0, 9.5...\n",
      "$ quality                <int> 5, 5, 5, 6, 5, 5, 5, 7, 7, 5, 5, 5, 5, 5, 5,...\n",
      "$ type                   <chr> \"red\", \"red\", \"red\", \"red\", \"red\", \"red\", \"r...\n"
     ]
    }
   ],
   "source": [
    "wine_data <- rbind(red_wine, white_wine)\n",
    "glimpse(wine_data)"
   ]
  },
  {
   "cell_type": "markdown",
   "metadata": {},
   "source": [
    "### Doing KNN Analysis to check if it is more accurate with only white wine"
   ]
  },
  {
   "cell_type": "code",
   "execution_count": 14,
   "metadata": {},
   "outputs": [
    {
     "data": {
      "text/html": [
       "<table>\n",
       "<thead><tr><th scope=col>fixed acidity</th><th scope=col>volatile acidity</th><th scope=col>citric acid</th><th scope=col>residual sugar</th><th scope=col>chlorides</th><th scope=col>free sulfur dioxide</th><th scope=col>total sulfur dioxide</th><th scope=col>density</th><th scope=col>pH</th><th scope=col>sulphates</th><th scope=col>alcohol</th></tr></thead>\n",
       "<tbody>\n",
       "\t<tr><td>1.0134309</td><td>0.9122795</td><td>1.0127692</td><td>2.5367895</td><td>0.8871633</td><td>1.1481392</td><td>1.1744078</td><td>1.0069072</td><td>0.9398009</td><td>0.8946063</td><td>0.8311998</td></tr>\n",
       "\t<tr><td>0.9120878</td><td>1.0136438</td><td>0.9565042</td><td>0.1960804</td><td>0.9660223</td><td>0.3571989</td><td>0.9118931</td><td>0.9998658</td><td>1.0337810</td><td>0.9741268</td><td>0.8973179</td></tr>\n",
       "\t<tr><td>1.1726843</td><td>0.9460676</td><td>1.1252991</td><td>0.8455965</td><td>0.9857370</td><td>0.7654261</td><td>0.6701032</td><td>1.0009723</td><td>1.0212503</td><td>0.8747261</td><td>0.9539906</td></tr>\n",
       "\t<tr><td>1.0423861</td><td>0.7771269</td><td>0.9002393</td><td>1.0416769</td><td>1.1434550</td><td>1.1991676</td><td>1.2849402</td><td>1.0014753</td><td>0.9993216</td><td>0.7952056</td><td>0.9350997</td></tr>\n",
       "\t<tr><td>1.0423861</td><td>0.7771269</td><td>0.9002393</td><td>1.0416769</td><td>1.1434550</td><td>1.1991676</td><td>1.2849402</td><td>1.0014753</td><td>0.9993216</td><td>0.7952056</td><td>0.9350997</td></tr>\n",
       "\t<tr><td>1.1726843</td><td>0.9460676</td><td>1.1252991</td><td>0.8455965</td><td>0.9857370</td><td>0.7654261</td><td>0.6701032</td><td>1.0009723</td><td>1.0212503</td><td>0.8747261</td><td>0.9539906</td></tr>\n",
       "</tbody>\n",
       "</table>\n"
      ],
      "text/latex": [
       "\\begin{tabular}{lllllllllll}\n",
       " fixed acidity & volatile acidity & citric acid & residual sugar & chlorides & free sulfur dioxide & total sulfur dioxide & density & pH & sulphates & alcohol\\\\\n",
       "\\hline\n",
       "\t 1.0134309 & 0.9122795 & 1.0127692 & 2.5367895 & 0.8871633 & 1.1481392 & 1.1744078 & 1.0069072 & 0.9398009 & 0.8946063 & 0.8311998\\\\\n",
       "\t 0.9120878 & 1.0136438 & 0.9565042 & 0.1960804 & 0.9660223 & 0.3571989 & 0.9118931 & 0.9998658 & 1.0337810 & 0.9741268 & 0.8973179\\\\\n",
       "\t 1.1726843 & 0.9460676 & 1.1252991 & 0.8455965 & 0.9857370 & 0.7654261 & 0.6701032 & 1.0009723 & 1.0212503 & 0.8747261 & 0.9539906\\\\\n",
       "\t 1.0423861 & 0.7771269 & 0.9002393 & 1.0416769 & 1.1434550 & 1.1991676 & 1.2849402 & 1.0014753 & 0.9993216 & 0.7952056 & 0.9350997\\\\\n",
       "\t 1.0423861 & 0.7771269 & 0.9002393 & 1.0416769 & 1.1434550 & 1.1991676 & 1.2849402 & 1.0014753 & 0.9993216 & 0.7952056 & 0.9350997\\\\\n",
       "\t 1.1726843 & 0.9460676 & 1.1252991 & 0.8455965 & 0.9857370 & 0.7654261 & 0.6701032 & 1.0009723 & 1.0212503 & 0.8747261 & 0.9539906\\\\\n",
       "\\end{tabular}\n"
      ],
      "text/markdown": [
       "\n",
       "fixed acidity | volatile acidity | citric acid | residual sugar | chlorides | free sulfur dioxide | total sulfur dioxide | density | pH | sulphates | alcohol | \n",
       "|---|---|---|---|---|---|\n",
       "| 1.0134309 | 0.9122795 | 1.0127692 | 2.5367895 | 0.8871633 | 1.1481392 | 1.1744078 | 1.0069072 | 0.9398009 | 0.8946063 | 0.8311998 | \n",
       "| 0.9120878 | 1.0136438 | 0.9565042 | 0.1960804 | 0.9660223 | 0.3571989 | 0.9118931 | 0.9998658 | 1.0337810 | 0.9741268 | 0.8973179 | \n",
       "| 1.1726843 | 0.9460676 | 1.1252991 | 0.8455965 | 0.9857370 | 0.7654261 | 0.6701032 | 1.0009723 | 1.0212503 | 0.8747261 | 0.9539906 | \n",
       "| 1.0423861 | 0.7771269 | 0.9002393 | 1.0416769 | 1.1434550 | 1.1991676 | 1.2849402 | 1.0014753 | 0.9993216 | 0.7952056 | 0.9350997 | \n",
       "| 1.0423861 | 0.7771269 | 0.9002393 | 1.0416769 | 1.1434550 | 1.1991676 | 1.2849402 | 1.0014753 | 0.9993216 | 0.7952056 | 0.9350997 | \n",
       "| 1.1726843 | 0.9460676 | 1.1252991 | 0.8455965 | 0.9857370 | 0.7654261 | 0.6701032 | 1.0009723 | 1.0212503 | 0.8747261 | 0.9539906 | \n",
       "\n",
       "\n"
      ],
      "text/plain": [
       "     fixed acidity volatile acidity citric acid residual sugar chlorides\n",
       "[1,] 1.0134309     0.9122795        1.0127692   2.5367895      0.8871633\n",
       "[2,] 0.9120878     1.0136438        0.9565042   0.1960804      0.9660223\n",
       "[3,] 1.1726843     0.9460676        1.1252991   0.8455965      0.9857370\n",
       "[4,] 1.0423861     0.7771269        0.9002393   1.0416769      1.1434550\n",
       "[5,] 1.0423861     0.7771269        0.9002393   1.0416769      1.1434550\n",
       "[6,] 1.1726843     0.9460676        1.1252991   0.8455965      0.9857370\n",
       "     free sulfur dioxide total sulfur dioxide density   pH        sulphates\n",
       "[1,] 1.1481392           1.1744078            1.0069072 0.9398009 0.8946063\n",
       "[2,] 0.3571989           0.9118931            0.9998658 1.0337810 0.9741268\n",
       "[3,] 0.7654261           0.6701032            1.0009723 1.0212503 0.8747261\n",
       "[4,] 1.1991676           1.2849402            1.0014753 0.9993216 0.7952056\n",
       "[5,] 1.1991676           1.2849402            1.0014753 0.9993216 0.7952056\n",
       "[6,] 0.7654261           0.6701032            1.0009723 1.0212503 0.8747261\n",
       "     alcohol  \n",
       "[1,] 0.8311998\n",
       "[2,] 0.8973179\n",
       "[3,] 0.9539906\n",
       "[4,] 0.9350997\n",
       "[5,] 0.9350997\n",
       "[6,] 0.9539906"
      ]
     },
     "metadata": {},
     "output_type": "display_data"
    },
    {
     "data": {
      "text/html": [
       "<table>\n",
       "<thead><tr><th scope=col>fixed.acidity</th><th scope=col>volatile.acidity</th><th scope=col>citric.acid</th><th scope=col>residual.sugar</th><th scope=col>chlorides</th><th scope=col>free.sulfur.dioxide</th><th scope=col>total.sulfur.dioxide</th><th scope=col>density</th><th scope=col>pH</th><th scope=col>sulphates</th><th scope=col>alcohol</th><th scope=col>quality</th></tr></thead>\n",
       "<tbody>\n",
       "\t<tr><td>1.0134309</td><td>0.9122795</td><td>1.0127692</td><td>2.5367895</td><td>0.8871633</td><td>1.1481392</td><td>1.1744078</td><td>1.0069072</td><td>0.9398009</td><td>0.8946063</td><td>0.8311998</td><td>6        </td></tr>\n",
       "\t<tr><td>0.9120878</td><td>1.0136438</td><td>0.9565042</td><td>0.1960804</td><td>0.9660223</td><td>0.3571989</td><td>0.9118931</td><td>0.9998658</td><td>1.0337810</td><td>0.9741268</td><td>0.8973179</td><td>6        </td></tr>\n",
       "\t<tr><td>1.1726843</td><td>0.9460676</td><td>1.1252991</td><td>0.8455965</td><td>0.9857370</td><td>0.7654261</td><td>0.6701032</td><td>1.0009723</td><td>1.0212503</td><td>0.8747261</td><td>0.9539906</td><td>6        </td></tr>\n",
       "\t<tr><td>1.0423861</td><td>0.7771269</td><td>0.9002393</td><td>1.0416769</td><td>1.1434550</td><td>1.1991676</td><td>1.2849402</td><td>1.0014753</td><td>0.9993216</td><td>0.7952056</td><td>0.9350997</td><td>6        </td></tr>\n",
       "\t<tr><td>1.0423861</td><td>0.7771269</td><td>0.9002393</td><td>1.0416769</td><td>1.1434550</td><td>1.1991676</td><td>1.2849402</td><td>1.0014753</td><td>0.9993216</td><td>0.7952056</td><td>0.9350997</td><td>6        </td></tr>\n",
       "\t<tr><td>1.1726843</td><td>0.9460676</td><td>1.1252991</td><td>0.8455965</td><td>0.9857370</td><td>0.7654261</td><td>0.6701032</td><td>1.0009723</td><td>1.0212503</td><td>0.8747261</td><td>0.9539906</td><td>6        </td></tr>\n",
       "</tbody>\n",
       "</table>\n"
      ],
      "text/latex": [
       "\\begin{tabular}{r|llllllllllll}\n",
       " fixed.acidity & volatile.acidity & citric.acid & residual.sugar & chlorides & free.sulfur.dioxide & total.sulfur.dioxide & density & pH & sulphates & alcohol & quality\\\\\n",
       "\\hline\n",
       "\t 1.0134309 & 0.9122795 & 1.0127692 & 2.5367895 & 0.8871633 & 1.1481392 & 1.1744078 & 1.0069072 & 0.9398009 & 0.8946063 & 0.8311998 & 6        \\\\\n",
       "\t 0.9120878 & 1.0136438 & 0.9565042 & 0.1960804 & 0.9660223 & 0.3571989 & 0.9118931 & 0.9998658 & 1.0337810 & 0.9741268 & 0.8973179 & 6        \\\\\n",
       "\t 1.1726843 & 0.9460676 & 1.1252991 & 0.8455965 & 0.9857370 & 0.7654261 & 0.6701032 & 1.0009723 & 1.0212503 & 0.8747261 & 0.9539906 & 6        \\\\\n",
       "\t 1.0423861 & 0.7771269 & 0.9002393 & 1.0416769 & 1.1434550 & 1.1991676 & 1.2849402 & 1.0014753 & 0.9993216 & 0.7952056 & 0.9350997 & 6        \\\\\n",
       "\t 1.0423861 & 0.7771269 & 0.9002393 & 1.0416769 & 1.1434550 & 1.1991676 & 1.2849402 & 1.0014753 & 0.9993216 & 0.7952056 & 0.9350997 & 6        \\\\\n",
       "\t 1.1726843 & 0.9460676 & 1.1252991 & 0.8455965 & 0.9857370 & 0.7654261 & 0.6701032 & 1.0009723 & 1.0212503 & 0.8747261 & 0.9539906 & 6        \\\\\n",
       "\\end{tabular}\n"
      ],
      "text/markdown": [
       "\n",
       "fixed.acidity | volatile.acidity | citric.acid | residual.sugar | chlorides | free.sulfur.dioxide | total.sulfur.dioxide | density | pH | sulphates | alcohol | quality | \n",
       "|---|---|---|---|---|---|\n",
       "| 1.0134309 | 0.9122795 | 1.0127692 | 2.5367895 | 0.8871633 | 1.1481392 | 1.1744078 | 1.0069072 | 0.9398009 | 0.8946063 | 0.8311998 | 6         | \n",
       "| 0.9120878 | 1.0136438 | 0.9565042 | 0.1960804 | 0.9660223 | 0.3571989 | 0.9118931 | 0.9998658 | 1.0337810 | 0.9741268 | 0.8973179 | 6         | \n",
       "| 1.1726843 | 0.9460676 | 1.1252991 | 0.8455965 | 0.9857370 | 0.7654261 | 0.6701032 | 1.0009723 | 1.0212503 | 0.8747261 | 0.9539906 | 6         | \n",
       "| 1.0423861 | 0.7771269 | 0.9002393 | 1.0416769 | 1.1434550 | 1.1991676 | 1.2849402 | 1.0014753 | 0.9993216 | 0.7952056 | 0.9350997 | 6         | \n",
       "| 1.0423861 | 0.7771269 | 0.9002393 | 1.0416769 | 1.1434550 | 1.1991676 | 1.2849402 | 1.0014753 | 0.9993216 | 0.7952056 | 0.9350997 | 6         | \n",
       "| 1.1726843 | 0.9460676 | 1.1252991 | 0.8455965 | 0.9857370 | 0.7654261 | 0.6701032 | 1.0009723 | 1.0212503 | 0.8747261 | 0.9539906 | 6         | \n",
       "\n",
       "\n"
      ],
      "text/plain": [
       "  fixed.acidity volatile.acidity citric.acid residual.sugar chlorides\n",
       "1 1.0134309     0.9122795        1.0127692   2.5367895      0.8871633\n",
       "2 0.9120878     1.0136438        0.9565042   0.1960804      0.9660223\n",
       "3 1.1726843     0.9460676        1.1252991   0.8455965      0.9857370\n",
       "4 1.0423861     0.7771269        0.9002393   1.0416769      1.1434550\n",
       "5 1.0423861     0.7771269        0.9002393   1.0416769      1.1434550\n",
       "6 1.1726843     0.9460676        1.1252991   0.8455965      0.9857370\n",
       "  free.sulfur.dioxide total.sulfur.dioxide density   pH        sulphates\n",
       "1 1.1481392           1.1744078            1.0069072 0.9398009 0.8946063\n",
       "2 0.3571989           0.9118931            0.9998658 1.0337810 0.9741268\n",
       "3 0.7654261           0.6701032            1.0009723 1.0212503 0.8747261\n",
       "4 1.1991676           1.2849402            1.0014753 0.9993216 0.7952056\n",
       "5 1.1991676           1.2849402            1.0014753 0.9993216 0.7952056\n",
       "6 0.7654261           0.6701032            1.0009723 1.0212503 0.8747261\n",
       "  alcohol   quality\n",
       "1 0.8311998 6      \n",
       "2 0.8973179 6      \n",
       "3 0.9539906 6      \n",
       "4 0.9350997 6      \n",
       "5 0.9350997 6      \n",
       "6 0.9539906 6      "
      ]
     },
     "metadata": {},
     "output_type": "display_data"
    }
   ],
   "source": [
    "scaled_white_wine_data  <- white_wine  %>% select(-type, -quality)  %>% scale(center = FALSE)\n",
    "head(scaled_white_wine_data)\n",
    "scaled_white_wine_data  <- data.frame(scaled_white_wine_data, quality = white_wine$quality)\n",
    "head(scaled_white_wine_data)\n",
    "colnames(scaled_white_wine_data)  <-  c(\"fixed_acidity\", \"volatile_acidity\", \"citric_acid\", \"residual_sugar\", \"chlorides\", \n",
    "                        \"free_sulfur_dioxide\", \"total_sulfur_dioxide\", \"density\", \"pH\", \"sulphates\", \"alcohol\", \n",
    "                        \"quality\")"
   ]
  },
  {
   "cell_type": "code",
   "execution_count": 22,
   "metadata": {},
   "outputs": [],
   "source": [
    "set.seed(2017)\n",
    "training_rows <- scaled_white_wine_data %>% \n",
    "    select(quality) %>% \n",
    "    unlist() %>% \n",
    "    createDataPartition(p = 0.75, list = FALSE)\n",
    "\n",
    "training_set_white <- scaled_white_wine_data %>% \n",
    "    slice(training_rows)\n",
    "\n",
    "testing_set_white <- scaled_white_wine_data %>% \n",
    "    slice(-training_rows)\n",
    "\n",
    "X_train_white <- training_set_white %>% \n",
    "    select(fixed_acidity, volatile_acidity, citric_acid, residual_sugar, chlorides, free_sulfur_dioxide, total_sulfur_dioxide, \n",
    "           density, pH, sulphates, alcohol) %>% \n",
    "    data.frame()\n",
    "\n",
    "Y_train_white <- training_set_white %>% \n",
    "    select(quality) %>% \n",
    "    unlist()\n",
    "X_test_white <- testing_set_white %>% \n",
    "    select(fixed_acidity, volatile_acidity, citric_acid, residual_sugar, chlorides, free_sulfur_dioxide, total_sulfur_dioxide, \n",
    "           density, pH, sulphates, alcohol) %>% \n",
    "    data.frame()\n",
    "\n",
    "Y_test_white <- testing_set_white %>% \n",
    "    select(quality) %>% \n",
    "    unlist()"
   ]
  },
  {
   "cell_type": "code",
   "execution_count": 17,
   "metadata": {},
   "outputs": [
    {
     "data": {
      "text/plain": [
       "k-Nearest Neighbors \n",
       "\n",
       "3674 samples\n",
       "  11 predictor\n",
       "\n",
       "No pre-processing\n",
       "Resampling: Cross-Validated (10 fold) \n",
       "Summary of sample sizes: 3307, 3306, 3306, 3307, 3307, 3306, ... \n",
       "Resampling results across tuning parameters:\n",
       "\n",
       "  k   RMSE       Rsquared   MAE      \n",
       "   1  0.8391528  0.3023861  0.4953523\n",
       "   2  0.7863748  0.3043154  0.5413338\n",
       "   3  0.7645973  0.3027467  0.5603347\n",
       "   4  0.7521262  0.3069156  0.5626282\n",
       "   5  0.7462552  0.3073245  0.5627948\n",
       "   6  0.7429545  0.3075883  0.5628838\n",
       "   7  0.7421007  0.3054551  0.5653201\n",
       "   8  0.7369821  0.3112125  0.5618355\n",
       "   9  0.7341745  0.3145066  0.5601039\n",
       "  10  0.7317776  0.3177931  0.5605696\n",
       "  11  0.7315636  0.3175589  0.5626371\n",
       "  12  0.7320442  0.3165243  0.5651974\n",
       "  13  0.7323037  0.3159415  0.5670190\n",
       "  14  0.7334827  0.3138994  0.5681195\n",
       "  15  0.7322792  0.3165010  0.5676659\n",
       "  16  0.7329427  0.3157933  0.5687438\n",
       "  17  0.7323824  0.3172387  0.5696688\n",
       "  18  0.7317453  0.3188896  0.5697874\n",
       "  19  0.7316987  0.3194392  0.5704309\n",
       "  20  0.7320425  0.3191662  0.5711117\n",
       "  21  0.7321866  0.3193324  0.5710691\n",
       "  22  0.7329894  0.3182061  0.5719284\n",
       "  23  0.7336612  0.3173952  0.5721181\n",
       "  24  0.7344568  0.3161444  0.5727880\n",
       "  25  0.7358147  0.3136870  0.5732857\n",
       "  26  0.7364722  0.3127723  0.5738259\n",
       "  27  0.7371893  0.3119583  0.5751727\n",
       "  28  0.7380488  0.3103679  0.5758042\n",
       "  29  0.7382838  0.3103386  0.5758534\n",
       "  30  0.7392440  0.3087956  0.5761519\n",
       "  31  0.7404736  0.3067338  0.5772174\n",
       "  32  0.7406485  0.3069345  0.5775953\n",
       "  33  0.7416255  0.3054387  0.5784483\n",
       "  34  0.7415851  0.3061265  0.5778345\n",
       "  35  0.7423893  0.3048805  0.5783346\n",
       "  36  0.7429889  0.3040065  0.5793653\n",
       "  37  0.7435672  0.3032828  0.5799269\n",
       "  38  0.7440945  0.3023139  0.5804710\n",
       "  39  0.7442559  0.3025074  0.5811298\n",
       "  40  0.7451642  0.3009180  0.5816923\n",
       "  41  0.7455551  0.3003944  0.5821037\n",
       "  42  0.7456786  0.3005918  0.5820673\n",
       "  43  0.7467365  0.2988075  0.5831648\n",
       "  44  0.7462351  0.3005466  0.5825787\n",
       "  45  0.7459059  0.3016813  0.5823758\n",
       "  46  0.7467640  0.3002409  0.5832255\n",
       "  47  0.7467563  0.3007598  0.5836629\n",
       "  48  0.7476070  0.2993938  0.5842871\n",
       "  49  0.7476764  0.2996574  0.5843587\n",
       "  50  0.7482497  0.2991964  0.5844711\n",
       "\n",
       "RMSE was used to select the optimal model using the smallest value.\n",
       "The final value used for the model was k = 11."
      ]
     },
     "metadata": {},
     "output_type": "display_data"
    }
   ],
   "source": [
    "train_control_white <- trainControl(method = \"cv\", number = 10)\n",
    "k_white = data.frame(k = seq(from = 1, to = 50 , by = 1)) \n",
    "set.seed(2017)\n",
    "knn_cv_white <- train(x = X_train_white, y = Y_train_white, method = \"knn\", tuneGrid = k_white, trControl = train_control_white) \n",
    "knn_cv_white"
   ]
  },
  {
   "cell_type": "code",
   "execution_count": 18,
   "metadata": {},
   "outputs": [
    {
     "data": {
      "text/plain": [
       "k-Nearest Neighbors \n",
       "\n",
       "3674 samples\n",
       "  11 predictor\n",
       "\n",
       "No pre-processing\n",
       "Resampling: Bootstrapped (25 reps) \n",
       "Summary of sample sizes: 3674, 3674, 3674, 3674, 3674, 3674, ... \n",
       "Resampling results:\n",
       "\n",
       "  RMSE       Rsquared   MAE      \n",
       "  0.7644727  0.2734873  0.5844287\n",
       "\n",
       "Tuning parameter 'k' was held constant at a value of 11"
      ]
     },
     "metadata": {},
     "output_type": "display_data"
    }
   ],
   "source": [
    "set.seed(2017)\n",
    "knn_white  <- train(x = X_train_white, y = Y_train_white, method='knn', tuneGrid= data.frame(k=11))\n",
    "knn_white"
   ]
  },
  {
   "cell_type": "code",
   "execution_count": 20,
   "metadata": {},
   "outputs": [
    {
     "data": {
      "text/html": [
       "<dl class=dl-horizontal>\n",
       "\t<dt>RMSE</dt>\n",
       "\t\t<dd>0.753508475908972</dd>\n",
       "\t<dt>Rsquared</dt>\n",
       "\t\t<dd>0.286701594711572</dd>\n",
       "\t<dt>MAE</dt>\n",
       "\t\t<dd>0.578610162985163</dd>\n",
       "</dl>\n"
      ],
      "text/latex": [
       "\\begin{description*}\n",
       "\\item[RMSE] 0.753508475908972\n",
       "\\item[Rsquared] 0.286701594711572\n",
       "\\item[MAE] 0.578610162985163\n",
       "\\end{description*}\n"
      ],
      "text/markdown": [
       "RMSE\n",
       ":   0.753508475908972Rsquared\n",
       ":   0.286701594711572MAE\n",
       ":   0.578610162985163\n",
       "\n"
      ],
      "text/plain": [
       "     RMSE  Rsquared       MAE \n",
       "0.7535085 0.2867016 0.5786102 "
      ]
     },
     "metadata": {},
     "output_type": "display_data"
    }
   ],
   "source": [
    "predict_white  <- predict(knn_white, X_test_white)\n",
    "error_df_white  <- data.frame( obs = Y_test_white, pred = predict_white)\n",
    "test_error_white  <- defaultSummary(error_df_white)\n",
    "test_error_white"
   ]
  },
  {
   "cell_type": "markdown",
   "metadata": {},
   "source": [
    "#### End of White Wine KNN, Start of White Wine Linear Model  "
   ]
  },
  {
   "cell_type": "code",
   "execution_count": 26,
   "metadata": {},
   "outputs": [],
   "source": [
    "set.seed(2017)\n",
    "white_wine_data  <- white_wine  %>% select(-type)\n",
    "training_rows <- white_wine_data %>% \n",
    "    select(quality) %>% \n",
    "    unlist() %>% \n",
    "    createDataPartition(p = 0.75, list = FALSE)\n",
    "\n",
    "training_set_white_lm <- white_wine_data %>% \n",
    "    slice(training_rows)\n",
    "\n",
    "testing_set_white_lm <- white_wine_data %>% \n",
    "    slice(-training_rows)\n",
    "\n",
    "X_train_white_lm <- training_set_white_lm %>% \n",
    "    select(-quality) %>% \n",
    "    data.frame()\n",
    "\n",
    "Y_train_white_lm <- training_set_white_lm %>% \n",
    "    select(quality) %>% \n",
    "    unlist()\n",
    "X_test_white_lm <- testing_set_white_lm %>% \n",
    "    select(-quality) %>% \n",
    "    data.frame()\n",
    "\n",
    "Y_test_white_lm <- testing_set_white_lm %>% \n",
    "    select(quality) %>% \n",
    "    unlist()\n"
   ]
  },
  {
   "cell_type": "code",
   "execution_count": 27,
   "metadata": {},
   "outputs": [
    {
     "data": {
      "text/plain": [
       "Linear Regression \n",
       "\n",
       "3674 samples\n",
       "  11 predictor\n",
       "\n",
       "No pre-processing\n",
       "Resampling: Bootstrapped (25 reps) \n",
       "Summary of sample sizes: 3674, 3674, 3674, 3674, 3674, 3674, ... \n",
       "Resampling results:\n",
       "\n",
       "  RMSE       Rsquared  MAE     \n",
       "  0.7514605  0.281173  0.584359\n",
       "\n",
       "Tuning parameter 'intercept' was held constant at a value of TRUE"
      ]
     },
     "metadata": {},
     "output_type": "display_data"
    }
   ],
   "source": [
    "lm_reg_white <- train(x = X_train_white_lm, y = Y_train_white_lm, method = \"lm\")\n",
    "lm_reg_white "
   ]
  },
  {
   "cell_type": "code",
   "execution_count": 28,
   "metadata": {},
   "outputs": [
    {
     "data": {
      "text/html": [
       "<dl class=dl-horizontal>\n",
       "\t<dt>(Intercept)</dt>\n",
       "\t\t<dd>138.818068698005</dd>\n",
       "\t<dt>fixed.acidity</dt>\n",
       "\t\t<dd>0.0552444498515098</dd>\n",
       "\t<dt>volatile.acidity</dt>\n",
       "\t\t<dd>-1.82867145389064</dd>\n",
       "\t<dt>citric.acid</dt>\n",
       "\t\t<dd>0.0666986493716271</dd>\n",
       "\t<dt>residual.sugar</dt>\n",
       "\t\t<dd>0.0742534668354718</dd>\n",
       "\t<dt>chlorides</dt>\n",
       "\t\t<dd>-0.408044371122605</dd>\n",
       "\t<dt>free.sulfur.dioxide</dt>\n",
       "\t\t<dd>0.00496355258542456</dd>\n",
       "\t<dt>total.sulfur.dioxide</dt>\n",
       "\t\t<dd>-0.000472553267137944</dd>\n",
       "\t<dt>density</dt>\n",
       "\t\t<dd>-138.804691246083</dd>\n",
       "\t<dt>pH</dt>\n",
       "\t\t<dd>0.658943654451381</dd>\n",
       "\t<dt>sulphates</dt>\n",
       "\t\t<dd>0.611149812998906</dd>\n",
       "\t<dt>alcohol</dt>\n",
       "\t\t<dd>0.207342358732366</dd>\n",
       "</dl>\n"
      ],
      "text/latex": [
       "\\begin{description*}\n",
       "\\item[(Intercept)] 138.818068698005\n",
       "\\item[fixed.acidity] 0.0552444498515098\n",
       "\\item[volatile.acidity] -1.82867145389064\n",
       "\\item[citric.acid] 0.0666986493716271\n",
       "\\item[residual.sugar] 0.0742534668354718\n",
       "\\item[chlorides] -0.408044371122605\n",
       "\\item[free.sulfur.dioxide] 0.00496355258542456\n",
       "\\item[total.sulfur.dioxide] -0.000472553267137944\n",
       "\\item[density] -138.804691246083\n",
       "\\item[pH] 0.658943654451381\n",
       "\\item[sulphates] 0.611149812998906\n",
       "\\item[alcohol] 0.207342358732366\n",
       "\\end{description*}\n"
      ],
      "text/markdown": [
       "(Intercept)\n",
       ":   138.818068698005fixed.acidity\n",
       ":   0.0552444498515098volatile.acidity\n",
       ":   -1.82867145389064citric.acid\n",
       ":   0.0666986493716271residual.sugar\n",
       ":   0.0742534668354718chlorides\n",
       ":   -0.408044371122605free.sulfur.dioxide\n",
       ":   0.00496355258542456total.sulfur.dioxide\n",
       ":   -0.000472553267137944density\n",
       ":   -138.804691246083pH\n",
       ":   0.658943654451381sulphates\n",
       ":   0.611149812998906alcohol\n",
       ":   0.207342358732366\n",
       "\n"
      ],
      "text/plain": [
       "         (Intercept)        fixed.acidity     volatile.acidity \n",
       "        1.388181e+02         5.524445e-02        -1.828671e+00 \n",
       "         citric.acid       residual.sugar            chlorides \n",
       "        6.669865e-02         7.425347e-02        -4.080444e-01 \n",
       " free.sulfur.dioxide total.sulfur.dioxide              density \n",
       "        4.963553e-03        -4.725533e-04        -1.388047e+02 \n",
       "                  pH            sulphates              alcohol \n",
       "        6.589437e-01         6.111498e-01         2.073424e-01 "
      ]
     },
     "metadata": {},
     "output_type": "display_data"
    }
   ],
   "source": [
    "lm_white_coef  <- lm_reg_white$finalModel$coefficients\n",
    "lm_white_coef"
   ]
  },
  {
   "cell_type": "code",
   "execution_count": 31,
   "metadata": {},
   "outputs": [
    {
     "data": {
      "text/html": [
       "<dl class=dl-horizontal>\n",
       "\t<dt>RMSE</dt>\n",
       "\t\t<dd>0.765454757312019</dd>\n",
       "\t<dt>Rsquared</dt>\n",
       "\t\t<dd>0.256726656342314</dd>\n",
       "\t<dt>MAE</dt>\n",
       "\t\t<dd>0.590999574865653</dd>\n",
       "</dl>\n"
      ],
      "text/latex": [
       "\\begin{description*}\n",
       "\\item[RMSE] 0.765454757312019\n",
       "\\item[Rsquared] 0.256726656342314\n",
       "\\item[MAE] 0.590999574865653\n",
       "\\end{description*}\n"
      ],
      "text/markdown": [
       "RMSE\n",
       ":   0.765454757312019Rsquared\n",
       ":   0.256726656342314MAE\n",
       ":   0.590999574865653\n",
       "\n"
      ],
      "text/plain": [
       "     RMSE  Rsquared       MAE \n",
       "0.7654548 0.2567267 0.5909996 "
      ]
     },
     "metadata": {},
     "output_type": "display_data"
    }
   ],
   "source": [
    "test_pred_white_lm <- predict(lm_reg_white, X_test_white_lm)\n",
    "lm_regValues_white <- data.frame(obs = Y_test_white_lm, pred = test_pred_white_lm)\n",
    "lm_defaultSum_white <- defaultSummary(lm_regValues_white)\n",
    "lm_defaultSum_white"
   ]
  },
  {
   "cell_type": "markdown",
   "metadata": {},
   "source": [
    "#### End of White Wine Analysis"
   ]
  },
  {
   "cell_type": "code",
   "execution_count": 32,
   "metadata": {},
   "outputs": [
    {
     "name": "stdout",
     "output_type": "stream",
     "text": [
      "Observations: 6,497\n",
      "Variables: 13\n",
      "$ fixed_acidity        <dbl> 1.0093572, 1.0639170, 1.0639170, 1.5276757, 1....\n",
      "$ volatile_acidity     <dbl> 1.8543718, 2.3312103, 2.0133180, 0.7417487, 1....\n",
      "$ citric_acid          <dbl> 0.00000000, 0.00000000, 0.11421113, 1.59895588...\n",
      "$ residual_sugar       <dbl> 0.2628010, 0.3596225, 0.3181276, 0.2628010, 0....\n",
      "$ chlorides            <dbl> 1.1499810, 1.4828702, 1.3920822, 1.1348497, 1....\n",
      "$ free_sulfur_dioxide  <dbl> 0.3115035, 0.7079626, 0.4247776, 0.4814146, 0....\n",
      "$ total_sulfur_dioxide <dbl> 0.2639162, 0.5200702, 0.4191611, 0.4657345, 0....\n",
      "$ density              <dbl> 1.0030382, 1.0020329, 1.0022340, 1.0032392, 1....\n",
      "$ pH                   <dbl> 1.0891279, 0.9929371, 1.0115547, 0.9805254, 1....\n",
      "$ sulphates            <dbl> 1.0149448, 1.2324330, 1.1780610, 1.0511929, 1....\n",
      "$ alcohol              <dbl> 0.8901364, 0.9280145, 0.9280145, 0.9280145, 0....\n",
      "$ quality              <int> 5, 5, 5, 6, 5, 5, 5, 7, 7, 5, 5, 5, 5, 5, 5, 5...\n",
      "$ type                 <fct> red, red, red, red, red, red, red, red, red, r...\n"
     ]
    }
   ],
   "source": [
    "scaled_wine_data <- wine_data%>%\n",
    "    select(-c(quality, type)) %>% \n",
    "    scale(center = FALSE) \n",
    "scaled_wine_data <- data.frame(scaled_wine_data, quality = wine_data$quality, type = wine_data$type)\n",
    "colnames(scaled_wine_data) <- c(\"fixed_acidity\", \"volatile_acidity\", \"citric_acid\", \"residual_sugar\", \"chlorides\", \n",
    "                        \"free_sulfur_dioxide\", \"total_sulfur_dioxide\", \"density\", \"pH\", \"sulphates\", \"alcohol\", \n",
    "                        \"quality\", \"type\")\n",
    "glimpse(scaled_wine_data)"
   ]
  },
  {
   "cell_type": "code",
   "execution_count": 33,
   "metadata": {},
   "outputs": [
    {
     "name": "stdout",
     "output_type": "stream",
     "text": [
      "Observations: 6,495\n",
      "Variables: 13\n",
      "$ fixed_acidity        <dbl> 1.0093572, 1.0639170, 1.0639170, 1.5276757, 1....\n",
      "$ volatile_acidity     <dbl> 1.8543718, 2.3312103, 2.0133180, 0.7417487, 1....\n",
      "$ citric_acid          <dbl> 0.00000000, 0.00000000, 0.11421113, 1.59895588...\n",
      "$ residual_sugar       <dbl> 0.2628010, 0.3596225, 0.3181276, 0.2628010, 0....\n",
      "$ chlorides            <dbl> 1.1499810, 1.4828702, 1.3920822, 1.1348497, 1....\n",
      "$ free_sulfur_dioxide  <dbl> 0.3115035, 0.7079626, 0.4247776, 0.4814146, 0....\n",
      "$ total_sulfur_dioxide <dbl> 0.2639162, 0.5200702, 0.4191611, 0.4657345, 0....\n",
      "$ density              <dbl> 1.0030382, 1.0020329, 1.0022340, 1.0032392, 1....\n",
      "$ pH                   <dbl> 1.0891279, 0.9929371, 1.0115547, 0.9805254, 1....\n",
      "$ sulphates            <dbl> 1.0149448, 1.2324330, 1.1780610, 1.0511929, 1....\n",
      "$ alcohol              <dbl> 0.8901364, 0.9280145, 0.9280145, 0.9280145, 0....\n",
      "$ quality              <int> 5, 5, 5, 6, 5, 5, 5, 7, 7, 5, 5, 5, 5, 5, 5, 5...\n",
      "$ type                 <fct> red, red, red, red, red, red, red, red, red, r...\n"
     ]
    }
   ],
   "source": [
    "scaled_wine_data <- na.omit(scaled_wine_data)\n",
    "glimpse(scaled_wine_data)"
   ]
  },
  {
   "cell_type": "code",
   "execution_count": 34,
   "metadata": {},
   "outputs": [],
   "source": [
    "set.seed(2017)\n",
    "training_rows <- scaled_wine_data %>% \n",
    "    select(quality) %>% \n",
    "    unlist() %>% \n",
    "    createDataPartition(p = 0.75, list = FALSE)\n",
    "\n",
    "training_set <- scaled_wine_data %>% \n",
    "    slice(training_rows)\n",
    "\n",
    "testing_set <- scaled_wine_data %>% \n",
    "    slice(-training_rows)\n",
    "\n",
    "X_train_type_all <- training_set %>% \n",
    "    select(fixed_acidity, volatile_acidity, citric_acid, residual_sugar, chlorides, free_sulfur_dioxide, total_sulfur_dioxide, \n",
    "           density, pH, sulphates, alcohol) %>% \n",
    "    data.frame()\n",
    "\n",
    "Y_train_type_all <- training_set %>% \n",
    "    select(quality) %>% \n",
    "    unlist()\n",
    "X_test_type_all <- testing_set %>% \n",
    "    select(fixed_acidity, volatile_acidity, citric_acid, residual_sugar, chlorides, free_sulfur_dioxide, total_sulfur_dioxide, \n",
    "           density, pH, sulphates, alcohol) %>% \n",
    "    data.frame()\n",
    "\n",
    "Y_test_type_all <- testing_set %>% \n",
    "    select(quality) %>% \n",
    "    unlist()"
   ]
  },
  {
   "cell_type": "code",
   "execution_count": 35,
   "metadata": {},
   "outputs": [],
   "source": [
    "train_control <- trainControl(method = \"cv\", number = 10)\n",
    "k_lots_type_all = data.frame(k = seq(from = 1, to = 50 , by = 1)) "
   ]
  },
  {
   "cell_type": "code",
   "execution_count": 36,
   "metadata": {},
   "outputs": [
    {
     "data": {
      "text/plain": [
       "k-Nearest Neighbors \n",
       "\n",
       "4872 samples\n",
       "  11 predictor\n",
       "\n",
       "No pre-processing\n",
       "Resampling: Cross-Validated (10 fold) \n",
       "Summary of sample sizes: 4386, 4385, 4384, 4384, 4386, 4384, ... \n",
       "Resampling results across tuning parameters:\n",
       "\n",
       "  k   RMSE       Rsquared   MAE      \n",
       "   1  0.8267339  0.2952183  0.4872538\n",
       "   2  0.7732313  0.3001630  0.5353860\n",
       "   3  0.7511165  0.3078552  0.5504425\n",
       "   4  0.7441366  0.3059202  0.5542082\n",
       "   5  0.7333752  0.3135682  0.5521498\n",
       "   6  0.7269065  0.3198000  0.5532944\n",
       "   7  0.7291600  0.3123808  0.5595630\n",
       "   8  0.7261304  0.3157205  0.5608260\n",
       "   9  0.7254088  0.3157560  0.5620268\n",
       "  10  0.7260392  0.3138172  0.5625144\n",
       "  11  0.7256747  0.3139035  0.5640479\n",
       "  12  0.7242954  0.3159488  0.5640929\n",
       "  13  0.7229233  0.3186965  0.5637369\n",
       "  14  0.7242782  0.3163696  0.5653398\n",
       "  15  0.7240157  0.3170577  0.5665401\n",
       "  16  0.7234681  0.3183264  0.5675373\n",
       "  17  0.7237020  0.3182575  0.5684658\n",
       "  18  0.7233448  0.3192448  0.5685453\n",
       "  19  0.7241773  0.3181787  0.5691123\n",
       "  20  0.7236934  0.3195354  0.5687789\n",
       "  21  0.7234037  0.3205796  0.5683778\n",
       "  22  0.7238673  0.3202811  0.5686036\n",
       "  23  0.7245731  0.3191754  0.5693008\n",
       "  24  0.7257819  0.3171831  0.5704209\n",
       "  25  0.7262508  0.3167483  0.5707752\n",
       "  26  0.7271302  0.3155505  0.5716699\n",
       "  27  0.7279310  0.3141985  0.5726408\n",
       "  28  0.7285426  0.3132891  0.5736842\n",
       "  29  0.7282622  0.3145247  0.5733075\n",
       "  30  0.7294968  0.3121418  0.5743975\n",
       "  31  0.7300875  0.3112683  0.5750211\n",
       "  32  0.7306471  0.3105154  0.5751194\n",
       "  33  0.7314697  0.3091611  0.5761455\n",
       "  34  0.7324172  0.3074202  0.5770390\n",
       "  35  0.7332009  0.3061714  0.5778444\n",
       "  36  0.7331327  0.3068565  0.5781385\n",
       "  37  0.7338532  0.3058410  0.5788014\n",
       "  38  0.7346911  0.3043948  0.5794505\n",
       "  39  0.7350837  0.3040176  0.5795401\n",
       "  40  0.7361043  0.3021858  0.5805921\n",
       "  41  0.7364666  0.3019068  0.5809990\n",
       "  42  0.7368255  0.3015936  0.5813596\n",
       "  43  0.7370580  0.3014138  0.5814664\n",
       "  44  0.7378765  0.3000465  0.5821781\n",
       "  45  0.7382306  0.2996547  0.5822658\n",
       "  46  0.7384226  0.2995950  0.5825888\n",
       "  47  0.7393510  0.2978888  0.5834897\n",
       "  48  0.7391902  0.2986017  0.5836093\n",
       "  49  0.7396543  0.2980076  0.5840820\n",
       "  50  0.7395399  0.2987265  0.5843659\n",
       "\n",
       "RMSE was used to select the optimal model using the smallest value.\n",
       "The final value used for the model was k = 13."
      ]
     },
     "metadata": {},
     "output_type": "display_data"
    }
   ],
   "source": [
    "set.seed(2017)\n",
    "knn_cv_type_all <- train(x = X_train_type_all, y = Y_train_type_all, method = \"knn\", tuneGrid = k_lots_type_all, trControl = train_control) \n",
    "knn_cv_type_all"
   ]
  },
  {
   "cell_type": "code",
   "execution_count": 37,
   "metadata": {},
   "outputs": [
    {
     "name": "stderr",
     "output_type": "stream",
     "text": [
      "ERROR while rich displaying an object: Error in FUN(X[[i]], ...): object 'Accuracy' not found\n",
      "\n",
      "Traceback:\n",
      "1. FUN(X[[i]], ...)\n",
      "2. tryCatch(withCallingHandlers({\n",
      " .     rpr <- mime2repr[[mime]](obj)\n",
      " .     if (is.null(rpr)) \n",
      " .         return(NULL)\n",
      " .     prepare_content(is.raw(rpr), rpr)\n",
      " . }, error = error_handler), error = outer_handler)\n",
      "3. tryCatchList(expr, classes, parentenv, handlers)\n",
      "4. tryCatchOne(expr, names, parentenv, handlers[[1L]])\n",
      "5. doTryCatch(return(expr), name, parentenv, handler)\n",
      "6. withCallingHandlers({\n",
      " .     rpr <- mime2repr[[mime]](obj)\n",
      " .     if (is.null(rpr)) \n",
      " .         return(NULL)\n",
      " .     prepare_content(is.raw(rpr), rpr)\n",
      " . }, error = error_handler)\n",
      "7. mime2repr[[mime]](obj)\n",
      "8. repr_text.default(obj)\n",
      "9. paste(capture.output(print(obj)), collapse = \"\\n\")\n",
      "10. capture.output(print(obj))\n",
      "11. evalVis(expr)\n",
      "12. withVisible(eval(expr, pf))\n",
      "13. eval(expr, pf)\n",
      "14. eval(expr, pf)\n",
      "15. print(obj)\n",
      "16. print.ggplot(obj)\n",
      "17. ggplot_build(x)\n",
      "18. ggplot_build.ggplot(x)\n",
      "19. by_layer(function(l, d) l$compute_aesthetics(d, plot))\n",
      "20. f(l = layers[[i]], d = data[[i]])\n",
      "21. l$compute_aesthetics(d, plot)\n",
      "22. f(..., self = self)\n",
      "23. scales_add_defaults(plot$scales, data, aesthetics, plot$plot_env)\n",
      "24. lapply(aesthetics[new_aesthetics], rlang::eval_tidy, data = data)\n",
      "25. FUN(X[[i]], ...)\n"
     ]
    },
    {
     "data": {},
     "metadata": {},
     "output_type": "display_data"
    },
    {
     "data": {
      "image/png": "[encoded data removed]",
      "text/plain": [
       "plot without title"
      ]
     },
     "metadata": {},
     "output_type": "display_data"
    }
   ],
   "source": [
    "accuracy_vs_k_type_all <- knn_cv_type_all$results %>% \n",
    "    ggplot(aes(x = k, y = Accuracy)) +\n",
    "    geom_point() +\n",
    "    geom_line()\n",
    "accuracy_vs_k_type_all"
   ]
  },
  {
   "cell_type": "code",
   "execution_count": null,
   "metadata": {},
   "outputs": [],
   "source": [
    "#choose k=1\n",
    "knn_model_type_all <- train(x = X_train_type_all, y = Y_train_type_all, method = \"knn\", tuneGrid = data.frame(k = 1))\n",
    "test_pred_type_all <- predict(knn_model_type_all, X_test_type_all)\n",
    "test_result_type_all <- confusionMatrix(test_pred_type_all, Y_test_type_all)\n",
    "test_result_type_all"
   ]
  },
  {
   "cell_type": "code",
   "execution_count": null,
   "metadata": {},
   "outputs": [],
   "source": [
    "#Changing predictors to first three\n",
    "X_train_type_3 <- training_set %>% \n",
    "    select(fixed_acidity, volatile_acidity, citric_acid) %>% \n",
    "    data.frame()\n",
    "\n",
    "Y_train_type_3 <- training_set %>% \n",
    "    select(type) %>% \n",
    "    unlist()\n",
    "X_test_type_3 <- testing_set %>% \n",
    "    select(fixed_acidity, volatile_acidity, citric_acid) %>% \n",
    "    data.frame()\n",
    "\n",
    "Y_test_type_3 <- testing_set %>% \n",
    "    select(type) %>% \n",
    "    unlist()"
   ]
  },
  {
   "cell_type": "code",
   "execution_count": null,
   "metadata": {},
   "outputs": [],
   "source": [
    "train_control <- trainControl(method = \"cv\", number = 10)\n",
    "k_lots_type_3 = data.frame(k = seq(from = 1, to = 100 , by = 2)) "
   ]
  },
  {
   "cell_type": "code",
   "execution_count": null,
   "metadata": {},
   "outputs": [],
   "source": [
    "set.seed(2017)\n",
    "knn_cv_type_3 <- train(x = X_train_type_3, y = Y_train_type_3, method = \"knn\", tuneGrid = k_lots_type_3, trControl = train_control) \n",
    "knn_cv_type_3"
   ]
  },
  {
   "cell_type": "code",
   "execution_count": null,
   "metadata": {},
   "outputs": [],
   "source": [
    "accuracy_vs_k_type_3 <- knn_cv_type_3$results %>% \n",
    "    ggplot(aes(x = k, y = Accuracy)) +\n",
    "    geom_point() +\n",
    "    geom_line()\n",
    "accuracy_vs_k_type_3"
   ]
  },
  {
   "cell_type": "code",
   "execution_count": null,
   "metadata": {},
   "outputs": [],
   "source": [
    "# CHOOSE k= 11\n",
    "knn_model_type_3 <- train(x = X_train_type_3, y = Y_train_type_3, method = \"knn\", tuneGrid = data.frame(k = 11))\n",
    "test_pred_type_3 <- predict(knn_model_type_3, X_test_type_3)\n",
    "test_result_type_3 <- confusionMatrix(test_pred_type_3, Y_test_type_3)\n",
    "test_result_type_3"
   ]
  },
  {
   "cell_type": "code",
   "execution_count": null,
   "metadata": {},
   "outputs": [],
   "source": [
    "#changing predictors to first six\n",
    "X_train_type_6 <- training_set %>% \n",
    "    select(fixed_acidity, volatile_acidity, citric_acid, residual_sugar, chlorides, free_sulfur_dioxide) %>% \n",
    "    data.frame()\n",
    "\n",
    "Y_train_type_6 <- training_set %>% \n",
    "    select(type) %>% \n",
    "    unlist()\n",
    "X_test_type_6 <- testing_set %>% \n",
    "    select(fixed_acidity, volatile_acidity, citric_acid, residual_sugar, chlorides, free_sulfur_dioxide) %>% \n",
    "    data.frame()\n",
    "\n",
    "Y_test_type_6 <- testing_set %>% \n",
    "    select(type) %>% \n",
    "    unlist()\n",
    "\n",
    "train_control <- trainControl(method = \"cv\", number = 10)\n",
    "k_lots_type_6 = data.frame(k = seq(from = 1, to = 100 , by = 2))\n",
    "\n",
    "set.seed(2017)\n",
    "knn_cv_type_6 <- train(x = X_train_type_6, y = Y_train_type_6, method = \"knn\", tuneGrid = k_lots_type_6, trControl = train_control) \n",
    "knn_cv_type_6"
   ]
  },
  {
   "cell_type": "code",
   "execution_count": null,
   "metadata": {},
   "outputs": [],
   "source": [
    "accuracy_vs_k_type_6 <- knn_cv_type_6$results %>% \n",
    "    ggplot(aes(x = k, y = Accuracy)) +\n",
    "    geom_point() +\n",
    "    geom_line()\n",
    "accuracy_vs_k_type_6"
   ]
  },
  {
   "cell_type": "code",
   "execution_count": null,
   "metadata": {},
   "outputs": [],
   "source": [
    "#choose k=11\n",
    "knn_model_type_6 <- train(x = X_train_type_6, y = Y_train_type_6, method = \"knn\", tuneGrid = data.frame(k = 11))\n",
    "test_pred_type_6 <- predict(knn_model_type_6, X_test_type_6)\n",
    "test_result_type_6 <- confusionMatrix(test_pred_type_6, Y_test_type_6)\n",
    "test_result_type_6"
   ]
  },
  {
   "cell_type": "markdown",
   "metadata": {},
   "source": []
  }
 ],
 "metadata": {
  "kernelspec": {
   "display_name": "R",
   "language": "R",
   "name": "ir"
  },
  "language_info": {
   "codemirror_mode": "r",
   "file_extension": ".r",
   "mimetype": "text/x-r-source",
   "name": "R",
   "pygments_lexer": "r",
   "version": "3.5.1"
  }
 },
 "nbformat": 4,
 "nbformat_minor": 2
}
