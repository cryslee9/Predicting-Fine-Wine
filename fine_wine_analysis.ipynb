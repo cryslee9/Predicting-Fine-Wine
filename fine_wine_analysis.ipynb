{
 "cells": [
  {
   "cell_type": "markdown",
   "metadata": {},
   "source": [
    "This is our wine analysis"
   ]
  },
  {
   "cell_type": "code",
   "execution_count": 15,
   "metadata": {},
   "outputs": [],
   "source": [
    "library(tidyverse)\n",
    "library(digest)\n",
    "library(repr)\n",
    "library(caret)"
   ]
  },
  {
   "cell_type": "code",
   "execution_count": 16,
   "metadata": {},
   "outputs": [
    {
     "name": "stderr",
     "output_type": "stream",
     "text": [
      "Parsed with column specification:\n",
      "cols(\n",
      "  `fixed acidity` = col_double(),\n",
      "  `volatile acidity` = col_double(),\n",
      "  `citric acid` = col_double(),\n",
      "  `residual sugar` = col_double(),\n",
      "  chlorides = col_double(),\n",
      "  `free sulfur dioxide` = col_double(),\n",
      "  `total sulfur dioxide` = col_double(),\n",
      "  density = col_double(),\n",
      "  pH = col_double(),\n",
      "  sulphates = col_double(),\n",
      "  alcohol = col_double(),\n",
      "  quality = col_integer()\n",
      ")\n"
     ]
    }
   ],
   "source": [
    "white_wine <- read_delim(file = \"data/wine_quality_white.csv\", delim = \";\", col_names = TRUE)"
   ]
  },
  {
   "cell_type": "code",
   "execution_count": 17,
   "metadata": {},
   "outputs": [
    {
     "name": "stderr",
     "output_type": "stream",
     "text": [
      "Parsed with column specification:\n",
      "cols(\n",
      "  `fixed acidity` = col_double(),\n",
      "  `volatile acidity` = col_double(),\n",
      "  `citric acid` = col_double(),\n",
      "  `residual sugar` = col_double(),\n",
      "  chlorides = col_double(),\n",
      "  `free sulfur dioxide` = col_double(),\n",
      "  `total sulfur dioxide` = col_double(),\n",
      "  density = col_double(),\n",
      "  pH = col_double(),\n",
      "  sulphates = col_double(),\n",
      "  alcohol = col_double(),\n",
      "  quality = col_integer()\n",
      ")\n"
     ]
    }
   ],
   "source": [
    "red_wine <- read_delim(file = \"data/wine_quality_white.csv\", delim = \";\", col_names = TRUE)"
   ]
  },
  {
   "cell_type": "code",
   "execution_count": null,
   "metadata": {},
   "outputs": [],
   "source": []
  }
 ],
 "metadata": {
  "kernelspec": {
   "display_name": "R",
   "language": "R",
   "name": "ir"
  },
  "language_info": {
   "codemirror_mode": "r",
   "file_extension": ".r",
   "mimetype": "text/x-r-source",
   "name": "R",
   "pygments_lexer": "r",
   "version": "3.4.1"
  }
 },
 "nbformat": 4,
 "nbformat_minor": 2
}
