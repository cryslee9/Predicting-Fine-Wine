{
 "cells": [
  {
   "cell_type": "markdown",
   "metadata": {},
   "source": [
    "This is our wine analysis"
   ]
  },
  {
   "cell_type": "code",
   "execution_count": 2,
   "metadata": {},
   "outputs": [
    {
     "name": "stderr",
     "output_type": "stream",
     "text": [
      "── Attaching packages ─────────────────────────────────────── tidyverse 1.2.1 ──\n",
      "✔ ggplot2 3.0.0     ✔ purrr   0.2.5\n",
      "✔ tibble  1.4.2     ✔ dplyr   0.7.6\n",
      "✔ tidyr   0.8.1     ✔ stringr 1.3.1\n",
      "✔ readr   1.1.1     ✔ forcats 0.3.0\n",
      "── Conflicts ────────────────────────────────────────── tidyverse_conflicts() ──\n",
      "✖ dplyr::filter() masks stats::filter()\n",
      "✖ dplyr::lag()    masks stats::lag()\n",
      "Loading required package: lattice\n",
      "\n",
      "Attaching package: ‘caret’\n",
      "\n",
      "The following object is masked from ‘package:purrr’:\n",
      "\n",
      "    lift\n",
      "\n"
     ]
    }
   ],
   "source": [
    "library(tidyverse)\n",
    "library(digest)\n",
    "library(repr)\n",
    "library(caret)"
   ]
  },
  {
   "cell_type": "code",
   "execution_count": 3,
   "metadata": {},
   "outputs": [
    {
     "name": "stderr",
     "output_type": "stream",
     "text": [
      "Parsed with column specification:\n",
      "cols(\n",
      "  `fixed acidity` = col_double(),\n",
      "  `volatile acidity` = col_double(),\n",
      "  `citric acid` = col_double(),\n",
      "  `residual sugar` = col_double(),\n",
      "  chlorides = col_double(),\n",
      "  `free sulfur dioxide` = col_double(),\n",
      "  `total sulfur dioxide` = col_double(),\n",
      "  density = col_double(),\n",
      "  pH = col_double(),\n",
      "  sulphates = col_double(),\n",
      "  alcohol = col_double(),\n",
      "  quality = col_integer()\n",
      ")\n"
     ]
    }
   ],
   "source": [
    "white_wine <- read_delim(file = \"data/wine_quality_white.csv\", delim = \";\", col_names = TRUE)"
   ]
  },
  {
   "cell_type": "code",
   "execution_count": 4,
   "metadata": {},
   "outputs": [
    {
     "name": "stderr",
     "output_type": "stream",
     "text": [
      "Parsed with column specification:\n",
      "cols(\n",
      "  `fixed acidity` = col_double(),\n",
      "  `volatile acidity` = col_double(),\n",
      "  `citric acid` = col_double(),\n",
      "  `residual sugar` = col_double(),\n",
      "  chlorides = col_double(),\n",
      "  `free sulfur dioxide` = col_double(),\n",
      "  `total sulfur dioxide` = col_double(),\n",
      "  density = col_double(),\n",
      "  pH = col_double(),\n",
      "  sulphates = col_double(),\n",
      "  alcohol = col_double(),\n",
      "  quality = col_integer()\n",
      ")\n"
     ]
    }
   ],
   "source": [
    "red_wine <- read_delim(file = \"data/wine_quality_white.csv\", delim = \";\", col_names = TRUE)"
   ]
  },
  {
   "cell_type": "code",
   "execution_count": 5,
   "metadata": {},
   "outputs": [
    {
     "data": {
      "text/html": [
       "<table>\n",
       "<thead><tr><th scope=col>fixed acidity</th><th scope=col>volatile acidity</th><th scope=col>citric acid</th><th scope=col>residual sugar</th><th scope=col>chlorides</th><th scope=col>free sulfur dioxide</th><th scope=col>total sulfur dioxide</th><th scope=col>density</th><th scope=col>pH</th><th scope=col>sulphates</th><th scope=col>alcohol</th><th scope=col>quality</th></tr></thead>\n",
       "<tbody>\n",
       "\t<tr><td>7.0   </td><td>0.27  </td><td>0.36  </td><td>20.7  </td><td>0.045 </td><td>45    </td><td>170   </td><td>1.0010</td><td>3.00  </td><td>0.45  </td><td> 8.8  </td><td>6     </td></tr>\n",
       "\t<tr><td>6.3   </td><td>0.30  </td><td>0.34  </td><td> 1.6  </td><td>0.049 </td><td>14    </td><td>132   </td><td>0.9940</td><td>3.30  </td><td>0.49  </td><td> 9.5  </td><td>6     </td></tr>\n",
       "\t<tr><td>8.1   </td><td>0.28  </td><td>0.40  </td><td> 6.9  </td><td>0.050 </td><td>30    </td><td> 97   </td><td>0.9951</td><td>3.26  </td><td>0.44  </td><td>10.1  </td><td>6     </td></tr>\n",
       "\t<tr><td>7.2   </td><td>0.23  </td><td>0.32  </td><td> 8.5  </td><td>0.058 </td><td>47    </td><td>186   </td><td>0.9956</td><td>3.19  </td><td>0.40  </td><td> 9.9  </td><td>6     </td></tr>\n",
       "\t<tr><td>7.2   </td><td>0.23  </td><td>0.32  </td><td> 8.5  </td><td>0.058 </td><td>47    </td><td>186   </td><td>0.9956</td><td>3.19  </td><td>0.40  </td><td> 9.9  </td><td>6     </td></tr>\n",
       "\t<tr><td>8.1   </td><td>0.28  </td><td>0.40  </td><td> 6.9  </td><td>0.050 </td><td>30    </td><td> 97   </td><td>0.9951</td><td>3.26  </td><td>0.44  </td><td>10.1  </td><td>6     </td></tr>\n",
       "</tbody>\n",
       "</table>\n"
      ],
      "text/latex": [
       "\\begin{tabular}{r|llllllllllll}\n",
       " fixed acidity & volatile acidity & citric acid & residual sugar & chlorides & free sulfur dioxide & total sulfur dioxide & density & pH & sulphates & alcohol & quality\\\\\n",
       "\\hline\n",
       "\t 7.0    & 0.27   & 0.36   & 20.7   & 0.045  & 45     & 170    & 1.0010 & 3.00   & 0.45   &  8.8   & 6     \\\\\n",
       "\t 6.3    & 0.30   & 0.34   &  1.6   & 0.049  & 14     & 132    & 0.9940 & 3.30   & 0.49   &  9.5   & 6     \\\\\n",
       "\t 8.1    & 0.28   & 0.40   &  6.9   & 0.050  & 30     &  97    & 0.9951 & 3.26   & 0.44   & 10.1   & 6     \\\\\n",
       "\t 7.2    & 0.23   & 0.32   &  8.5   & 0.058  & 47     & 186    & 0.9956 & 3.19   & 0.40   &  9.9   & 6     \\\\\n",
       "\t 7.2    & 0.23   & 0.32   &  8.5   & 0.058  & 47     & 186    & 0.9956 & 3.19   & 0.40   &  9.9   & 6     \\\\\n",
       "\t 8.1    & 0.28   & 0.40   &  6.9   & 0.050  & 30     &  97    & 0.9951 & 3.26   & 0.44   & 10.1   & 6     \\\\\n",
       "\\end{tabular}\n"
      ],
      "text/markdown": [
       "\n",
       "fixed acidity | volatile acidity | citric acid | residual sugar | chlorides | free sulfur dioxide | total sulfur dioxide | density | pH | sulphates | alcohol | quality | \n",
       "|---|---|---|---|---|---|\n",
       "| 7.0    | 0.27   | 0.36   | 20.7   | 0.045  | 45     | 170    | 1.0010 | 3.00   | 0.45   |  8.8   | 6      | \n",
       "| 6.3    | 0.30   | 0.34   |  1.6   | 0.049  | 14     | 132    | 0.9940 | 3.30   | 0.49   |  9.5   | 6      | \n",
       "| 8.1    | 0.28   | 0.40   |  6.9   | 0.050  | 30     |  97    | 0.9951 | 3.26   | 0.44   | 10.1   | 6      | \n",
       "| 7.2    | 0.23   | 0.32   |  8.5   | 0.058  | 47     | 186    | 0.9956 | 3.19   | 0.40   |  9.9   | 6      | \n",
       "| 7.2    | 0.23   | 0.32   |  8.5   | 0.058  | 47     | 186    | 0.9956 | 3.19   | 0.40   |  9.9   | 6      | \n",
       "| 8.1    | 0.28   | 0.40   |  6.9   | 0.050  | 30     |  97    | 0.9951 | 3.26   | 0.44   | 10.1   | 6      | \n",
       "\n",
       "\n"
      ],
      "text/plain": [
       "  fixed acidity volatile acidity citric acid residual sugar chlorides\n",
       "1 7.0           0.27             0.36        20.7           0.045    \n",
       "2 6.3           0.30             0.34         1.6           0.049    \n",
       "3 8.1           0.28             0.40         6.9           0.050    \n",
       "4 7.2           0.23             0.32         8.5           0.058    \n",
       "5 7.2           0.23             0.32         8.5           0.058    \n",
       "6 8.1           0.28             0.40         6.9           0.050    \n",
       "  free sulfur dioxide total sulfur dioxide density pH   sulphates alcohol\n",
       "1 45                  170                  1.0010  3.00 0.45       8.8   \n",
       "2 14                  132                  0.9940  3.30 0.49       9.5   \n",
       "3 30                   97                  0.9951  3.26 0.44      10.1   \n",
       "4 47                  186                  0.9956  3.19 0.40       9.9   \n",
       "5 47                  186                  0.9956  3.19 0.40       9.9   \n",
       "6 30                   97                  0.9951  3.26 0.44      10.1   \n",
       "  quality\n",
       "1 6      \n",
       "2 6      \n",
       "3 6      \n",
       "4 6      \n",
       "5 6      \n",
       "6 6      "
      ]
     },
     "metadata": {},
     "output_type": "display_data"
    }
   ],
   "source": [
    "head(red_wine)"
   ]
  },
  {
   "cell_type": "raw",
   "metadata": {},
   "source": [
    "cols  <- c('fixed acidity', 'volatile acidity', 'citric acid', 'residual sugar', 'chlorides', 'free sulfur dioxide', 'total sulfur dioxide', 'density', 'pH', 'sulphates', 'alcohol')\n",
    "red_wine_mean  <- red_wine  %>% select(-quality)   %>% mean(na.rm = TRUE)\n",
    "head(red_wine_mean)"
   ]
  },
  {
   "cell_type": "code",
   "execution_count": 9,
   "metadata": {},
   "outputs": [
    {
     "data": {
      "text/html": [
       "<dl class=dl-horizontal>\n",
       "\t<dt>fixed acidity</dt>\n",
       "\t\t<dd>6.8547876684361</dd>\n",
       "\t<dt>volatile acidity</dt>\n",
       "\t\t<dd>0.27824111882401</dd>\n",
       "\t<dt>citric acid</dt>\n",
       "\t\t<dd>0.334191506737444</dd>\n",
       "\t<dt>residual sugar</dt>\n",
       "\t\t<dd>6.39141486320947</dd>\n",
       "\t<dt>chlorides</dt>\n",
       "\t\t<dd>0.0457723560636995</dd>\n",
       "\t<dt>free sulfur dioxide</dt>\n",
       "\t\t<dd>35.3080849326256</dd>\n",
       "</dl>\n"
      ],
      "text/latex": [
       "\\begin{description*}\n",
       "\\item[fixed acidity] 6.8547876684361\n",
       "\\item[volatile acidity] 0.27824111882401\n",
       "\\item[citric acid] 0.334191506737444\n",
       "\\item[residual sugar] 6.39141486320947\n",
       "\\item[chlorides] 0.0457723560636995\n",
       "\\item[free sulfur dioxide] 35.3080849326256\n",
       "\\end{description*}\n"
      ],
      "text/markdown": [
       "fixed acidity\n",
       ":   6.8547876684361volatile acidity\n",
       ":   0.27824111882401citric acid\n",
       ":   0.334191506737444residual sugar\n",
       ":   6.39141486320947chlorides\n",
       ":   0.0457723560636995free sulfur dioxide\n",
       ":   35.3080849326256\n",
       "\n"
      ],
      "text/plain": [
       "      fixed acidity    volatile acidity         citric acid      residual sugar \n",
       "         6.85478767          0.27824112          0.33419151          6.39141486 \n",
       "          chlorides free sulfur dioxide \n",
       "         0.04577236         35.30808493 "
      ]
     },
     "metadata": {},
     "output_type": "display_data"
    }
   ],
   "source": [
    "red_wine_mean  <- red_wine  %>% select(-quality) %>% colMeans()\n",
    "head(red_wine_mean)"
   ]
  },
  {
   "cell_type": "code",
   "execution_count": 11,
   "metadata": {},
   "outputs": [
    {
     "data": {
      "text/html": [
       "<dl class=dl-horizontal>\n",
       "\t<dt>fixed acidity</dt>\n",
       "\t\t<dd>6.8547876684361</dd>\n",
       "\t<dt>volatile acidity</dt>\n",
       "\t\t<dd>0.27824111882401</dd>\n",
       "\t<dt>citric acid</dt>\n",
       "\t\t<dd>0.334191506737444</dd>\n",
       "\t<dt>residual sugar</dt>\n",
       "\t\t<dd>6.39141486320947</dd>\n",
       "\t<dt>chlorides</dt>\n",
       "\t\t<dd>0.0457723560636995</dd>\n",
       "\t<dt>free sulfur dioxide</dt>\n",
       "\t\t<dd>35.3080849326256</dd>\n",
       "\t<dt>total sulfur dioxide</dt>\n",
       "\t\t<dd>138.360657411188</dd>\n",
       "\t<dt>density</dt>\n",
       "\t\t<dd>0.994027376480196</dd>\n",
       "\t<dt>pH</dt>\n",
       "\t\t<dd>3.18826663944467</dd>\n",
       "\t<dt>sulphates</dt>\n",
       "\t\t<dd>0.489846876276031</dd>\n",
       "\t<dt>alcohol</dt>\n",
       "\t\t<dd>10.5142670477746</dd>\n",
       "</dl>\n"
      ],
      "text/latex": [
       "\\begin{description*}\n",
       "\\item[fixed acidity] 6.8547876684361\n",
       "\\item[volatile acidity] 0.27824111882401\n",
       "\\item[citric acid] 0.334191506737444\n",
       "\\item[residual sugar] 6.39141486320947\n",
       "\\item[chlorides] 0.0457723560636995\n",
       "\\item[free sulfur dioxide] 35.3080849326256\n",
       "\\item[total sulfur dioxide] 138.360657411188\n",
       "\\item[density] 0.994027376480196\n",
       "\\item[pH] 3.18826663944467\n",
       "\\item[sulphates] 0.489846876276031\n",
       "\\item[alcohol] 10.5142670477746\n",
       "\\end{description*}\n"
      ],
      "text/markdown": [
       "fixed acidity\n",
       ":   6.8547876684361volatile acidity\n",
       ":   0.27824111882401citric acid\n",
       ":   0.334191506737444residual sugar\n",
       ":   6.39141486320947chlorides\n",
       ":   0.0457723560636995free sulfur dioxide\n",
       ":   35.3080849326256total sulfur dioxide\n",
       ":   138.360657411188density\n",
       ":   0.994027376480196pH\n",
       ":   3.18826663944467sulphates\n",
       ":   0.489846876276031alcohol\n",
       ":   10.5142670477746\n",
       "\n"
      ],
      "text/plain": [
       "       fixed acidity     volatile acidity          citric acid \n",
       "          6.85478767           0.27824112           0.33419151 \n",
       "      residual sugar            chlorides  free sulfur dioxide \n",
       "          6.39141486           0.04577236          35.30808493 \n",
       "total sulfur dioxide              density                   pH \n",
       "        138.36065741           0.99402738           3.18826664 \n",
       "           sulphates              alcohol \n",
       "          0.48984688          10.51426705 "
      ]
     },
     "metadata": {},
     "output_type": "display_data"
    }
   ],
   "source": [
    "white_wine_mean  <- white_wine  %>% select(-quality)  %>% colMeans()\n",
    "white_wine_mean"
   ]
  },
  {
   "cell_type": "code",
   "execution_count": null,
   "metadata": {},
   "outputs": [],
   "source": []
  }
 ],
 "metadata": {
  "kernelspec": {
   "display_name": "R",
   "language": "R",
   "name": "ir"
  },
  "language_info": {
   "codemirror_mode": "r",
   "file_extension": ".r",
   "mimetype": "text/x-r-source",
   "name": "R",
   "pygments_lexer": "r",
   "version": "3.5.1"
  }
 },
 "nbformat": 4,
 "nbformat_minor": 2
}
