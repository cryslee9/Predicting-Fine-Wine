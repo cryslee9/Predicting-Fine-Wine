{
 "cells": [
  {
   "cell_type": "markdown",
   "metadata": {},
   "source": [
    "This is our wine analysis"
   ]
  },
  {
   "cell_type": "code",
   "execution_count": 34,
   "metadata": {},
   "outputs": [],
   "source": [
    "library(tidyverse)\n",
    "library(digest)\n",
    "library(repr)\n",
    "library(caret)"
   ]
  },
  {
   "cell_type": "code",
   "execution_count": 35,
   "metadata": {},
   "outputs": [
    {
     "name": "stderr",
     "output_type": "stream",
     "text": [
      "Parsed with column specification:\n",
      "cols(\n",
      "  `fixed acidity` = col_double(),\n",
      "  `volatile acidity` = col_double(),\n",
      "  `citric acid` = col_double(),\n",
      "  `residual sugar` = col_double(),\n",
      "  chlorides = col_double(),\n",
      "  `free sulfur dioxide` = col_double(),\n",
      "  `total sulfur dioxide` = col_double(),\n",
      "  density = col_double(),\n",
      "  pH = col_double(),\n",
      "  sulphates = col_double(),\n",
      "  alcohol = col_double(),\n",
      "  quality = col_integer()\n",
      ")\n"
     ]
    }
   ],
   "source": [
    "white_wine <- read_delim(file = \"data/wine_quality_white.csv\", delim = \";\", col_names = TRUE)"
   ]
  },
  {
   "cell_type": "code",
   "execution_count": 36,
   "metadata": {},
   "outputs": [
    {
     "name": "stderr",
     "output_type": "stream",
     "text": [
      "Parsed with column specification:\n",
      "cols(\n",
      "  `fixed acidity` = col_double(),\n",
      "  `volatile acidity` = col_double(),\n",
      "  `citric acid` = col_double(),\n",
      "  `residual sugar` = col_double(),\n",
      "  chlorides = col_double(),\n",
      "  `free sulfur dioxide` = col_double(),\n",
      "  `total sulfur dioxide` = col_integer(),\n",
      "  density = col_double(),\n",
      "  pH = col_double(),\n",
      "  sulphates = col_double(),\n",
      "  alcohol = col_double(),\n",
      "  quality = col_integer()\n",
      ")\n",
      "Warning message:\n",
      "“2 parsing failures.\n",
      "row # A tibble: 2 x 5 col     row col                expected              actual file                    expected   <int> <chr>              <chr>                 <chr>  <chr>                   actual 1  1296 total sulfur diox… no trailing characte… .5     'data/wine_quality_red… file 2  1297 total sulfur diox… no trailing characte… .5     'data/wine_quality_red…\n",
      "”"
     ]
    }
   ],
   "source": [
    "red_wine <- read_delim(file = \"data/wine_quality_red.csv\", delim = \";\", col_names = TRUE)"
   ]
  },
  {
   "cell_type": "code",
   "execution_count": 37,
   "metadata": {},
   "outputs": [
    {
     "data": {
      "text/html": [
       "<table>\n",
       "<thead><tr><th scope=col>fixed acidity</th><th scope=col>volatile acidity</th><th scope=col>citric acid</th><th scope=col>residual sugar</th><th scope=col>chlorides</th><th scope=col>free sulfur dioxide</th><th scope=col>total sulfur dioxide</th><th scope=col>density</th><th scope=col>pH</th><th scope=col>sulphates</th><th scope=col>alcohol</th><th scope=col>quality</th></tr></thead>\n",
       "<tbody>\n",
       "\t<tr><td> 7.4  </td><td>0.70  </td><td>0.00  </td><td>1.9   </td><td>0.076 </td><td>11    </td><td>34    </td><td>0.9978</td><td>3.51  </td><td>0.56  </td><td>9.4   </td><td>5     </td></tr>\n",
       "\t<tr><td> 7.8  </td><td>0.88  </td><td>0.00  </td><td>2.6   </td><td>0.098 </td><td>25    </td><td>67    </td><td>0.9968</td><td>3.20  </td><td>0.68  </td><td>9.8   </td><td>5     </td></tr>\n",
       "\t<tr><td> 7.8  </td><td>0.76  </td><td>0.04  </td><td>2.3   </td><td>0.092 </td><td>15    </td><td>54    </td><td>0.9970</td><td>3.26  </td><td>0.65  </td><td>9.8   </td><td>5     </td></tr>\n",
       "\t<tr><td>11.2  </td><td>0.28  </td><td>0.56  </td><td>1.9   </td><td>0.075 </td><td>17    </td><td>60    </td><td>0.9980</td><td>3.16  </td><td>0.58  </td><td>9.8   </td><td>6     </td></tr>\n",
       "\t<tr><td> 7.4  </td><td>0.70  </td><td>0.00  </td><td>1.9   </td><td>0.076 </td><td>11    </td><td>34    </td><td>0.9978</td><td>3.51  </td><td>0.56  </td><td>9.4   </td><td>5     </td></tr>\n",
       "\t<tr><td> 7.4  </td><td>0.66  </td><td>0.00  </td><td>1.8   </td><td>0.075 </td><td>13    </td><td>40    </td><td>0.9978</td><td>3.51  </td><td>0.56  </td><td>9.4   </td><td>5     </td></tr>\n",
       "</tbody>\n",
       "</table>\n"
      ],
      "text/latex": [
       "\\begin{tabular}{r|llllllllllll}\n",
       " fixed acidity & volatile acidity & citric acid & residual sugar & chlorides & free sulfur dioxide & total sulfur dioxide & density & pH & sulphates & alcohol & quality\\\\\n",
       "\\hline\n",
       "\t  7.4   & 0.70   & 0.00   & 1.9    & 0.076  & 11     & 34     & 0.9978 & 3.51   & 0.56   & 9.4    & 5     \\\\\n",
       "\t  7.8   & 0.88   & 0.00   & 2.6    & 0.098  & 25     & 67     & 0.9968 & 3.20   & 0.68   & 9.8    & 5     \\\\\n",
       "\t  7.8   & 0.76   & 0.04   & 2.3    & 0.092  & 15     & 54     & 0.9970 & 3.26   & 0.65   & 9.8    & 5     \\\\\n",
       "\t 11.2   & 0.28   & 0.56   & 1.9    & 0.075  & 17     & 60     & 0.9980 & 3.16   & 0.58   & 9.8    & 6     \\\\\n",
       "\t  7.4   & 0.70   & 0.00   & 1.9    & 0.076  & 11     & 34     & 0.9978 & 3.51   & 0.56   & 9.4    & 5     \\\\\n",
       "\t  7.4   & 0.66   & 0.00   & 1.8    & 0.075  & 13     & 40     & 0.9978 & 3.51   & 0.56   & 9.4    & 5     \\\\\n",
       "\\end{tabular}\n"
      ],
      "text/markdown": [
       "\n",
       "fixed acidity | volatile acidity | citric acid | residual sugar | chlorides | free sulfur dioxide | total sulfur dioxide | density | pH | sulphates | alcohol | quality | \n",
       "|---|---|---|---|---|---|\n",
       "|  7.4   | 0.70   | 0.00   | 1.9    | 0.076  | 11     | 34     | 0.9978 | 3.51   | 0.56   | 9.4    | 5      | \n",
       "|  7.8   | 0.88   | 0.00   | 2.6    | 0.098  | 25     | 67     | 0.9968 | 3.20   | 0.68   | 9.8    | 5      | \n",
       "|  7.8   | 0.76   | 0.04   | 2.3    | 0.092  | 15     | 54     | 0.9970 | 3.26   | 0.65   | 9.8    | 5      | \n",
       "| 11.2   | 0.28   | 0.56   | 1.9    | 0.075  | 17     | 60     | 0.9980 | 3.16   | 0.58   | 9.8    | 6      | \n",
       "|  7.4   | 0.70   | 0.00   | 1.9    | 0.076  | 11     | 34     | 0.9978 | 3.51   | 0.56   | 9.4    | 5      | \n",
       "|  7.4   | 0.66   | 0.00   | 1.8    | 0.075  | 13     | 40     | 0.9978 | 3.51   | 0.56   | 9.4    | 5      | \n",
       "\n",
       "\n"
      ],
      "text/plain": [
       "  fixed acidity volatile acidity citric acid residual sugar chlorides\n",
       "1  7.4          0.70             0.00        1.9            0.076    \n",
       "2  7.8          0.88             0.00        2.6            0.098    \n",
       "3  7.8          0.76             0.04        2.3            0.092    \n",
       "4 11.2          0.28             0.56        1.9            0.075    \n",
       "5  7.4          0.70             0.00        1.9            0.076    \n",
       "6  7.4          0.66             0.00        1.8            0.075    \n",
       "  free sulfur dioxide total sulfur dioxide density pH   sulphates alcohol\n",
       "1 11                  34                   0.9978  3.51 0.56      9.4    \n",
       "2 25                  67                   0.9968  3.20 0.68      9.8    \n",
       "3 15                  54                   0.9970  3.26 0.65      9.8    \n",
       "4 17                  60                   0.9980  3.16 0.58      9.8    \n",
       "5 11                  34                   0.9978  3.51 0.56      9.4    \n",
       "6 13                  40                   0.9978  3.51 0.56      9.4    \n",
       "  quality\n",
       "1 5      \n",
       "2 5      \n",
       "3 5      \n",
       "4 6      \n",
       "5 5      \n",
       "6 5      "
      ]
     },
     "metadata": {},
     "output_type": "display_data"
    }
   ],
   "source": [
    "head(red_wine)"
   ]
  },
  {
   "cell_type": "raw",
   "metadata": {},
   "source": [
    "cols  <- c('fixed acidity', 'volatile acidity', 'citric acid', 'residual sugar', 'chlorides', 'free sulfur dioxide', 'total sulfur dioxide', 'density', 'pH', 'sulphates', 'alcohol')\n",
    "red_wine_mean  <- red_wine  %>% select(-quality)   %>% mean(na.rm = TRUE)\n",
    "head(red_wine_mean)"
   ]
  },
  {
   "cell_type": "code",
   "execution_count": 38,
   "metadata": {},
   "outputs": [
    {
     "data": {
      "text/html": [
       "<dl class=dl-horizontal>\n",
       "\t<dt>fixed acidity</dt>\n",
       "\t\t<dd>8.31963727329581</dd>\n",
       "\t<dt>volatile acidity</dt>\n",
       "\t\t<dd>0.527820512820513</dd>\n",
       "\t<dt>citric acid</dt>\n",
       "\t\t<dd>0.270975609756098</dd>\n",
       "\t<dt>residual sugar</dt>\n",
       "\t\t<dd>2.53880550343965</dd>\n",
       "\t<dt>chlorides</dt>\n",
       "\t\t<dd>0.0874665415884928</dd>\n",
       "\t<dt>free sulfur dioxide</dt>\n",
       "\t\t<dd>15.8749218261413</dd>\n",
       "</dl>\n"
      ],
      "text/latex": [
       "\\begin{description*}\n",
       "\\item[fixed acidity] 8.31963727329581\n",
       "\\item[volatile acidity] 0.527820512820513\n",
       "\\item[citric acid] 0.270975609756098\n",
       "\\item[residual sugar] 2.53880550343965\n",
       "\\item[chlorides] 0.0874665415884928\n",
       "\\item[free sulfur dioxide] 15.8749218261413\n",
       "\\end{description*}\n"
      ],
      "text/markdown": [
       "fixed acidity\n",
       ":   8.31963727329581volatile acidity\n",
       ":   0.527820512820513citric acid\n",
       ":   0.270975609756098residual sugar\n",
       ":   2.53880550343965chlorides\n",
       ":   0.0874665415884928free sulfur dioxide\n",
       ":   15.8749218261413\n",
       "\n"
      ],
      "text/plain": [
       "      fixed acidity    volatile acidity         citric acid      residual sugar \n",
       "         8.31963727          0.52782051          0.27097561          2.53880550 \n",
       "          chlorides free sulfur dioxide \n",
       "         0.08746654         15.87492183 "
      ]
     },
     "metadata": {},
     "output_type": "display_data"
    }
   ],
   "source": [
    "red_wine_mean  <- red_wine  %>% select(-quality) %>% colMeans()\n",
    "head(red_wine_mean)"
   ]
  },
  {
   "cell_type": "code",
   "execution_count": 39,
   "metadata": {},
   "outputs": [
    {
     "data": {
      "text/html": [
       "<dl class=dl-horizontal>\n",
       "\t<dt>fixed acidity</dt>\n",
       "\t\t<dd>6.8547876684361</dd>\n",
       "\t<dt>volatile acidity</dt>\n",
       "\t\t<dd>0.27824111882401</dd>\n",
       "\t<dt>citric acid</dt>\n",
       "\t\t<dd>0.334191506737444</dd>\n",
       "\t<dt>residual sugar</dt>\n",
       "\t\t<dd>6.39141486320947</dd>\n",
       "\t<dt>chlorides</dt>\n",
       "\t\t<dd>0.0457723560636995</dd>\n",
       "\t<dt>free sulfur dioxide</dt>\n",
       "\t\t<dd>35.3080849326256</dd>\n",
       "\t<dt>total sulfur dioxide</dt>\n",
       "\t\t<dd>138.360657411188</dd>\n",
       "\t<dt>density</dt>\n",
       "\t\t<dd>0.994027376480196</dd>\n",
       "\t<dt>pH</dt>\n",
       "\t\t<dd>3.18826663944467</dd>\n",
       "\t<dt>sulphates</dt>\n",
       "\t\t<dd>0.489846876276031</dd>\n",
       "\t<dt>alcohol</dt>\n",
       "\t\t<dd>10.5142670477746</dd>\n",
       "</dl>\n"
      ],
      "text/latex": [
       "\\begin{description*}\n",
       "\\item[fixed acidity] 6.8547876684361\n",
       "\\item[volatile acidity] 0.27824111882401\n",
       "\\item[citric acid] 0.334191506737444\n",
       "\\item[residual sugar] 6.39141486320947\n",
       "\\item[chlorides] 0.0457723560636995\n",
       "\\item[free sulfur dioxide] 35.3080849326256\n",
       "\\item[total sulfur dioxide] 138.360657411188\n",
       "\\item[density] 0.994027376480196\n",
       "\\item[pH] 3.18826663944467\n",
       "\\item[sulphates] 0.489846876276031\n",
       "\\item[alcohol] 10.5142670477746\n",
       "\\end{description*}\n"
      ],
      "text/markdown": [
       "fixed acidity\n",
       ":   6.8547876684361volatile acidity\n",
       ":   0.27824111882401citric acid\n",
       ":   0.334191506737444residual sugar\n",
       ":   6.39141486320947chlorides\n",
       ":   0.0457723560636995free sulfur dioxide\n",
       ":   35.3080849326256total sulfur dioxide\n",
       ":   138.360657411188density\n",
       ":   0.994027376480196pH\n",
       ":   3.18826663944467sulphates\n",
       ":   0.489846876276031alcohol\n",
       ":   10.5142670477746\n",
       "\n"
      ],
      "text/plain": [
       "       fixed acidity     volatile acidity          citric acid \n",
       "          6.85478767           0.27824112           0.33419151 \n",
       "      residual sugar            chlorides  free sulfur dioxide \n",
       "          6.39141486           0.04577236          35.30808493 \n",
       "total sulfur dioxide              density                   pH \n",
       "        138.36065741           0.99402738           3.18826664 \n",
       "           sulphates              alcohol \n",
       "          0.48984688          10.51426705 "
      ]
     },
     "metadata": {},
     "output_type": "display_data"
    }
   ],
   "source": [
    "white_wine_mean  <- white_wine  %>% select(-quality)  %>% colMeans()\n",
    "white_wine_mean"
   ]
  },
  {
   "cell_type": "code",
   "execution_count": 40,
   "metadata": {},
   "outputs": [
    {
     "data": {},
     "metadata": {},
     "output_type": "display_data"
    },
    {
     "data": {
      "image/png": "[encoded data removed]",
      "text/plain": [
       "plot without title"
      ]
     },
     "metadata": {},
     "output_type": "display_data"
    }
   ],
   "source": [
    "\n",
    "options(repr.plot.height = 4, repr.plot.width = 4)\n",
    "white_wine_bar_chart  <- white_wine  %>% ggplot(aes(x = quality))+\n",
    "                    geom_bar()\n",
    "white_wine_bar_chart"
   ]
  },
  {
   "cell_type": "code",
   "execution_count": 41,
   "metadata": {},
   "outputs": [
    {
     "name": "stdout",
     "output_type": "stream",
     "text": [
      "Observations: 4,898\n",
      "Variables: 12\n",
      "$ `fixed acidity`        <dbl> 7.0, 6.3, 8.1, 7.2, 7.2, 8.1, 6.2, 7.0, 6.3,...\n",
      "$ `volatile acidity`     <dbl> 0.27, 0.30, 0.28, 0.23, 0.23, 0.28, 0.32, 0....\n",
      "$ `citric acid`          <dbl> 0.36, 0.34, 0.40, 0.32, 0.32, 0.40, 0.16, 0....\n",
      "$ `residual sugar`       <dbl> 20.70, 1.60, 6.90, 8.50, 8.50, 6.90, 7.00, 2...\n",
      "$ chlorides              <dbl> 0.045, 0.049, 0.050, 0.058, 0.058, 0.050, 0....\n",
      "$ `free sulfur dioxide`  <dbl> 45, 14, 30, 47, 47, 30, 30, 45, 14, 28, 11, ...\n",
      "$ `total sulfur dioxide` <dbl> 170, 132, 97, 186, 186, 97, 136, 170, 132, 1...\n",
      "$ density                <dbl> 1.0010, 0.9940, 0.9951, 0.9956, 0.9956, 0.99...\n",
      "$ pH                     <dbl> 3.00, 3.30, 3.26, 3.19, 3.19, 3.26, 3.18, 3....\n",
      "$ sulphates              <dbl> 0.45, 0.49, 0.44, 0.40, 0.40, 0.44, 0.47, 0....\n",
      "$ alcohol                <dbl> 8.8, 9.5, 10.1, 9.9, 9.9, 10.1, 9.6, 8.8, 9....\n",
      "$ quality                <int> 6, 6, 6, 6, 6, 6, 6, 6, 6, 6, 5, 5, 5, 7, 5,...\n"
     ]
    }
   ],
   "source": [
    "glimpse(white_wine)"
   ]
  },
  {
   "cell_type": "code",
   "execution_count": 42,
   "metadata": {},
   "outputs": [
    {
     "data": {},
     "metadata": {},
     "output_type": "display_data"
    },
    {
     "data": {
      "image/png": "[encoded data removed]",
      "text/plain": [
       "plot without title"
      ]
     },
     "metadata": {},
     "output_type": "display_data"
    }
   ],
   "source": [
    "white_wine_plot  <- white_wine  %>% ggplot(aes(x = alcohol, y = quality))+ \n",
    "                    geom_point()+\n",
    "                    xlab(\"Alcohol (ABV)\")+\n",
    "                    ylab(\"Quality\")\n",
    "white_wine_plot"
   ]
  },
  {
   "cell_type": "code",
   "execution_count": 43,
   "metadata": {},
   "outputs": [
    {
     "data": {},
     "metadata": {},
     "output_type": "display_data"
    },
    {
     "data": {
      "image/png": "[encoded data removed]",
      "text/plain": [
       "plot without title"
      ]
     },
     "metadata": {},
     "output_type": "display_data"
    }
   ],
   "source": [
    "white_wine_plot_sugar  <- white_wine  %>% ggplot(aes(x = `residual sugar`, y = quality))+ \n",
    "                    geom_point()+\n",
    "                    xlab(\"Residual Sugar\")+\n",
    "                    ylab(\"Quality\")\n",
    "white_wine_plot_sugar"
   ]
  },
  {
   "cell_type": "code",
   "execution_count": 44,
   "metadata": {},
   "outputs": [
    {
     "data": {},
     "metadata": {},
     "output_type": "display_data"
    },
    {
     "data": {
      "image/png": "[encoded data removed]",
      "text/plain": [
       "plot without title"
      ]
     },
     "metadata": {},
     "output_type": "display_data"
    }
   ],
   "source": [
    "white_wine_plot_pH  <- white_wine  %>% ggplot(aes(x = pH, y = quality))+ \n",
    "                    geom_point()+\n",
    "                    xlab(\"pH\")+\n",
    "                    ylab(\"Quality\")\n",
    "white_wine_plot_pH"
   ]
  },
  {
   "cell_type": "code",
   "execution_count": 45,
   "metadata": {},
   "outputs": [
    {
     "data": {
      "text/html": [
       "<ol class=list-inline>\n",
       "\t<li>2.72</li>\n",
       "\t<li>3.82</li>\n",
       "</ol>\n"
      ],
      "text/latex": [
       "\\begin{enumerate*}\n",
       "\\item 2.72\n",
       "\\item 3.82\n",
       "\\end{enumerate*}\n"
      ],
      "text/markdown": [
       "1. 2.72\n",
       "2. 3.82\n",
       "\n",
       "\n"
      ],
      "text/plain": [
       "[1] 2.72 3.82"
      ]
     },
     "metadata": {},
     "output_type": "display_data"
    }
   ],
   "source": [
    "ph_range  <- white_wine  %>% select(pH)  %>%  range()\n",
    "ph_range"
   ]
  },
  {
   "cell_type": "code",
   "execution_count": 49,
   "metadata": {},
   "outputs": [
    {
     "data": {
      "text/html": [
       "<ol class=list-inline>\n",
       "\t<li>2.74</li>\n",
       "\t<li>4.01</li>\n",
       "</ol>\n"
      ],
      "text/latex": [
       "\\begin{enumerate*}\n",
       "\\item 2.74\n",
       "\\item 4.01\n",
       "\\end{enumerate*}\n"
      ],
      "text/markdown": [
       "1. 2.74\n",
       "2. 4.01\n",
       "\n",
       "\n"
      ],
      "text/plain": [
       "[1] 2.74 4.01"
      ]
     },
     "metadata": {},
     "output_type": "display_data"
    }
   ],
   "source": [
    "ph_range_red <- red_wine  %>% select(pH)  %>% range()\n",
    "ph_range_red"
   ]
  },
  {
   "cell_type": "code",
   "execution_count": 47,
   "metadata": {},
   "outputs": [
    {
     "name": "stdout",
     "output_type": "stream",
     "text": [
      "Observations: 1,599\n",
      "Variables: 12\n",
      "$ `fixed acidity`        <dbl> 7.4, 7.8, 7.8, 11.2, 7.4, 7.4, 7.9, 7.3, 7.8...\n",
      "$ `volatile acidity`     <dbl> 0.700, 0.880, 0.760, 0.280, 0.700, 0.660, 0....\n",
      "$ `citric acid`          <dbl> 0.00, 0.00, 0.04, 0.56, 0.00, 0.00, 0.06, 0....\n",
      "$ `residual sugar`       <dbl> 1.9, 2.6, 2.3, 1.9, 1.9, 1.8, 1.6, 1.2, 2.0,...\n",
      "$ chlorides              <dbl> 0.076, 0.098, 0.092, 0.075, 0.076, 0.075, 0....\n",
      "$ `free sulfur dioxide`  <dbl> 11, 25, 15, 17, 11, 13, 15, 15, 9, 17, 15, 1...\n",
      "$ `total sulfur dioxide` <int> 34, 67, 54, 60, 34, 40, 59, 21, 18, 102, 65,...\n",
      "$ density                <dbl> 0.9978, 0.9968, 0.9970, 0.9980, 0.9978, 0.99...\n",
      "$ pH                     <dbl> 3.51, 3.20, 3.26, 3.16, 3.51, 3.51, 3.30, 3....\n",
      "$ sulphates              <dbl> 0.56, 0.68, 0.65, 0.58, 0.56, 0.56, 0.46, 0....\n",
      "$ alcohol                <dbl> 9.4, 9.8, 9.8, 9.8, 9.4, 9.4, 9.4, 10.0, 9.5...\n",
      "$ quality                <int> 5, 5, 5, 6, 5, 5, 5, 7, 7, 5, 5, 5, 5, 5, 5,...\n"
     ]
    }
   ],
   "source": [
    "glimpse(red_wine)"
   ]
  },
  {
   "cell_type": "code",
   "execution_count": 51,
   "metadata": {},
   "outputs": [
    {
     "data": {
      "text/html": [
       "<ol class=list-inline>\n",
       "\t<li>4.6</li>\n",
       "\t<li>15.9</li>\n",
       "</ol>\n"
      ],
      "text/latex": [
       "\\begin{enumerate*}\n",
       "\\item 4.6\n",
       "\\item 15.9\n",
       "\\end{enumerate*}\n"
      ],
      "text/markdown": [
       "1. 4.6\n",
       "2. 15.9\n",
       "\n",
       "\n"
      ],
      "text/plain": [
       "[1]  4.6 15.9"
      ]
     },
     "metadata": {},
     "output_type": "display_data"
    }
   ],
   "source": [
    "acidity_red  <- red_wine  %>% select(`fixed acidity`)  %>% range()\n",
    "acidity_red"
   ]
  },
  {
   "cell_type": "code",
   "execution_count": null,
   "metadata": {},
   "outputs": [],
   "source": []
  }
 ],
 "metadata": {
  "kernelspec": {
   "display_name": "R",
   "language": "R",
   "name": "ir"
  },
  "language_info": {
   "codemirror_mode": "r",
   "file_extension": ".r",
   "mimetype": "text/x-r-source",
   "name": "R",
   "pygments_lexer": "r",
   "version": "3.5.1"
  }
 },
 "nbformat": 4,
 "nbformat_minor": 2
}
